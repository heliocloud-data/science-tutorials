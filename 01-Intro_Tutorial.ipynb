{
 "cells": [
  {
   "cell_type": "markdown",
   "id": "19769403-a150-4c71-aead-3ac6c971aa3b",
   "metadata": {},
   "source": [
    "# Guide to Tutorials\n",
    "S. Antunes (APL)\n",
    "August 2022\n",
    "\n",
    "There are many tutorials here in the GSFC HelioClound instance, and we'll help walk you through them. At this point we'll assume you're already in your account and able to run a Notebook.  We will walk you through an overview of SMCE, examples of data reads from AWS S3 storage, using Dask for compute power, and working in IDL.  We also include a link to a local copy of the PyHC summer school package tutorials for SunPy, SpacePy, AstroPy, HAPI, and others."
   ]
  },
  {
   "cell_type": "markdown",
   "id": "b5be6ad3-6cf4-470b-9c4f-802e60f653bc",
   "metadata": {},
   "source": [
    "If you need help setting up an account, go to git.mysmce.com/heliocloud/cloud-tutorials"
   ]
  },
  {
   "cell_type": "markdown",
   "id": "8ef9a2d4-5610-4ec0-bc17-336bf87f1a25",
   "metadata": {},
   "source": [
    "## About SMCE\n",
    "\n",
    "A necessary overview of this SMCE AWS environment is given in [Services_README notebook](Services_README.ipynb). \n",
    "\n",
    "If you are interested in how to write in Jupyter notebooks to make attractive presentation-ready pages, read the [OutputTypes notebook](OutputTypes.ipynb)\n",
    "\n"
   ]
  },
  {
   "cell_type": "markdown",
   "id": "fff4c464-0c37-4174-9946-c3c10813f7bf",
   "metadata": {},
   "source": [
    "## Working with Python\n",
    "\n",
    "Practice examples for reading sample data in FITS, CDF or NetCDF is in [S3_all_tests notebook](S3_all_tests.ipynb), and a descriptive example of S3 reads for CDF in HelioCloud is in [S3_cdf_demo notebook](S3_cdf_demo.ipynb)\n",
    "\n",
    "Using Dask in a notebook is in [Dask-Gateway-Example notebook](Dask-Gateway-Example.ipynb)\n",
    "\n"
   ]
  },
  {
   "cell_type": "markdown",
   "id": "c740698f-05b9-459a-99f7-2e4f430b9ea6",
   "metadata": {},
   "source": [
    "## Working with IDL\n",
    "\n",
    "We provide an example for using IDL in the [IDL_examples notebook](IDL_examples.ipynb) and, additionally, accessing S3 in IDL in the [IDL-S3 notebook](IDL-S3.ipynb)\n"
   ]
  },
  {
   "cell_type": "markdown",
   "id": "8159f71d-db6d-495b-8c42-94d8d7945dc1",
   "metadata": {},
   "source": [
    "## Power users\n",
    "\n",
    "Pushing data on or off S3 using SFTP is in [SFTP service notebook](SFTP service.ipynb)\n",
    "\n",
    "A simple \"hello world\" in Fortran is in the [fortran_helloworld notebook](fortran_helloworld.ipynb)\n",
    "\n",
    "Updating your personal Conda environment is in the [Conda_instructions_for_cloud notebook](Conda_instructions_for_cloud.ipynb)"
   ]
  },
  {
   "cell_type": "markdown",
   "id": "929f5874-e5a2-4129-8115-b933e48e4fde",
   "metadata": {},
   "source": [
    "# PyHC Package Tutorials\n",
    "\n",
    "Tutorials for using the Python packages include the \n",
    "* [AstroPy tutorial](../summer-school/astropy-tutorial/README.md)\n",
    "* [HAPI tutorial](../summer-school/hapi-tutorial/README.md)\n",
    "* [Kamodo tutorial](../summer-school/kamodo-tutorial/README.md)\n",
    "* [OMMBV tutorial](../summer-school/ommbv-tutorial/README.md)\n",
    "* [PlasmaPy tutorial](../summer-school/plasmapy-tutorial/README.md)\n",
    "* [PySat tutorial](../summer-school/pysat-tutorial/README.md)\n",
    "* [PySPEDAS tutorial](../summer-school/pyspedas-tutorial/README.md)\n",
    "* [SolarMACH tutorial](../summer-school/solarmach-tutorial/README.md)\n",
    "* [SpacePy tutorial](../summer-school/spacepy-tutorial/README.md)\n",
    "* [Speasy tutorial](../summer-school/speasy-tutorial/README.md)\n",
    "* [SunPy tutorial](../summer-school/sunpy-tutorial/README.md)\n",
    "* [Vires-SWARM tutorial](../summer-school/vires-swarm-tutorial/README.md)\n",
    "\n",
    "All are available in the [PyHC Summer School directory](https://daskhub.hsdcloud.org/hub/user-redirect/lab/tree/efs/summer-school)\n"
   ]
  },
  {
   "cell_type": "code",
   "execution_count": null,
   "id": "62ca1bed-6f0e-4c0b-89dd-2bb721a75e27",
   "metadata": {},
   "outputs": [],
   "source": []
  }
 ],
 "metadata": {
  "kernelspec": {
   "display_name": "Python [conda env:idlpy]",
   "language": "python",
   "name": "conda-env-idlpy-py"
  },
  "language_info": {
   "codemirror_mode": {
    "name": "ipython",
    "version": 3
   },
   "file_extension": ".py",
   "mimetype": "text/x-python",
   "name": "python",
   "nbconvert_exporter": "python",
   "pygments_lexer": "ipython3",
   "version": "3.10.1"
  }
 },
 "nbformat": 4,
 "nbformat_minor": 5
}
