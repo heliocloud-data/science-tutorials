{
 "cells": [
  {
   "cell_type": "markdown",
   "id": "ccd002f1-593b-4315-90b3-57143fad11ae",
   "metadata": {},
   "source": [
    "### How to use CloudCatalog for accessing AIA data from HelioCloud\n",
    "draft, Dec 2024"
   ]
  },
  {
   "cell_type": "code",
   "execution_count": 1,
   "id": "45aa8553-7b6d-4c01-a5c8-91ce63b86675",
   "metadata": {},
   "outputs": [
    {
     "name": "stdout",
     "output_type": "stream",
     "text": [
      "How to use CloudCatalog for accessing AIA data from HelioCloud\n"
     ]
    }
   ],
   "source": [
    "print(\"How to use CloudCatalog for accessing AIA data from HelioCloud\")\n",
    "# see also https://pypi.org/project/cloudcatalog/\n",
    "# use 'pip install cloudcatalog' and 'pip install s3fs' to use\n",
    "import cloudcatalog\n",
    "import matplotlib.pyplot as plt\n",
    "import astropy.io.fits\n",
    "import math\n",
    "import s3fs"
   ]
  },
  {
   "cell_type": "code",
   "execution_count": 2,
   "id": "6dfd07b3-1faf-49c0-a300-a3f5e7c35eff",
   "metadata": {},
   "outputs": [
    {
     "name": "stdout",
     "output_type": "stream",
     "text": [
      "sample Searches\n",
      "Searching for any 'aia', there are 9 datasets\n",
      "\n",
      "Searching for any datasets with '193', '211' or '304' in them, just the dataIDs ['aia_0193', 'aia_0211', 'aia_0304', 'euvml_304', 'euvml_soho_304', 'euvml_stereoa_304', 'euvml_stereob_304', 'THG_L2_MAG_DED']\n",
      "\n",
      "Search for just '211', all metadata: [{'id': 'aia_0211', 'index': 's3://gov-nasa-hdrl-data1/sdo/aia/registries/', 'title': 'AIA 0211 FITS data', 'start': '2015-06-01T00:00:00Z', 'stop': '2021-12-31T23:59:59Z', 'modification': '2023-05-04:00:00:00Z', 'indextype': 'csv', 'filetype': 'fits'}]\n"
     ]
    }
   ],
   "source": [
    "fs=s3fs.S3FileSystem(anon=True) # bit needed to read from Cloud\n",
    "\n",
    "print(\"sample Searches\")\n",
    "search = cloudcatalog.EntireCatalogSearch()\n",
    "print(f\"Searching for any 'aia', there are {len(search.search_by_id('aia'))} datasets\")\n",
    "ids = [e['id'] for e in search.search_by_keywords(['193', '211', '304'])]\n",
    "print(\"\\nSearching for any datasets with '193', '211' or '304' in them, just the dataIDs\",ids)\n",
    "print(\"\\nSearch for just '211', all metadata:\",search.search_by_id('211'))"
   ]
  },
  {
   "cell_type": "code",
   "execution_count": 3,
   "id": "1aee1785-b996-4dfc-9aac-64c5332d3ccc",
   "metadata": {},
   "outputs": [
    {
     "name": "stdout",
     "output_type": "stream",
     "text": [
      "\n",
      "Getting the actual list of files from a search query\n",
      "351 files found\n",
      "\n",
      "Looking at the filelist query result\n",
      "For dataID aia_0193 over times 2020-02-01T00:00:00Z-2020-02-02T00:00:00Z, the first 3 files found are:\n",
      "['s3://gov-nasa-hdrl-data1/sdo/aia/20200201/0193/sdo_aia_h2_20200201T000000_0193_v1.fits', 's3://gov-nasa-hdrl-data1/sdo/aia/20200201/0193/sdo_aia_h2_20200201T000400_0193_v1.fits', 's3://gov-nasa-hdrl-data1/sdo/aia/20200201/0193/sdo_aia_h2_20200201T000800_0193_v1.fits']\n",
      "\n"
     ]
    }
   ],
   "source": [
    "print(\"\\nGetting the actual list of files from a search query\")\n",
    "myid, start, stop = 'aia_0193', '2020-02-01T00:00:00Z', '2020-02-02T00:00:00Z'\n",
    "fr=cloudcatalog.CloudCatalog(\"s3://gov-nasa-hdrl-data1/\")\n",
    "mycat = fr.request_cloud_catalog(myid, start_date=start, stop_date=stop)\n",
    "print(f\"{len(mycat)} files found\")\n",
    "print(\"\\nLooking at the filelist query result\")\n",
    "filelist = mycat['datakey'].to_list()\n",
    "print(f\"For dataID {myid} over times {start}-{stop}, the first 3 files found are:\\n{filelist[0:3]}\\n\")"
   ]
  },
  {
   "cell_type": "code",
   "execution_count": 4,
   "id": "b6878a8f-400f-4594-9346-51ecc4feb400",
   "metadata": {},
   "outputs": [
    {
     "name": "stdout",
     "output_type": "stream",
     "text": [
      "Running simple calc on 1st 3 files\n",
      "2020-02-01 00:00:00 , mean value= 191.15523592\n",
      "2020-02-01 00:04:00 , mean value= 191.21884312\n",
      "2020-02-01 00:08:00 , mean value= 191.32419744\n"
     ]
    }
   ],
   "source": [
    "print(\"Running simple calc on 1st 3 files\")\n",
    "for i in range(3):\n",
    "    myitem = mycat.iloc[i]\n",
    "    datastart = myitem['start']\n",
    "    filename = myitem['datakey']\n",
    "    hdul = astropy.io.fits.open(fs.open(filename))\n",
    "    print(datastart,\", mean value=\",hdul[1].data.mean())"
   ]
  },
  {
   "cell_type": "code",
   "execution_count": null,
   "id": "b6e3a6de-a79f-4f12-93aa-1304f0d1356d",
   "metadata": {},
   "outputs": [],
   "source": []
  }
 ],
 "metadata": {
  "kernelspec": {
   "display_name": "Python 3 (ipykernel)",
   "language": "python",
   "name": "python3"
  },
  "language_info": {
   "codemirror_mode": {
    "name": "ipython",
    "version": 3
   },
   "file_extension": ".py",
   "mimetype": "text/x-python",
   "name": "python",
   "nbconvert_exporter": "python",
   "pygments_lexer": "ipython3",
   "version": "3.11.11"
  }
 },
 "nbformat": 4,
 "nbformat_minor": 5
}
