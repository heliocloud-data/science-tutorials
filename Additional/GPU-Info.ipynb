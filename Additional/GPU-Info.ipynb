{
 "cells": [
  {
   "cell_type": "markdown",
   "id": "8a23bfff-fe56-46a9-9ca9-b89eeb40da79",
   "metadata": {},
   "source": [
    "# GPU Acceleration / Tensorflow Test Notebook\n",
    "\n",
    "Just run some basic tests to import and read off properties of the working environment to see\n",
    "if we are good for GPU accelerated computing"
   ]
  },
  {
   "cell_type": "code",
   "execution_count": 1,
   "id": "4a9e5d51-273c-4887-ab22-0bdcbba29cc8",
   "metadata": {},
   "outputs": [
    {
     "name": "stderr",
     "output_type": "stream",
     "text": [
      "2022-11-21 19:55:25.666342: I tensorflow/core/platform/cpu_feature_guard.cc:193] This TensorFlow binary is optimized with oneAPI Deep Neural Network Library (oneDNN) to use the following CPU instructions in performance-critical operations:  SSE4.1 SSE4.2 AVX AVX2 AVX512F AVX512_VNNI FMA\n",
      "To enable them in other operations, rebuild TensorFlow with the appropriate compiler flags.\n",
      "2022-11-21 19:55:25.750069: I tensorflow/core/util/util.cc:169] oneDNN custom operations are on. You may see slightly different numerical results due to floating-point round-off errors from different computation orders. To turn them off, set the environment variable `TF_ENABLE_ONEDNN_OPTS=0`.\n"
     ]
    }
   ],
   "source": [
    "import os\n",
    "from collections import defaultdict\n",
    "import tensorflow as tf\n",
    "import numpy as np\n",
    "from keras import backend as K\n",
    "from keras.layers import Conv2D, Input, BatchNormalization, LeakyReLU, ZeroPadding2D, UpSampling2D, MaxPool2D, Reshape, Activation\n",
    "from keras.layers import add, concatenate\n",
    "from keras.models import Model\n",
    "#from keras.utils import get_custom_objects\n",
    "from tensorflow.python.platform import build_info as tf_build_info\n",
    "from platform import python_version\n",
    "\n",
    "from numba import cuda"
   ]
  },
  {
   "cell_type": "code",
   "execution_count": 2,
   "id": "263ac0db-833a-4f3b-a5eb-53b8633a482e",
   "metadata": {},
   "outputs": [
    {
     "name": "stdout",
     "output_type": "stream",
     "text": [
      "Python version: 3.9.13\n",
      "TensorFlow version: 2.10.0\n",
      "Eager execution: True\n",
      "Keras version: 2.10.0\n",
      "Cuda version: 11.2\n",
      "Cudnn version: 8\n",
      "Cuda Build: True\n",
      "Tensor RT Build: False\n",
      "Num Physical GPUs Available:  1\n",
      "Num Logical GPUs Available:  1\n"
     ]
    },
    {
     "name": "stderr",
     "output_type": "stream",
     "text": [
      "2022-11-21 19:55:28.811884: I tensorflow/stream_executor/cuda/cuda_gpu_executor.cc:980] successful NUMA node read from SysFS had negative value (-1), but there must be at least one NUMA node, so returning NUMA node zero\n",
      "2022-11-21 19:55:28.847233: I tensorflow/stream_executor/cuda/cuda_gpu_executor.cc:980] successful NUMA node read from SysFS had negative value (-1), but there must be at least one NUMA node, so returning NUMA node zero\n",
      "2022-11-21 19:55:28.847627: I tensorflow/stream_executor/cuda/cuda_gpu_executor.cc:980] successful NUMA node read from SysFS had negative value (-1), but there must be at least one NUMA node, so returning NUMA node zero\n",
      "2022-11-21 19:55:28.848801: I tensorflow/core/platform/cpu_feature_guard.cc:193] This TensorFlow binary is optimized with oneAPI Deep Neural Network Library (oneDNN) to use the following CPU instructions in performance-critical operations:  SSE4.1 SSE4.2 AVX AVX2 AVX512F AVX512_VNNI FMA\n",
      "To enable them in other operations, rebuild TensorFlow with the appropriate compiler flags.\n",
      "2022-11-21 19:55:28.849505: I tensorflow/stream_executor/cuda/cuda_gpu_executor.cc:980] successful NUMA node read from SysFS had negative value (-1), but there must be at least one NUMA node, so returning NUMA node zero\n",
      "2022-11-21 19:55:28.849829: I tensorflow/stream_executor/cuda/cuda_gpu_executor.cc:980] successful NUMA node read from SysFS had negative value (-1), but there must be at least one NUMA node, so returning NUMA node zero\n",
      "2022-11-21 19:55:28.850076: I tensorflow/stream_executor/cuda/cuda_gpu_executor.cc:980] successful NUMA node read from SysFS had negative value (-1), but there must be at least one NUMA node, so returning NUMA node zero\n",
      "2022-11-21 19:55:29.544099: I tensorflow/stream_executor/cuda/cuda_gpu_executor.cc:980] successful NUMA node read from SysFS had negative value (-1), but there must be at least one NUMA node, so returning NUMA node zero\n",
      "2022-11-21 19:55:29.544435: I tensorflow/stream_executor/cuda/cuda_gpu_executor.cc:980] successful NUMA node read from SysFS had negative value (-1), but there must be at least one NUMA node, so returning NUMA node zero\n",
      "2022-11-21 19:55:29.544691: I tensorflow/stream_executor/cuda/cuda_gpu_executor.cc:980] successful NUMA node read from SysFS had negative value (-1), but there must be at least one NUMA node, so returning NUMA node zero\n",
      "2022-11-21 19:55:29.544912: I tensorflow/core/common_runtime/gpu/gpu_device.cc:1616] Created device /job:localhost/replica:0/task:0/device:GPU:0 with 222 MB memory:  -> device: 0, name: Tesla T4, pci bus id: 0000:00:1e.0, compute capability: 7.5\n"
     ]
    }
   ],
   "source": [
    "# Get Basic INfo\n",
    "print(\"Python version: {}\".format(python_version()))\n",
    "print(\"TensorFlow version: {}\".format(tf.__version__))\n",
    "print(\"Eager execution: {}\".format(tf.executing_eagerly()))\n",
    "print(\"Keras version: {}\".format(tf.keras.__version__))\n",
    "print(\"Cuda version: {}\".format(tf_build_info.build_info['cuda_version']))\n",
    "print(\"Cudnn version: {}\".format(tf_build_info.build_info['cudnn_version']))\n",
    "print(\"Cuda Build: {}\".format(tf_build_info.build_info['is_cuda_build']))\n",
    "print(\"Tensor RT Build: {}\".format(tf_build_info.build_info['is_tensorrt_build']))\n",
    "print(\"Num Physical GPUs Available: \", len(tf.config.experimental.list_physical_devices('GPU')))\n",
    "print(\"Num Logical GPUs Available: \", len(tf.config.experimental.list_logical_devices('GPU')))"
   ]
  },
  {
   "cell_type": "code",
   "execution_count": 3,
   "id": "4640e248-7891-4c11-84a0-77873042d8bf",
   "metadata": {},
   "outputs": [
    {
     "data": {
      "text/plain": [
       "OrderedDict([('cpu_compiler',\n",
       "              '/home/conda/feedstock_root/build_artifacts/tensorflow-split_1663959528168/_build_env/bin/x86_64-conda-linux-gnu-gcc'),\n",
       "             ('cuda_compute_capabilities',\n",
       "              ['sm_35',\n",
       "               'sm_50',\n",
       "               'sm_60',\n",
       "               'sm_62',\n",
       "               'sm_70',\n",
       "               'sm_72',\n",
       "               'sm_75',\n",
       "               'sm_80',\n",
       "               'sm_86',\n",
       "               'compute_86']),\n",
       "             ('cuda_version', '11.2'),\n",
       "             ('cudnn_version', '8'),\n",
       "             ('is_cuda_build', True),\n",
       "             ('is_rocm_build', False),\n",
       "             ('is_tensorrt_build', False)])"
      ]
     },
     "execution_count": 3,
     "metadata": {},
     "output_type": "execute_result"
    }
   ],
   "source": [
    "tf_build_info.build_info"
   ]
  },
  {
   "cell_type": "code",
   "execution_count": 4,
   "id": "abcedd3f-64bc-4bd8-8723-727adc45064f",
   "metadata": {},
   "outputs": [
    {
     "data": {
      "text/plain": [
       "[PhysicalDevice(name='/physical_device:CPU:0', device_type='CPU'),\n",
       " PhysicalDevice(name='/physical_device:GPU:0', device_type='GPU')]"
      ]
     },
     "execution_count": 4,
     "metadata": {},
     "output_type": "execute_result"
    }
   ],
   "source": [
    "# this should show a GPU if things are configed right\n",
    "tf.config.list_physical_devices()"
   ]
  },
  {
   "cell_type": "code",
   "execution_count": null,
   "id": "639bb67b-7489-42f1-b2f0-e0f345ca3a03",
   "metadata": {},
   "outputs": [],
   "source": []
  }
 ],
 "metadata": {
  "kernelspec": {
   "display_name": "Python 3 (ipykernel)",
   "language": "python",
   "name": "python3"
  },
  "language_info": {
   "codemirror_mode": {
    "name": "ipython",
    "version": 3
   },
   "file_extension": ".py",
   "mimetype": "text/x-python",
   "name": "python",
   "nbconvert_exporter": "python",
   "pygments_lexer": "ipython3",
   "version": "3.9.13"
  }
 },
 "nbformat": 4,
 "nbformat_minor": 5
}
