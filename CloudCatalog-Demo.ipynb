{
 "cells": [
  {
   "cell_type": "markdown",
   "id": "9e879704-7e19-4a4c-bc03-c0a2f964a7c4",
   "metadata": {},
   "source": [
    "# Cloud Catalog Demo\n",
    "\n",
    "The cloudcatalog standard enables any Python script that can see AWS to access the Petabytes of data stored in the GSFC, APL and other HelioCloud data repositories.  Both data from the NASA public and TOPS (Transform to Open Science) AWS data stores and data that other HelioClouds have made public are equally accessible via this interface.  Currently cloudcatalog lets you access datasets you are aware of, or walk through the public listing of available datasets.  Search and improved findability are expected future features."
   ]
  },
  {
   "cell_type": "markdown",
   "id": "8da30f45-c93f-4cf9-bfe1-cdef051fe387",
   "metadata": {
    "tags": []
   },
   "source": [
    "## Setup"
   ]
  },
  {
   "cell_type": "markdown",
   "id": "af0eb175-e29d-44e4-9726-83421a8518bf",
   "metadata": {},
   "source": [
    "If you are not in HelioCloud and wish to run this demo, you may have to type \"%pip install cloudcatalog\" into a code cell to import the catalog-access package that finds HelioCloud analysis cache datasets."
   ]
  },
  {
   "cell_type": "code",
   "execution_count": 1,
   "id": "5e92ddc5-b67f-419b-bce9-7e1192859132",
   "metadata": {
    "tags": []
   },
   "outputs": [],
   "source": [
    "import cloudcatalog\n",
    "import cdflib\n",
    "import matplotlib.pyplot as plt\n",
    "from pprint import pprint"
   ]
  },
  {
   "cell_type": "markdown",
   "id": "8400f687-e3ba-4f50-a655-136e1f48447b",
   "metadata": {},
   "source": [
    "## Params"
   ]
  },
  {
   "cell_type": "markdown",
   "id": "e7624a32-9f8d-4735-9f9c-251d292deecd",
   "metadata": {},
   "source": [
    "## Searching for data with EntireCatalogSearch"
   ]
  },
  {
   "cell_type": "code",
   "execution_count": null,
   "id": "9f00a411-42e5-426f-9f5d-d798d39c4b73",
   "metadata": {},
   "outputs": [],
   "source": [
    "search = cloudcatalog.EntireCatalogSearch()"
   ]
  },
  {
   "cell_type": "code",
   "execution_count": null,
   "id": "7fb78465-3da1-4e58-8536-fdec109e7896",
   "metadata": {},
   "outputs": [],
   "source": [
    "search.search_by_id('mms1_feeps')"
   ]
  },
  {
   "cell_type": "code",
   "execution_count": null,
   "id": "53f864e3-0ce3-4ab5-838a-a6ceee02d5fe",
   "metadata": {},
   "outputs": [],
   "source": [
    "search.search_by_id('srvy_ion')"
   ]
  },
  {
   "cell_type": "code",
   "execution_count": null,
   "id": "3a390502-3be2-4ad1-91f7-8c957c1530d9",
   "metadata": {},
   "outputs": [],
   "source": [
    "search.search_by_title('mms1/fpi/b')"
   ]
  },
  {
   "cell_type": "code",
   "execution_count": null,
   "id": "237a8eab-6e4c-444e-9c37-ad2699c3a463",
   "metadata": {},
   "outputs": [],
   "source": [
    "search.search_by_title('des-dist')[:2]"
   ]
  },
  {
   "cell_type": "code",
   "execution_count": null,
   "id": "f8284234-98b6-4c61-b08d-2bb63d95497a",
   "metadata": {},
   "outputs": [],
   "source": [
    "search.search_by_keywords(['mms2', 'brst', 'apples'])[:3]"
   ]
  },
  {
   "cell_type": "markdown",
   "id": "b15df548-c5e1-413a-85e2-9d3e10b87d73",
   "metadata": {},
   "source": [
    "## Working with the global catalog (..the name)"
   ]
  },
  {
   "cell_type": "code",
   "execution_count": null,
   "id": "fcbc3652-6191-41b0-8407-217c54360852",
   "metadata": {},
   "outputs": [],
   "source": [
    "cr = cloudcatalog.CatalogRegistry()"
   ]
  },
  {
   "cell_type": "code",
   "execution_count": null,
   "id": "cd09c713-0006-421d-94cb-353073432bea",
   "metadata": {},
   "outputs": [],
   "source": [
    "cr.get_catalog()"
   ]
  },
  {
   "cell_type": "code",
   "execution_count": null,
   "id": "371e2b32-1533-4e4d-be2a-e2215f562eb0",
   "metadata": {},
   "outputs": [],
   "source": [
    "cr.get_registry()"
   ]
  },
  {
   "cell_type": "code",
   "execution_count": null,
   "id": "e0dbd4eb-efce-4551-a162-011ccb07ec1b",
   "metadata": {},
   "outputs": [],
   "source": [
    "cr.get_entries()"
   ]
  },
  {
   "cell_type": "code",
   "execution_count": null,
   "id": "a67bde5f-4f5b-4f21-abdd-8fe92468675b",
   "metadata": {},
   "outputs": [],
   "source": [
    "endpoint = cr.get_endpoint('GSFC HelioCloud Public Temp')\n",
    "endpoint"
   ]
  },
  {
   "cell_type": "code",
   "execution_count": null,
   "id": "47b803bd-dd45-4bd6-8d35-8c56a29f39c5",
   "metadata": {},
   "outputs": [],
   "source": [
    "cr.catalog"
   ]
  },
  {
   "cell_type": "markdown",
   "id": "93ad4736-f3b8-41e5-8dca-c8dfa006e4fc",
   "metadata": {},
   "source": [
    "## Working with a local catalog"
   ]
  },
  {
   "cell_type": "code",
   "execution_count": null,
   "id": "2e801f1c-eecf-45be-9dc4-46b0dc32eb2b",
   "metadata": {
    "tags": []
   },
   "outputs": [],
   "source": [
    "fr = cloudcatalog.CloudCatalog(endpoint, cache=True)"
   ]
  },
  {
   "cell_type": "code",
   "execution_count": null,
   "id": "c459c1f5-5d9d-4a12-b4ba-2d7189a0ca67",
   "metadata": {
    "tags": []
   },
   "outputs": [],
   "source": [
    "fr.get_catalog()"
   ]
  },
  {
   "cell_type": "code",
   "execution_count": null,
   "id": "342bde4f-6c15-4b42-9b5b-73740eef9bbf",
   "metadata": {},
   "outputs": [],
   "source": [
    "fr_id1 = 'mms1_feeps_brst_electron'\n",
    "fr_id2 = 'mmm2_feeps_brst_electron'\n",
    "start_date = '2020-02-01T00:00:00Z'\n",
    "stop_date =   '2020-02-02T00:00:00Z'"
   ]
  },
  {
   "cell_type": "code",
   "execution_count": null,
   "id": "d964379a-90f4-4250-af42-964e6efdd8c4",
   "metadata": {},
   "outputs": [],
   "source": [
    "pprint(fr.get_entry(fr_id1))"
   ]
  },
  {
   "cell_type": "code",
   "execution_count": null,
   "id": "15581bf1-cebd-4ad5-8100-f5a0fb08f3d8",
   "metadata": {},
   "outputs": [],
   "source": [
    "cloud_catalog1 = fr.request_cloud_catalog(fr_id1, start_date=start_date, stop_date=stop_date, overwrite=False)"
   ]
  },
  {
   "cell_type": "code",
   "execution_count": null,
   "id": "8bb727b6-4e7a-4a80-882c-32e145345fd7",
   "metadata": {},
   "outputs": [],
   "source": [
    "cloud_catalog1"
   ]
  },
  {
   "cell_type": "code",
   "execution_count": null,
   "id": "be0897b3-73d7-458a-9d5d-240d556dd96c",
   "metadata": {},
   "outputs": [],
   "source": [
    "print('Python Hash of File | Start Date | File Size')\n",
    "fr.stream(cloud_catalog1, lambda bo, d, f: print(hash(bo.read()), d.replace(' ', 'T')+'Z', f))"
   ]
  },
  {
   "cell_type": "code",
   "execution_count": null,
   "id": "0de74ccc-ad9e-44d5-a07d-409ab90e80f5",
   "metadata": {
    "tags": []
   },
   "outputs": [],
   "source": [
    "def plot_cdf(s3_uri, d, f):\n",
    "    print(len(cdflib.CDF(s3_uri).cdf_info()[\"zVariables\"]), d.replace(' ', 'T')+'Z', f)\n",
    "    \n",
    "    cdf = cdflib.CDF(s3_uri)\n",
    "\n",
    "    # Get the variable name and its data\n",
    "    var_name = cdf.cdf_info()[\"zVariables\"][2]\n",
    "    var_data = cdf.varget(var_name)\n",
    "\n",
    "    # Plot the variable\n",
    "    plt.figure()\n",
    "    plt.plot(var_data)\n",
    "    plt.xlabel(\"Index\")\n",
    "    plt.ylabel(var_name)\n",
    "    plt.title(f\"Plot of {var_name}\")\n",
    "    plt.show()\n",
    "\n",
    "print('# of zVariables | Start Date | File Size')\n",
    "fr.stream_uri(cloud_catalog1[:2], lambda s3_uri, d, f: plot_cdf(s3_uri, d, f))"
   ]
  },
  {
   "cell_type": "code",
   "execution_count": null,
   "id": "24e3d8c3-5544-40c6-9e1f-f2fd14df5c20",
   "metadata": {},
   "outputs": [],
   "source": []
  },
  {
   "cell_type": "code",
   "execution_count": null,
   "id": "2e0b8c9c-c1d3-4c28-80c4-597c16a2fec6",
   "metadata": {},
   "outputs": [],
   "source": []
  }
 ],
 "metadata": {
  "kernelspec": {
   "display_name": "Python 3 (ipykernel)",
   "language": "python",
   "name": "python3"
  },
  "language_info": {
   "codemirror_mode": {
    "name": "ipython",
    "version": 3
   },
   "file_extension": ".py",
   "mimetype": "text/x-python",
   "name": "python",
   "nbconvert_exporter": "python",
   "pygments_lexer": "ipython3",
   "version": "3.10.8"
  }
 },
 "nbformat": 4,
 "nbformat_minor": 5
}
