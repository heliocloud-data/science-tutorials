{
 "cells": [
  {
   "cell_type": "markdown",
   "id": "d8625006",
   "metadata": {},
   "source": [
    "# Decision Boundary Example #"
   ]
  },
  {
   "cell_type": "code",
   "execution_count": 2,
   "id": "5e4c5668-dc46-4317-b2d2-dc80c5ce68fc",
   "metadata": {},
   "outputs": [
    {
     "name": "stdout",
     "output_type": "stream",
     "text": [
      "Num GPUs Available:  1\n"
     ]
    },
    {
     "name": "stderr",
     "output_type": "stream",
     "text": [
      "2024-11-19 16:04:48.934365: I tensorflow/stream_executor/cuda/cuda_gpu_executor.cc:980] successful NUMA node read from SysFS had negative value (-1), but there must be at least one NUMA node, so returning NUMA node zero\n",
      "2024-11-19 16:04:48.995904: I tensorflow/stream_executor/cuda/cuda_gpu_executor.cc:980] successful NUMA node read from SysFS had negative value (-1), but there must be at least one NUMA node, so returning NUMA node zero\n",
      "2024-11-19 16:04:48.996193: I tensorflow/stream_executor/cuda/cuda_gpu_executor.cc:980] successful NUMA node read from SysFS had negative value (-1), but there must be at least one NUMA node, so returning NUMA node zero\n"
     ]
    }
   ],
   "source": [
    "import tensorflow as tf\n",
    "print(\"Num GPUs Available: \", len(tf.config.list_physical_devices('GPU')))"
   ]
  },
  {
   "cell_type": "markdown",
   "id": "6e78e8dd-b5cb-45e5-b5c4-6b9d06ad9353",
   "metadata": {
    "id": "6e78e8dd-b5cb-45e5-b5c4-6b9d06ad9353"
   },
   "source": [
    "We are going to build a model to create a \"decision boundary\" or \"discrimination boundary\". We will use a fictional dataset. To start, we will load the modules required to accomplish this task. "
   ]
  },
  {
   "cell_type": "code",
   "execution_count": 2,
   "id": "61b23336-fd4c-423f-9cde-722b3965bfac",
   "metadata": {
    "id": "61b23336-fd4c-423f-9cde-722b3965bfac"
   },
   "outputs": [],
   "source": [
    "import numpy as np\n",
    "import matplotlib.pyplot as plt\n",
    "import pandas as pd"
   ]
  },
  {
   "cell_type": "markdown",
   "id": "cdb6ca8c-0e01-4eeb-96af-742615ffd611",
   "metadata": {},
   "source": [
    "In this case the three elements of the machine learning model are\n",
    "- Experience/Data/Input: a collection of labeled data points representing two measured parameters of flowers:  petal width and stem height. \n",
    "- Task: train the model to classify a flower either as an \"iris\" or a \"rose\" \n",
    "- Performance/Cost function: Minimize the mean squared error of flowers that are incorrectly classified"
   ]
  },
  {
   "cell_type": "markdown",
   "id": "801deaf0-4821-45f9-b114-28b858fe5b4b",
   "metadata": {
    "id": "801deaf0-4821-45f9-b114-28b858fe5b4b"
   },
   "source": [
    "Next, we define some program parameters. These can be modified which will change the results. For clarity, the `starting_weights` variable takes one of three values which will come into play in the next segment."
   ]
  },
  {
   "cell_type": "code",
   "execution_count": 1,
   "id": "072498f4-2bb1-467c-b380-4a38b5f0c581",
   "metadata": {
    "id": "072498f4-2bb1-467c-b380-4a38b5f0c581"
   },
   "outputs": [],
   "source": [
    "epochs = 500\n",
    "batch_size = 4\n",
    "starting_weights = 2 # 0: bad -- 1: good == 2: random"
   ]
  },
  {
   "cell_type": "markdown",
   "id": "678b2f6c-3a42-422e-a9e9-06bbef7feb9a",
   "metadata": {
    "id": "678b2f6c-3a42-422e-a9e9-06bbef7feb9a"
   },
   "source": [
    "This next section will choose the learning rate and initial weights based on your choice for `starting_weights`."
   ]
  },
  {
   "cell_type": "code",
   "execution_count": 4,
   "id": "0bf7e633-6298-4e75-a3f5-c9cfa59d45bd",
   "metadata": {
    "id": "0bf7e633-6298-4e75-a3f5-c9cfa59d45bd"
   },
   "outputs": [],
   "source": [
    "if starting_weights == 0:\n",
    "    learning_rate = 2e-2\n",
    "    weights = np.array([[-1.6,-0.15,1.33]]).T\n",
    "elif starting_weights == 1:\n",
    "    learning_rate = 1e-3\n",
    "    weights = np.array([[1.85,-2.25,-0.35]]).T\n",
    "elif starting_weights == 2:\n",
    "    learning_rate = 1e-3\n",
    "    weights = np.random.normal(loc=0,scale=1,size=[3,1])\n",
    "else:\n",
    "    raise ValueError('Invalid argument for starting_weights. Must be 0, 1, or 2. You chose',starting_weights)"
   ]
  },
  {
   "cell_type": "markdown",
   "id": "e25f0866-905d-4682-a38a-4b12518be518",
   "metadata": {
    "id": "e25f0866-905d-4682-a38a-4b12518be518"
   },
   "source": [
    "The following section defines all required functions to make the program run efficiently. They also allow for the training section of the code to be easier to comprehend."
   ]
  },
  {
   "cell_type": "code",
   "execution_count": 5,
   "id": "41da4013-0a66-45ec-81d6-d7f8871aff44",
   "metadata": {
    "id": "41da4013-0a66-45ec-81d6-d7f8871aff44"
   },
   "outputs": [],
   "source": [
    "def sigmoid(x):\n",
    "    # returns sigmoid output for a given value `x`\n",
    "    return 1/(1+np.exp(-x))\n",
    "def sigmoid_deriv(x):\n",
    "    # returns derivative sigmoid output for a given value `x` (used for backpropagation)\n",
    "    return sigmoid(x)*(1-sigmoid(x))\n",
    "def loss_mse(y,yhat):\n",
    "    # computes the mean squared error between the truth `y` and the prediction `yhat`\n",
    "    return np.power(y-yhat,2)\n",
    "def loss_deriv(y,yhat):\n",
    "    # computes the derivative of the mean squared error (used for backpropagation)\n",
    "    return -2 * (y-yhat)\n",
    "def forward_pass(x,weights):\n",
    "    # takes the x- and y-coordinates and runs the model to get a prediction\n",
    "    inputs = np.array([[x[0],x[1],1.]])\n",
    "    return sigmoid((inputs@weights)[0])\n",
    "def backward_pass(x,weights):\n",
    "    # computing the output of the sigmoid derivative through the model\n",
    "    inputs = np.array([[x[0],x[1],1.]])\n",
    "    return sigmoid_deriv((inputs@weights)[0]) * inputs.T\n",
    "def predict(x,weights):\n",
    "    # makes prediction (either blue or red) based on the x,y coordinates\n",
    "    y_pred = forward_pass(x,weights)\n",
    "    out = int(np.round(y_pred))\n",
    "    print([\"Blue\",\"Red\"][out])\n",
    "def plot_line(ax,weights):\n",
    "    # first, traverse up left edge of plot and find where model predicts blue\n",
    "    y_test = np.linspace(0,4,100)\n",
    "    cL = 0\n",
    "    while forward_pass(np.array([0.9,y_test[cL]]),weights) > 0.5 and cL < len(y_test)-1:\n",
    "        cL += 1\n",
    "    # next, traverse up right edge of plot and find where model predicts blue\n",
    "    cR = 0\n",
    "    while forward_pass(np.array([3.1,y_test[cR]]),weights) > 0.5 and cR < len(y_test)-1:\n",
    "        cR += 1\n",
    "    # plot line that goes through the boundary discrimination points\n",
    "    line1, = ax.plot([0.9,3.1],[y_test[cL],y_test[cR]],color='black')\n",
    "    return line1 # return line object, so we can delete it before plotting another line\n",
    "def shuffle(x,y):\n",
    "    ind = np.linspace(0,len(y)-1,len(y),dtype='int')\n",
    "    np.random.shuffle(ind)\n",
    "    return x[ind,:], y[ind]"
   ]
  },
  {
   "cell_type": "markdown",
   "id": "e16d9ab3-e8d5-4aa5-a774-928c6e2a424e",
   "metadata": {
    "id": "e16d9ab3-e8d5-4aa5-a774-928c6e2a424e"
   },
   "source": [
    "Next, we load the data file. This file contains 100 samples. Each sample is of the form (x1_coordinate, x2_coordinate, value) where value is either 0 or 1 (blue or red)."
   ]
  },
  {
   "cell_type": "code",
   "execution_count": 6,
   "id": "536da485-1c56-466d-bad5-bac9d644c6bd",
   "metadata": {
    "id": "536da485-1c56-466d-bad5-bac9d644c6bd"
   },
   "outputs": [],
   "source": [
    "data = pd.read_csv('https://raw.githubusercontent.com/HelioAnalytics/EPSCOR_Hackweek/main/Course%20Materials/flowers.csv',header=None,index_col=None).values\n",
    "x = data[:,0:2]\n",
    "y = data[:,-1]"
   ]
  },
  {
   "cell_type": "markdown",
   "id": "493a8d50-b88d-414b-90f2-a28d788249fa",
   "metadata": {
    "id": "493a8d50-b88d-414b-90f2-a28d788249fa"
   },
   "source": [
    "Plot data to visualize dataset. The black line is the discrimination boundary with the initial weights"
   ]
  },
  {
   "cell_type": "code",
   "execution_count": 7,
   "id": "a4959aec-e824-47c6-b3b4-6447d945b0dc",
   "metadata": {
    "colab": {
     "base_uri": "https://localhost:8080/",
     "height": 326
    },
    "id": "a4959aec-e824-47c6-b3b4-6447d945b0dc",
    "outputId": "f61c390b-d4cc-4047-c622-54c6b0140e34"
   },
   "outputs": [
    {
     "data": {
      "text/plain": [
       "<matplotlib.lines.Line2D at 0x7fa9f2eb82e0>"
      ]
     },
     "execution_count": 7,
     "metadata": {},
     "output_type": "execute_result"
    },
    {
     "data": {
      "image/png": "[encoded data removed]",
      "text/plain": [
       "<Figure size 432x288 with 1 Axes>"
      ]
     },
     "metadata": {
      "needs_background": "light"
     },
     "output_type": "display_data"
    }
   ],
   "source": [
    "fig,ax=plt.subplots()\n",
    "ax.scatter(data[data[:,2]==0,0],data[data[:,2]==0,1],color='blue',label='Iris')\n",
    "ax.scatter(data[data[:,2]==1,0],data[data[:,2]==1,1],color='red',label='Rose')\n",
    "ax.set_xlabel('Petal Width')\n",
    "ax.set_ylabel('Stem Height')\n",
    "ax.set_xlim([0.95,3.05])\n",
    "ax.set_ylim([-0.05,4.25])\n",
    "fig.legend(ncol=2,loc='upper center')\n",
    "plot_line(ax,weights)"
   ]
  },
  {
   "cell_type": "markdown",
   "id": "81c4eafb-413b-4189-afbf-9fbbf861c409",
   "metadata": {
    "id": "81c4eafb-413b-4189-afbf-9fbbf861c409"
   },
   "source": [
    "Here is the main training loop. We have commented out the line to shuffle the data but that can be un-commented. Read the comments throughout the loop to understand what is going on."
   ]
  },
  {
   "cell_type": "code",
   "execution_count": 8,
   "id": "6994f8fc-cf70-4944-83d5-32e9bc1fe4d1",
   "metadata": {
    "id": "6994f8fc-cf70-4944-83d5-32e9bc1fe4d1"
   },
   "outputs": [],
   "source": [
    "loss = []\n",
    "for epoch in range(epochs):\n",
    "    # x,y = shuffle(x,y) # shuffle order of data (uncomment to implement shuffling)\n",
    "    # initialize lists\n",
    "    loss_epoch = []\n",
    "    batch = []\n",
    "    for i in range(x.shape[0]):\n",
    "        y_pred = forward_pass(x[i,:],weights) # do forward pass to get prediction\n",
    "        loss_epoch.append(loss_mse(y[i],y_pred)) # compute loss and add it to list\n",
    "        lossD = loss_deriv(y[i],y_pred) # compute derivative of loss (2*(y-ypred))\n",
    "        # Compute gradient for this sample, it will be averaged across batch\n",
    "        batch.append(learning_rate * lossD * backward_pass(x[i,:],weights))\n",
    "        if (i+1) % batch_size == 0:\n",
    "            weights -= np.mean(batch,0) # adjust weights based on average loss\n",
    "            batch = [] # re-initialize list\n",
    "    loss.append(np.mean(loss_epoch))\n"
   ]
  },
  {
   "cell_type": "markdown",
   "id": "dee0f15a-1f1b-407f-906d-9e6b4caec6ad",
   "metadata": {
    "id": "dee0f15a-1f1b-407f-906d-9e6b4caec6ad"
   },
   "source": [
    "Now let's plot the data with the final discrimination boundary (black line)."
   ]
  },
  {
   "cell_type": "code",
   "execution_count": 9,
   "id": "39c66795-ac96-4da3-833a-b8597a71b4d2",
   "metadata": {
    "colab": {
     "base_uri": "https://localhost:8080/",
     "height": 309
    },
    "id": "39c66795-ac96-4da3-833a-b8597a71b4d2",
    "outputId": "104c1626-175c-4ad4-e9cb-2e6938e1f777"
   },
   "outputs": [
    {
     "data": {
      "image/png": "[encoded data removed]",
      "text/plain": [
       "<Figure size 432x288 with 1 Axes>"
      ]
     },
     "metadata": {
      "needs_background": "light"
     },
     "output_type": "display_data"
    }
   ],
   "source": [
    "fig,ax=plt.subplots()\n",
    "ax.scatter(data[data[:,2]==0,0],data[data[:,2]==0,1],color='blue',label='Iris')\n",
    "ax.scatter(data[data[:,2]==1,0],data[data[:,2]==1,1],color='red',label='Rose')\n",
    "ax.set_xlabel('Petal Width')\n",
    "ax.set_ylabel('Stem Height')\n",
    "ax.set_xlim([0.95,3.05])\n",
    "ax.set_ylim([-0.05,4.25])\n",
    "fig.legend(ncol=2,loc='upper center')\n",
    "line1 = plot_line(ax,weights)"
   ]
  },
  {
   "cell_type": "markdown",
   "id": "840b3b22-73fc-4f1e-85cf-980846f9d491",
   "metadata": {
    "id": "840b3b22-73fc-4f1e-85cf-980846f9d491"
   },
   "source": [
    "Finally, let's plot the loss curve. This will show the average mean squared error after every epoch. If the training is set up correctly, the loss will decrease continuously through training."
   ]
  },
  {
   "cell_type": "code",
   "execution_count": 10,
   "id": "61fe9b47-c024-4c7b-af1e-5236ea06a0a8",
   "metadata": {
    "colab": {
     "base_uri": "https://localhost:8080/",
     "height": 282
    },
    "id": "61fe9b47-c024-4c7b-af1e-5236ea06a0a8",
    "outputId": "5607354a-1fca-4d15-e961-8cff124db0d9"
   },
   "outputs": [
    {
     "data": {
      "image/png": "[encoded data removed]",
      "text/plain": [
       "<Figure size 432x288 with 1 Axes>"
      ]
     },
     "metadata": {
      "needs_background": "light"
     },
     "output_type": "display_data"
    }
   ],
   "source": [
    "fig,ax=plt.subplots()\n",
    "plt.plot(np.linspace(1,500,500),loss,color='black')\n",
    "plt.xlabel('Epochs')\n",
    "plt.ylabel('Loss')\n",
    "plt.grid()"
   ]
  },
  {
   "cell_type": "markdown",
   "id": "141cc761-5e42-403a-a054-b7eb3db1cb5a",
   "metadata": {},
   "source": [
    "# Exploration #"
   ]
  },
  {
   "cell_type": "markdown",
   "id": "f788f2cb",
   "metadata": {},
   "source": [
    "- What happens if the separation between the datasets isn't so clear?  \n",
    "- How would you approach this problem if the boundary wasn't a straight line?\n",
    "- Do the hyperparameters for batch size, number of epochs, and learning rates have more impact on the speed or the accuracy of the model? "
   ]
  },
  {
   "cell_type": "markdown",
   "id": "bd4bb385",
   "metadata": {},
   "source": []
  }
 ],
 "metadata": {
  "colab": {
   "provenance": []
  },
  "kernelspec": {
   "display_name": "Python 3 (ipykernel)",
   "language": "python",
   "name": "python3"
  },
  "language_info": {
   "codemirror_mode": {
    "name": "ipython",
    "version": 3
   },
   "file_extension": ".py",
   "mimetype": "text/x-python",
   "name": "python",
   "nbconvert_exporter": "python",
   "pygments_lexer": "ipython3",
   "version": "3.10.8"
  }
 },
 "nbformat": 4,
 "nbformat_minor": 5
}
