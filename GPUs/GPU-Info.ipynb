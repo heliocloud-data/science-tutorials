{
 "cells": [
  {
   "cell_type": "markdown",
   "id": "8a23bfff-fe56-46a9-9ca9-b89eeb40da79",
   "metadata": {},
   "source": [
    "# GPU Acceleration / Tensorflow Test Notebook\n",
    "\n",
    "Just run some basic tests to import and read off properties of the working environment to see\n",
    "if we are good for GPU accelerated computing"
   ]
  },
  {
   "cell_type": "code",
   "execution_count": null,
   "id": "4a9e5d51-273c-4887-ab22-0bdcbba29cc8",
   "metadata": {},
   "outputs": [],
   "source": [
    "import os\n",
    "from collections import defaultdict\n",
    "import tensorflow as tf\n",
    "import numpy as np\n",
    "import keras # <--- added this 1/28/25 LAK\n",
    "from keras import backend as K\n",
    "from keras.layers import Conv2D, Input, BatchNormalization, LeakyReLU, ZeroPadding2D, UpSampling2D, MaxPool2D, Reshape, Activation\n",
    "from keras.layers import add, concatenate\n",
    "from keras.models import Model\n",
    "#from keras.utils import get_custom_objects\n",
    "from tensorflow.python.platform import build_info as tf_build_info\n",
    "from platform import python_version\n",
    "\n",
    "from numba import cuda"
   ]
  },
  {
   "cell_type": "code",
   "execution_count": null,
   "id": "263ac0db-833a-4f3b-a5eb-53b8633a482e",
   "metadata": {},
   "outputs": [],
   "source": [
    "# Get Basic INfo\n",
    "print(\"Python version: {}\".format(python_version()))\n",
    "print(\"TensorFlow version: {}\".format(tf.__version__))\n",
    "print(\"Eager execution: {}\".format(tf.executing_eagerly()))\n",
    "print(\"Keras version: {}\".format(keras.__version__))\n",
    "print(\"Cuda version: {}\".format(tf_build_info.build_info['cuda_version']))\n",
    "print(\"Cudnn version: {}\".format(tf_build_info.build_info['cudnn_version']))\n",
    "print(\"Cuda Build: {}\".format(tf_build_info.build_info['is_cuda_build']))\n",
    "print(\"Tensor RT Build: {}\".format(tf_build_info.build_info['is_tensorrt_build']))\n",
    "print(\"Num Physical GPUs Available: \", len(tf.config.experimental.list_physical_devices('GPU')))\n",
    "print(\"Num Logical GPUs Available: \", len(tf.config.experimental.list_logical_devices('GPU')))"
   ]
  },
  {
   "cell_type": "code",
   "execution_count": null,
   "id": "4640e248-7891-4c11-84a0-77873042d8bf",
   "metadata": {},
   "outputs": [],
   "source": [
    "tf_build_info.build_info"
   ]
  },
  {
   "cell_type": "code",
   "execution_count": null,
   "id": "abcedd3f-64bc-4bd8-8723-727adc45064f",
   "metadata": {},
   "outputs": [],
   "source": [
    "# this should show a GPU if things are configed right\n",
    "tf.config.list_physical_devices()"
   ]
  },
  {
   "cell_type": "code",
   "execution_count": null,
   "id": "639bb67b-7489-42f1-b2f0-e0f345ca3a03",
   "metadata": {},
   "outputs": [],
   "source": []
  }
 ],
 "metadata": {
  "kernelspec": {
   "display_name": "Python 3 (ipykernel)",
   "language": "python",
   "name": "python3"
  },
  "language_info": {
   "codemirror_mode": {
    "name": "ipython",
    "version": 3
   },
   "file_extension": ".py",
   "mimetype": "text/x-python",
   "name": "python",
   "nbconvert_exporter": "python",
   "pygments_lexer": "ipython3",
   "version": "3.11.11"
  }
 },
 "nbformat": 4,
 "nbformat_minor": 5
}
