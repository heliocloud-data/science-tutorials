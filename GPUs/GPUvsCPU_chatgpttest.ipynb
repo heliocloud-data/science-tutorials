{
 "cells": [
  {
   "cell_type": "code",
   "execution_count": 4,
   "id": "aaaf2c1b-395b-45b6-8c29-aefab4b2edc3",
   "metadata": {},
   "outputs": [
    {
     "name": "stderr",
     "output_type": "stream",
     "text": [
      "2025-04-29 14:34:04.543955: W tensorflow/tsl/framework/bfc_allocator.cc:485] Allocator (GPU_0_bfc) ran out of memory trying to allocate 64.00MiB (rounded to 67108864)requested by op AddV2\n",
      "If the cause is memory fragmentation maybe the environment variable 'TF_GPU_ALLOCATOR=cuda_malloc_async' will improve the situation. \n",
      "Current allocation summary follows.\n",
      "Current allocation summary follows.\n",
      "2025-04-29 14:34:04.543978: I tensorflow/tsl/framework/bfc_allocator.cc:1039] BFCAllocator dump for GPU_0_bfc\n",
      "2025-04-29 14:34:04.543984: I tensorflow/tsl/framework/bfc_allocator.cc:1046] Bin (256): \tTotal Chunks: 2, Chunks in use: 2. 512B allocated for chunks. 512B in use in bin. 8B client-requested in use in bin.\n",
      "2025-04-29 14:34:04.543988: I tensorflow/tsl/framework/bfc_allocator.cc:1046] Bin (512): \tTotal Chunks: 0, Chunks in use: 0. 0B allocated for chunks. 0B in use in bin. 0B client-requested in use in bin.\n",
      "2025-04-29 14:34:04.543993: I tensorflow/tsl/framework/bfc_allocator.cc:1046] Bin (1024): \tTotal Chunks: 1, Chunks in use: 1. 1.2KiB allocated for chunks. 1.2KiB in use in bin. 1.0KiB client-requested in use in bin.\n",
      "2025-04-29 14:34:04.543997: I tensorflow/tsl/framework/bfc_allocator.cc:1046] Bin (2048): \tTotal Chunks: 0, Chunks in use: 0. 0B allocated for chunks. 0B in use in bin. 0B client-requested in use in bin.\n",
      "2025-04-29 14:34:04.544000: I tensorflow/tsl/framework/bfc_allocator.cc:1046] Bin (4096): \tTotal Chunks: 0, Chunks in use: 0. 0B allocated for chunks. 0B in use in bin. 0B client-requested in use in bin.\n",
      "2025-04-29 14:34:04.544004: I tensorflow/tsl/framework/bfc_allocator.cc:1046] Bin (8192): \tTotal Chunks: 0, Chunks in use: 0. 0B allocated for chunks. 0B in use in bin. 0B client-requested in use in bin.\n",
      "2025-04-29 14:34:04.544007: I tensorflow/tsl/framework/bfc_allocator.cc:1046] Bin (16384): \tTotal Chunks: 0, Chunks in use: 0. 0B allocated for chunks. 0B in use in bin. 0B client-requested in use in bin.\n",
      "2025-04-29 14:34:04.544010: I tensorflow/tsl/framework/bfc_allocator.cc:1046] Bin (32768): \tTotal Chunks: 0, Chunks in use: 0. 0B allocated for chunks. 0B in use in bin. 0B client-requested in use in bin.\n",
      "2025-04-29 14:34:04.544013: I tensorflow/tsl/framework/bfc_allocator.cc:1046] Bin (65536): \tTotal Chunks: 0, Chunks in use: 0. 0B allocated for chunks. 0B in use in bin. 0B client-requested in use in bin.\n",
      "2025-04-29 14:34:04.544016: I tensorflow/tsl/framework/bfc_allocator.cc:1046] Bin (131072): \tTotal Chunks: 0, Chunks in use: 0. 0B allocated for chunks. 0B in use in bin. 0B client-requested in use in bin.\n",
      "2025-04-29 14:34:04.544019: I tensorflow/tsl/framework/bfc_allocator.cc:1046] Bin (262144): \tTotal Chunks: 0, Chunks in use: 0. 0B allocated for chunks. 0B in use in bin. 0B client-requested in use in bin.\n",
      "2025-04-29 14:34:04.544022: I tensorflow/tsl/framework/bfc_allocator.cc:1046] Bin (524288): \tTotal Chunks: 0, Chunks in use: 0. 0B allocated for chunks. 0B in use in bin. 0B client-requested in use in bin.\n",
      "2025-04-29 14:34:04.544026: I tensorflow/tsl/framework/bfc_allocator.cc:1046] Bin (1048576): \tTotal Chunks: 0, Chunks in use: 0. 0B allocated for chunks. 0B in use in bin. 0B client-requested in use in bin.\n",
      "2025-04-29 14:34:04.544029: I tensorflow/tsl/framework/bfc_allocator.cc:1046] Bin (2097152): \tTotal Chunks: 0, Chunks in use: 0. 0B allocated for chunks. 0B in use in bin. 0B client-requested in use in bin.\n",
      "2025-04-29 14:34:04.544032: I tensorflow/tsl/framework/bfc_allocator.cc:1046] Bin (4194304): \tTotal Chunks: 0, Chunks in use: 0. 0B allocated for chunks. 0B in use in bin. 0B client-requested in use in bin.\n",
      "2025-04-29 14:34:04.544035: I tensorflow/tsl/framework/bfc_allocator.cc:1046] Bin (8388608): \tTotal Chunks: 0, Chunks in use: 0. 0B allocated for chunks. 0B in use in bin. 0B client-requested in use in bin.\n",
      "2025-04-29 14:34:04.544038: I tensorflow/tsl/framework/bfc_allocator.cc:1046] Bin (16777216): \tTotal Chunks: 0, Chunks in use: 0. 0B allocated for chunks. 0B in use in bin. 0B client-requested in use in bin.\n",
      "2025-04-29 14:34:04.544041: I tensorflow/tsl/framework/bfc_allocator.cc:1046] Bin (33554432): \tTotal Chunks: 0, Chunks in use: 0. 0B allocated for chunks. 0B in use in bin. 0B client-requested in use in bin.\n",
      "2025-04-29 14:34:04.544046: I tensorflow/tsl/framework/bfc_allocator.cc:1046] Bin (67108864): \tTotal Chunks: 3, Chunks in use: 3. 199.12MiB allocated for chunks. 199.12MiB in use in bin. 192.00MiB client-requested in use in bin.\n",
      "2025-04-29 14:34:04.544049: I tensorflow/tsl/framework/bfc_allocator.cc:1046] Bin (134217728): \tTotal Chunks: 0, Chunks in use: 0. 0B allocated for chunks. 0B in use in bin. 0B client-requested in use in bin.\n",
      "2025-04-29 14:34:04.544057: I tensorflow/tsl/framework/bfc_allocator.cc:1046] Bin (268435456): \tTotal Chunks: 1, Chunks in use: 1. 512.00MiB allocated for chunks. 512.00MiB in use in bin. 512.00MiB client-requested in use in bin.\n",
      "2025-04-29 14:34:04.544063: I tensorflow/tsl/framework/bfc_allocator.cc:1062] Bin for 64.00MiB was 64.00MiB, Chunk State: \n",
      "2025-04-29 14:34:04.544067: I tensorflow/tsl/framework/bfc_allocator.cc:1075] Next region of size 745668608\n",
      "2025-04-29 14:34:04.544074: I tensorflow/tsl/framework/bfc_allocator.cc:1095] InUse at 7feece000000 of size 1280 next 1\n",
      "2025-04-29 14:34:04.544077: I tensorflow/tsl/framework/bfc_allocator.cc:1095] InUse at 7feece000500 of size 256 next 2\n",
      "2025-04-29 14:34:04.544082: I tensorflow/tsl/framework/bfc_allocator.cc:1095] InUse at 7feece000600 of size 256 next 3\n",
      "2025-04-29 14:34:04.544085: "
     ]
    },
    {
     "ename": "ResourceExhaustedError",
     "evalue": "{{function_node __wrapped__AddV2_device_/job:localhost/replica:0/task:0/device:GPU:0}} failed to allocate memory [Op:AddV2] name: ",
     "output_type": "error",
     "traceback": [
      "\u001b[0;31m---------------------------------------------------------------------------\u001b[0m",
      "\u001b[0;31mResourceExhaustedError\u001b[0m                    Traceback (most recent call last)",
      "Cell \u001b[0;32mIn [4], line 9\u001b[0m\n\u001b[1;32m      7\u001b[0m dtype \u001b[38;5;241m=\u001b[39m tf\u001b[38;5;241m.\u001b[39mfloat32\n\u001b[1;32m      8\u001b[0m A \u001b[38;5;241m=\u001b[39m tf\u001b[38;5;241m.\u001b[39mrandom\u001b[38;5;241m.\u001b[39mnormal((batch_size, N, N), dtype\u001b[38;5;241m=\u001b[39mdtype)\n\u001b[0;32m----> 9\u001b[0m B \u001b[38;5;241m=\u001b[39m \u001b[43mtf\u001b[49m\u001b[38;5;241;43m.\u001b[39;49m\u001b[43mrandom\u001b[49m\u001b[38;5;241;43m.\u001b[39;49m\u001b[43mnormal\u001b[49m\u001b[43m(\u001b[49m\u001b[43m(\u001b[49m\u001b[43mbatch_size\u001b[49m\u001b[43m,\u001b[49m\u001b[43m \u001b[49m\u001b[43mN\u001b[49m\u001b[43m,\u001b[49m\u001b[43m \u001b[49m\u001b[43mN\u001b[49m\u001b[43m)\u001b[49m\u001b[43m,\u001b[49m\u001b[43m \u001b[49m\u001b[43mdtype\u001b[49m\u001b[38;5;241;43m=\u001b[39;49m\u001b[43mdtype\u001b[49m\u001b[43m)\u001b[49m\n",
      "File \u001b[0;32m/srv/conda/envs/notebook/lib/python3.11/site-packages/tensorflow/python/util/traceback_utils.py:153\u001b[0m, in \u001b[0;36mfilter_traceback.<locals>.error_handler\u001b[0;34m(*args, **kwargs)\u001b[0m\n\u001b[1;32m    151\u001b[0m \u001b[38;5;28;01mexcept\u001b[39;00m \u001b[38;5;167;01mException\u001b[39;00m \u001b[38;5;28;01mas\u001b[39;00m e:\n\u001b[1;32m    152\u001b[0m   filtered_tb \u001b[38;5;241m=\u001b[39m _process_traceback_frames(e\u001b[38;5;241m.\u001b[39m__traceback__)\n\u001b[0;32m--> 153\u001b[0m   \u001b[38;5;28;01mraise\u001b[39;00m e\u001b[38;5;241m.\u001b[39mwith_traceback(filtered_tb) \u001b[38;5;28;01mfrom\u001b[39;00m\u001b[38;5;250m \u001b[39m\u001b[38;5;28;01mNone\u001b[39;00m\n\u001b[1;32m    154\u001b[0m \u001b[38;5;28;01mfinally\u001b[39;00m:\n\u001b[1;32m    155\u001b[0m   \u001b[38;5;28;01mdel\u001b[39;00m filtered_tb\n",
      "File \u001b[0;32m/srv/conda/envs/notebook/lib/python3.11/site-packages/tensorflow/python/framework/ops.py:5888\u001b[0m, in \u001b[0;36mraise_from_not_ok_status\u001b[0;34m(e, name)\u001b[0m\n\u001b[1;32m   5886\u001b[0m \u001b[38;5;28;01mdef\u001b[39;00m\u001b[38;5;250m \u001b[39m\u001b[38;5;21mraise_from_not_ok_status\u001b[39m(e, name) \u001b[38;5;241m-\u001b[39m\u001b[38;5;241m>\u001b[39m NoReturn:\n\u001b[1;32m   5887\u001b[0m   e\u001b[38;5;241m.\u001b[39mmessage \u001b[38;5;241m+\u001b[39m\u001b[38;5;241m=\u001b[39m (\u001b[38;5;124m\"\u001b[39m\u001b[38;5;124m name: \u001b[39m\u001b[38;5;124m\"\u001b[39m \u001b[38;5;241m+\u001b[39m \u001b[38;5;28mstr\u001b[39m(name \u001b[38;5;28;01mif\u001b[39;00m name \u001b[38;5;129;01mis\u001b[39;00m \u001b[38;5;129;01mnot\u001b[39;00m \u001b[38;5;28;01mNone\u001b[39;00m \u001b[38;5;28;01melse\u001b[39;00m \u001b[38;5;124m\"\u001b[39m\u001b[38;5;124m\"\u001b[39m))\n\u001b[0;32m-> 5888\u001b[0m   \u001b[38;5;28;01mraise\u001b[39;00m core\u001b[38;5;241m.\u001b[39m_status_to_exception(e) \u001b[38;5;28;01mfrom\u001b[39;00m\u001b[38;5;250m \u001b[39m\u001b[38;5;28;01mNone\u001b[39;00m\n",
      "\u001b[0;31mResourceExhaustedError\u001b[0m: {{function_node __wrapped__AddV2_device_/job:localhost/replica:0/task:0/device:GPU:0}} failed to allocate memory [Op:AddV2] name: "
     ]
    },
    {
     "name": "stderr",
     "output_type": "stream",
     "text": [
      "I tensorflow/tsl/framework/bfc_allocator.cc:1095] InUse at 7feece000700 of size 536870912 next 4\n",
      "2025-04-29 14:34:04.544089: I tensorflow/tsl/framework/bfc_allocator.cc:1095] InUse at 7feeee000700 of size 67108864 next 5\n",
      "2025-04-29 14:34:04.544093: I tensorflow/tsl/framework/bfc_allocator.cc:1095] InUse at 7feef2000700 of size 67108864 next 6\n",
      "2025-04-29 14:34:04.544096: I tensorflow/tsl/framework/bfc_allocator.cc:1095] InUse at 7feef6000700 of size 74578176 next 18446744073709551615\n",
      "2025-04-29 14:34:04.544100: I tensorflow/tsl/framework/bfc_allocator.cc:1100]      Summary of in-use Chunks by size: \n",
      "2025-04-29 14:34:04.544104: I tensorflow/tsl/framework/bfc_allocator.cc:1103] 2 Chunks of size 256 totalling 512B\n",
      "2025-04-29 14:34:04.544109: I tensorflow/tsl/framework/bfc_allocator.cc:1103] 1 Chunks of size 1280 totalling 1.2KiB\n",
      "2025-04-29 14:34:04.544113: I tensorflow/tsl/framework/bfc_allocator.cc:1103] 2 Chunks of size 67108864 totalling 128.00MiB\n",
      "2025-04-29 14:34:04.544118: I tensorflow/tsl/framework/bfc_allocator.cc:1103] 1 Chunks of size 74578176 totalling 71.12MiB\n",
      "2025-04-29 14:34:04.544123: I tensorflow/tsl/framework/bfc_allocator.cc:1103] 1 Chunks of size 536870912 totalling 512.00MiB\n",
      "2025-04-29 14:34:04.544128: I tensorflow/tsl/framework/bfc_allocator.cc:1107] Sum Total of in-use chunks: 711.12MiB\n",
      "2025-04-29 14:34:04.544133: I tensorflow/tsl/framework/bfc_allocator.cc:1109] Total bytes in pool: 745668608 memory_limit_: 745668608 available bytes: 0 curr_region_allocation_bytes_: 1491337216\n",
      "2025-04-29 14:34:04.544141: I tensorflow/tsl/framework/bfc_allocator.cc:1114] Stats: \n",
      "Limit:                       745668608\n",
      "InUse:                       745668608\n",
      "MaxInUse:                    745668608\n",
      "NumAllocs:                           9\n",
      "MaxAllocSize:                536870912\n",
      "Reserved:                            0\n",
      "PeakReserved:                        0\n",
      "LargestFreeBlock:                    0\n",
      "\n",
      "2025-04-29 14:34:04.544146: W tensorflow/tsl/framework/bfc_allocator.cc:497] ***************************************************************************************************x\n",
      "2025-04-29 14:34:04.544158: W tensorflow/core/framework/op_kernel.cc:1827] RESOURCE_EXHAUSTED: failed to allocate memory\n"
     ]
    }
   ],
   "source": [
    "import tensorflow as tf\n",
    "import time\n",
    "\n",
    "# Adjusted sizes\n",
    "N = 1024  # matrix dimension\n",
    "batch_size = 16  # batch size\n",
    "dtype = tf.float32\n",
    "A = tf.random.normal((batch_size, N, N), dtype=dtype)\n",
    "B = tf.random.normal((batch_size, N, N), dtype=dtype)"
   ]
  },
  {
   "cell_type": "code",
   "execution_count": null,
   "id": "1c41cd7a-3686-4d65-a5b0-7cf54e0fcbfb",
   "metadata": {},
   "outputs": [],
   "source": [
    "# Force TensorFlow to use the CPU\n",
    "with tf.device('/CPU:0'):\n",
    "    start_cpu = time.time()\n",
    "    result_cpu = tf.matmul(A, B)\n",
    "    _ = result_cpu.numpy()  # Force sync\n",
    "    end_cpu = time.time()\n",
    "print(f\"CPU Time: {end_cpu - start_cpu:.4f} seconds\")"
   ]
  },
  {
   "cell_type": "code",
   "execution_count": null,
   "id": "7a0ed628-f6a7-47b3-82d1-6969c898c0ef",
   "metadata": {},
   "outputs": [],
   "source": []
  },
  {
   "cell_type": "code",
   "execution_count": null,
   "id": "9ac4058b-fd9c-4e05-b629-b447baed4abc",
   "metadata": {},
   "outputs": [],
   "source": [
    "# Force TensorFlow to use the GPU\n",
    "with tf.device('/GPU:0'):\n",
    "    start_gpu = time.time()\n",
    "    result_gpu = tf.matmul(A, B)\n",
    "    _ = result_gpu.numpy()  # Force sync\n",
    "    end_gpu = time.time()\n",
    "    \n",
    "print(f\"GPU Time: {end_gpu - start_gpu:.4f} seconds\")"
   ]
  },
  {
   "cell_type": "code",
   "execution_count": null,
   "id": "f4c2b1d9-c70a-4f13-bb10-1f1ae3abc57b",
   "metadata": {},
   "outputs": [],
   "source": []
  },
  {
   "cell_type": "code",
   "execution_count": null,
   "id": "33cdb8cb-3527-49e7-b137-91c7e3e6ea0b",
   "metadata": {},
   "outputs": [],
   "source": []
  }
 ],
 "metadata": {
  "kernelspec": {
   "display_name": "Python 3 (ipykernel)",
   "language": "python",
   "name": "python3"
  },
  "language_info": {
   "codemirror_mode": {
    "name": "ipython",
    "version": 3
   },
   "file_extension": ".py",
   "mimetype": "text/x-python",
   "name": "python",
   "nbconvert_exporter": "python",
   "pygments_lexer": "ipython3",
   "version": "3.11.11"
  }
 },
 "nbformat": 4,
 "nbformat_minor": 5
}
