{
 "cells": [
  {
   "cell_type": "code",
   "execution_count": 1,
   "id": "75095054-2bde-4c95-aa35-8d1b608408ee",
   "metadata": {},
   "outputs": [
    {
     "name": "stdout",
     "output_type": "stream",
     "text": [
      "[PhysicalDevice(name='/physical_device:GPU:0', device_type='GPU')]\n",
      "trying 1\n",
      "trying 2\n",
      "1 Physical GPU, 4 Logical GPUs\n",
      "INFO:tensorflow:Using MirroredStrategy with devices ('/job:localhost/replica:0/task:0/device:GPU:0', '/job:localhost/replica:0/task:0/device:GPU:1', '/job:localhost/replica:0/task:0/device:GPU:2', '/job:localhost/replica:0/task:0/device:GPU:3')\n",
      "Success.\n"
     ]
    }
   ],
   "source": [
    "\"\"\"\n",
    "If developing on a system with a single GPU, you can simulate multiple GPUs with virtual devices. \n",
    "This enables easy testing of multi-GPU setups without requiring additional resources.\n",
    "\"\"\"\n",
    "import os\n",
    "# Set log level to 2 to supress INFO and WARNING messages\n",
    "os.environ['TF_CPP_MIN_LOG_LEVEL'] = '3' \n",
    "import tensorflow as tf\n",
    "\n",
    "gpus = tf.config.list_physical_devices('GPU')\n",
    "print(gpus)\n",
    "if gpus:\n",
    "  # Create 4 virtual GPUs with 1GB memory each\n",
    "  try:\n",
    "    tf.config.set_logical_device_configuration(\n",
    "        gpus[0],\n",
    "        [tf.config.LogicalDeviceConfiguration(memory_limit=1024),\n",
    "         tf.config.LogicalDeviceConfiguration(memory_limit=1024),\n",
    "         tf.config.LogicalDeviceConfiguration(memory_limit=1024),\n",
    "         tf.config.LogicalDeviceConfiguration(memory_limit=1024)])\n",
    "    logical_gpus = tf.config.list_logical_devices('GPU')\n",
    "    print(len(gpus), \"Physical GPU,\", len(logical_gpus), \"Logical GPUs\")\n",
    "    tf.debugging.set_log_device_placement(True)\n",
    "    gpus = tf.config.list_logical_devices('GPU')\n",
    "    strategy = tf.distribute.MirroredStrategy(gpus)\n",
    "    with strategy.scope():\n",
    "        inputs = tf.keras.layers.Input(shape=(1,))\n",
    "        predictions = tf.keras.layers.Dense(1)(inputs)\n",
    "        model = tf.keras.models.Model(inputs=inputs, outputs=predictions)\n",
    "        model.compile(loss='mse',\n",
    "                    optimizer=tf.keras.optimizers.SGD(learning_rate=0.2))\n",
    "    print(\"Success.\")\n",
    "  except RuntimeError as e:\n",
    "    # Virtual devices must be set before GPUs have been initialized\n",
    "    print(\"Error:\",e)"
   ]
  },
  {
   "cell_type": "code",
   "execution_count": 2,
   "id": "cd974ed4-1026-4dfb-af40-091ae297e06e",
   "metadata": {},
   "outputs": [
    {
     "name": "stdout",
     "output_type": "stream",
     "text": [
      "Name:  /device:GPU:0\n",
      "Name:  /device:GPU:1\n",
      "Name:  /device:GPU:2\n",
      "Name:  /device:GPU:3\n",
      "tf.Tensor(\n",
      "[[ 88. 112.]\n",
      " [196. 256.]], shape=(2, 2), dtype=float32)\n"
     ]
    }
   ],
   "source": [
    "#tf.debugging.set_log_device_placement(True)\n",
    "\n",
    "gpus = tf.config.list_logical_devices('GPU')\n",
    "if gpus:\n",
    "  # Replicate your computation on multiple GPUs\n",
    "  c = []\n",
    "  for gpu in gpus:\n",
    "    print(\"Name: \",gpu.name)\n",
    "    with tf.device(gpu.name):\n",
    "      a = tf.constant([[1.0, 2.0, 3.0], [4.0, 5.0, 6.0]])\n",
    "      b = tf.constant([[1.0, 2.0], [3.0, 4.0], [5.0, 6.0]])\n",
    "      c.append(tf.matmul(a, b))\n",
    "\n",
    "  with tf.device('/GPU:0'):\n",
    "    matmul_sum = tf.add_n(c)\n",
    "\n",
    "  print(matmul_sum)"
   ]
  },
  {
   "cell_type": "code",
   "execution_count": null,
   "id": "96876170-909b-4b8c-b0e6-e3a77066a806",
   "metadata": {},
   "outputs": [],
   "source": []
  }
 ],
 "metadata": {
  "kernelspec": {
   "display_name": "Python 3 (ipykernel)",
   "language": "python",
   "name": "python3"
  },
  "language_info": {
   "codemirror_mode": {
    "name": "ipython",
    "version": 3
   },
   "file_extension": ".py",
   "mimetype": "text/x-python",
   "name": "python",
   "nbconvert_exporter": "python",
   "pygments_lexer": "ipython3",
   "version": "3.11.11"
  }
 },
 "nbformat": 4,
 "nbformat_minor": 5
}
