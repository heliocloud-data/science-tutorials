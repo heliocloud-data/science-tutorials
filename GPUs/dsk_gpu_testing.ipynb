{
 "cells": [
  {
   "cell_type": "code",
   "execution_count": null,
   "id": "e0450f6b-6509-4b9e-b40f-8edb766c0284",
   "metadata": {},
   "outputs": [],
   "source": [
    "import boto3\n",
    "from botocore import UNSIGNED\n",
    "from botocore.config import Config\n",
    "\n",
    "import dask\n",
    "import io\n",
    "import re\n",
    "import logging\n",
    "import s3fs\n",
    "\n",
    "from astropy.io import fits\n",
    "from dask.distributed import Client\n",
    "from os import listdir\n",
    "from os.path import isfile, join\n",
    "from re import search"
   ]
  },
  {
   "cell_type": "code",
   "execution_count": null,
   "id": "f0175e00-f35f-4028-9f1a-062744885fad",
   "metadata": {},
   "outputs": [],
   "source": [
    "from dask_gateway import Gateway, GatewayCluster\n",
    "gateway = Gateway()\n",
    "options = gateway.cluster_options()\n",
    "\n",
    "# We're setting some defaults here just for grins... \n",
    "# I like the pangeo/base-notebook image for the workers since it has almost every library you'd need on a worker\n",
    "# In our environment, without setting these, the widget will default to the same image that the notebook itself is running, \n",
    "# as well as 2 cores and 4GB memory per worker\n",
    "\n",
    "options.image = 'public.ecr.aws/q3h7b4o8/heliocloud/helio-daskhub-mltf:2025.01.29'\n",
    "options.worker_cores = 4\n",
    "options.worker_memory = 7\n",
    "options.profile='gpu-xlarge'\n",
    "\n",
    "# This calls the widget\n",
    "options  "
   ]
  },
  {
   "cell_type": "code",
   "execution_count": null,
   "id": "58d4ca5d-93d6-48f2-bc88-963f80c5160b",
   "metadata": {},
   "outputs": [],
   "source": [
    "cluster = gateway.new_cluster(options)\n",
    "client = cluster.get_client()\n",
    "n_workers = 1\n",
    "cluster.adapt(minimum=1, maximum=n_workers)\n",
    "cluster"
   ]
  },
  {
   "cell_type": "code",
   "execution_count": null,
   "id": "77d0f4ed-cee3-4e8b-867d-9880eeacea6b",
   "metadata": {},
   "outputs": [],
   "source": [
    "# create client, show url we can go to to monitor progress\n",
    "client = Client(cluster)\n",
    "client"
   ]
  },
  {
   "cell_type": "code",
   "execution_count": null,
   "id": "5638c236-0c3c-428d-96f2-cac829685482",
   "metadata": {},
   "outputs": [],
   "source": [
    "%%time\n",
    "\n",
    "import dask.array as da\n",
    "a = da.random.normal(size=(30000,30000), chunks=(1000, 1000))\n",
    "data = a.mean().compute()\n",
    "print(data)\n",
    "type(a)"
   ]
  },
  {
   "cell_type": "code",
   "execution_count": null,
   "id": "28cbb5cf-9702-41d6-b09d-39bb925e2519",
   "metadata": {},
   "outputs": [],
   "source": [
    "import numpy as np\n",
    "\n",
    "array_a = np.random.rand(4000,6000).astype(np.float32)\n",
    "array_b = np.random.rand(6000,4000).astype(np.float32)\n",
    "\n",
    "data = da.matmul(array_a, array_b)"
   ]
  },
  {
   "cell_type": "code",
   "execution_count": null,
   "id": "016a6c73-f0e8-4804-8864-86d02283c4c4",
   "metadata": {},
   "outputs": [],
   "source": [
    "import pickle\n",
    "# let us save this\n",
    "with open('pvc_test2.pickle','wb') as fout:\n",
    "    pickle.dump(data, fout)"
   ]
  },
  {
   "cell_type": "code",
   "execution_count": null,
   "id": "2647d3ba-765b-48fb-891c-a2e736ae0ff0",
   "metadata": {},
   "outputs": [],
   "source": [
    "cluster.shutdown()"
   ]
  },
  {
   "cell_type": "code",
   "execution_count": null,
   "id": "a944f176-77c2-481d-9f4e-c4b5f370633e",
   "metadata": {},
   "outputs": [],
   "source": [
    "from dask.distributed import Client\n",
    "\n",
    "client = Client(cluster)\n",
    "client"
   ]
  },
  {
   "cell_type": "code",
   "execution_count": null,
   "id": "220e9bc8-3525-4ba9-8bd0-535209c6da48",
   "metadata": {},
   "outputs": [],
   "source": [
    "%%time\n",
    "\n",
    "import dask.array as da\n",
    "a = da.random.normal(size=(30000,30000), chunks=(1000, 1000))\n",
    "out = a.mean().compute()\n",
    "print(out)\n"
   ]
  }
 ],
 "metadata": {
  "kernelspec": {
   "display_name": "Python 3 (ipykernel)",
   "language": "python",
   "name": "python3"
  },
  "language_info": {
   "codemirror_mode": {
    "name": "ipython",
    "version": 3
   },
   "file_extension": ".py",
   "mimetype": "text/x-python",
   "name": "python",
   "nbconvert_exporter": "python",
   "pygments_lexer": "ipython3",
   "version": "3.11.11"
  }
 },
 "nbformat": 4,
 "nbformat_minor": 5
}
