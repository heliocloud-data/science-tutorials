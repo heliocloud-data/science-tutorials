{
 "cells": [
  {
   "cell_type": "markdown",
   "id": "edac1c14-2f71-4434-a3d3-ef4cfefddd6f",
   "metadata": {
    "tags": []
   },
   "source": [
    "# HelioCloud Storage + Burst + SDO\n",
    "\n",
    "* HelioCloud is an AWS Cloud environment that is user-friendly\n",
    "* Daskhub is a cloud Notebooks setup that allows parallel processing via Dask\n",
    "* Dask lets you temporarily throw lots of CPUs at a problem\n",
    "* S3 is the big cheap AWS storage\n",
    "* SDO is a mission with lots of image data\n",
    "\n",
    "Here we combine a few HelioCloud demos with our big data fileRegistry to tackle 1 year of SDO data.  The data is in AWS S3 and we do not copy the files over, but instead have CPUs at AWS access it directly\n",
    "\n",
    "* 1 year of SDO 94A EUV images from AIA is 129,758 files, each 14MB, totalling 1.8 TB.\n",
    "* This code calculates a simple irradiance\n",
    "* If done serially on your laptop, it would take 27 hours\n",
    "* HelioCloud takes 25 minutes (1467 sec) to analyze through 1 year of SDO data\n",
    "\n",
    "(More fun stats: that's 88 files/second, also 1 GB/sec to do the full analysis (which is 2x the read speed of a SATA SSD.  It is 2x faster than it would take to just copy the files off a local disk and 8x faster than copying via gigabit internet).\n"
   ]
  },
  {
   "cell_type": "code",
   "execution_count": 1,
   "id": "5e92ddc5-b67f-419b-bce9-7e1192859132",
   "metadata": {
    "tags": []
   },
   "outputs": [],
   "source": [
    "#import scregistry_prerelease as scregistry\n",
    "import scregistry\n",
    "import boto3\n",
    "import dask\n",
    "import io\n",
    "import logging\n",
    "import time\n",
    "import re\n",
    "import pickle\n",
    "import astropy.io.fits\n",
    "from dask.distributed import Client\n",
    "from dask_gateway import Gateway, GatewayCluster"
   ]
  },
  {
   "cell_type": "markdown",
   "id": "8afebbf7-65cc-4aa7-b0a4-be911f5e43c0",
   "metadata": {
    "tags": []
   },
   "source": [
    "# HelioCloud shared cloud file registry (scregistry)\n",
    "\n",
    "This is a simple standard for any dataset that enables users to access it via an API or directly.  The short definition is:\n",
    "    * S3 disks have a 'catalog.json' describing their datasets\n",
    "    * Each dataset has a <dataid>_YYYY.csv index file of its contents\n",
    "    * These indexes have the form \"time, s3_location, filesize\" (plus optional metadata)\n",
    "    \n",
    "Let's walk through this.\n",
    "\n",
    "# List of all known 'catalogs'"
   ]
  },
  {
   "cell_type": "code",
   "execution_count": 2,
   "id": "cd6f7fc2-f324-48ae-9d21-86150f9b68f1",
   "metadata": {},
   "outputs": [
    {
     "name": "stdout",
     "output_type": "stream",
     "text": [
      "List of clouds via get_catalog {'CloudMe': '0.1', 'modificationDate': '2022-01-01T00:00Z', 'registry': [{'endpoint': 's3://helio-public/', 'name': 'GSFC HelioCloud Public Temp', 'region': 'us-east-1'}, {'endpoint': 's3://gov-nasa-hdrl-data1/', 'name': 'HelioCloud, including SDO', 'region': 'us-east-1'}]} \n",
      "\n",
      "Or just the S3 endpoints via get_registry: [{'endpoint': 's3://helio-public/', 'name': 'GSFC HelioCloud Public Temp', 'region': 'us-east-1'}, {'endpoint': 's3://gov-nasa-hdrl-data1/', 'name': 'HelioCloud, including SDO', 'region': 'us-east-1'}] \n",
      "\n",
      "get_entries: {'endpoint': 's3://helio-public/', 'name': 'GSFC HelioCloud Public Temp', 'region': 'us-east-1'} \n",
      "\n",
      "SDO result for get_endpoint: s3://gov-nasa-hdrl-data1/\n"
     ]
    }
   ],
   "source": [
    "# this is pre-release so the main registry is on a temporary site\n",
    "cr=scregistry.CatalogRegistry(\"http://ghostlibrary.com/HelioDataRegistry.json\")\n",
    "\n",
    "# Let us see which clouds are known to the HelioCloud network\n",
    "cat = cr.get_catalog()\n",
    "print(\"List of clouds via get_catalog\",cat,'\\n')\n",
    "reg = cr.get_registry()\n",
    "print(\"Or just the S3 endpoints via get_registry:\",reg,'\\n')\n",
    "link = cr.get_entries()\n",
    "print(\"get_entries:\",link,'\\n')\n",
    "\n",
    "# Now let us grab the specific cloud containing SDO\n",
    "url = cr.get_endpoint(\"HelioCloud, including SDO\")\n",
    "print(\"SDO result for get_endpoint:\",url)"
   ]
  },
  {
   "cell_type": "markdown",
   "id": "5ec29cf4-582e-43e6-9353-34a7b58a4168",
   "metadata": {
    "tags": []
   },
   "source": [
    "# For a given S3 location, list of all available datasets"
   ]
  },
  {
   "cell_type": "code",
   "execution_count": 9,
   "id": "2e801f1c-eecf-45be-9dc4-46b0dc32eb2b",
   "metadata": {},
   "outputs": [
    {
     "name": "stdout",
     "output_type": "stream",
     "text": [
      "All datasets at this HDRL S3:\n",
      " [{'id': 'aia_0094', 'title': 'AIA 0094 FITS data', 'index': 's3://gov-nasa-hdrl-data1/sdo/aia/registries/', 'start': '2010-05-13T00:00:00Z', 'stop': '2022-12-31T23:56:00Z', 'modification': '2023-05-04T00:00:00Z', 'indextype': 'csv', 'filetype': 'fits'}, {'id': 'aia_0131', 'index': 's3://gov-nasa-hdrl-data1/sdo/aia/registries/', 'title': 'AIA 0131 FITS data', 'start': '2015-06-01T00:00:00Z', 'stop': '2021-12-31T23:59:59Z', 'modification': '2023-05-04:00:00:00Z', 'indextype': 'csv', 'filetype': 'fits'}, {'id': 'aia_0171', 'index': 's3://gov-nasa-hdrl-data1/sdo/aia/registries/', 'title': 'AIA 0171 FITS data', 'start': '2015-06-01T00:00:00Z', 'stop': '2021-12-31T23:59:59Z', 'modification': '2023-05-04:00:00:00Z', 'indextype': 'csv', 'filetype': 'fits'}, {'id': 'aia_0193', 'index': 's3://gov-nasa-hdrl-data1/sdo/aia/registries/', 'title': 'AIA 0193 FITS data', 'start': '2015-06-01T00:00:00Z', 'stop': '2021-12-31T23:59:59Z', 'modification': '2023-05-04:00:00:00Z', 'indextype': 'csv', 'filetype': 'fits'}, {'id': 'aia_0211', 'index': 's3://gov-nasa-hdrl-data1/sdo/aia/registries/', 'title': 'AIA 0211 FITS data', 'start': '2015-06-01T00:00:00Z', 'stop': '2021-12-31T23:59:59Z', 'modification': '2023-05-04:00:00:00Z', 'indextype': 'csv', 'filetype': 'fits'}, {'id': 'aia_0304', 'index': 's3://gov-nasa-hdrl-data1/sdo/aia/registries/', 'title': 'AIA 0304 FITS data', 'start': '2015-06-01T00:00:00Z', 'stop': '2021-12-31T23:59:59Z', 'modification': '2023-05-04:00:00:00Z', 'indextype': 'csv', 'filetype': 'fits'}, {'id': 'aia_0335', 'index': 's3://gov-nasa-hdrl-data1/sdo/aia/registries/', 'title': 'AIA 0335 FITS data', 'start': '2015-06-01T00:00:00Z', 'stop': '2021-12-31T23:59:59Z', 'modification': '2023-05-04:00:00:00Z', 'indextype': 'csv', 'filetype': 'fits'}, {'id': 'aia_1600', 'index': 's3://gov-nasa-hdrl-data1/sdo/aia/registries/', 'title': 'AIA 1600 FITS data', 'start': '2015-06-01T00:00:00Z', 'stop': '2021-12-31T23:59:59Z', 'modification': '2023-05-04:00:00:00Z', 'indextype': 'csv', 'filetype': 'fits'}, {'id': 'aia_1700', 'index': 's3://gov-nasa-hdrl-data1/sdo/aia/registries/', 'title': 'AIA 1700 FITS data', 'start': '2015-06-01T00:00:00Z', 'stop': '2021-12-31T23:59:59Z', 'modification': '2023-05-04:00:00:00Z', 'indextype': 'csv', 'filetype': 'fits'}, {'id': 'LatLonVMu', 'index': 's3://gov-nasa-hdrl-data1/sdo/ancillary/registries/', 'title': 'LatLonVMu FITS data', 'start': '2015-06-01T00:00:00Z', 'stop': '2021-12-31T23:59:59Z', 'modification': '2023-05-04:00:00:00Z', 'indextype': 'csv', 'filetype': 'fits'}, {'id': 'hmi_B', 'index': 's3://gov-nasa-hdrl-data1/sdo/hmi/registries/', 'title': 'HMI B FITS data', 'start': '2015-06-01T00:00:00Z', 'stop': '2021-12-31T23:59:59Z', 'modification': '2023-05-04:00:00:00Z', 'indextype': 'csv', 'filetype': 'fits'}, {'id': 'hmi_Ic', 'index': 's3://gov-nasa-hdrl-data1/sdo/hmi/registries/', 'title': 'HMI Ic FITS data', 'start': '2015-06-01T00:00:00Z', 'stop': '2021-12-31T23:59:59Z', 'modification': '2023-05-04:00:00:00Z', 'indextype': 'csv', 'filetype': 'fits'}, {'id': 'hmi_Ic_noLimbDark', 'index': 's3://gov-nasa-hdrl-data1/sdo/hmi/registries/', 'title': 'HMI Ic_noLimbDark FITS data', 'start': '2015-06-01T00:00:00Z', 'stop': '2021-12-31T23:59:59Z', 'modification': '2023-05-04:00:00:00Z', 'indextype': 'csv', 'filetype': 'fits'}, {'id': 'hmi_M', 'index': 's3://gov-nasa-hdrl-data1/sdo/hmi/registries/', 'title': 'HMI M FITS data', 'start': '2015-06-01T00:00:00Z', 'stop': '2021-12-31T23:59:59Z', 'modification': '2023-05-04:00:00:00Z', 'indextype': 'csv', 'filetype': 'fits'}, {'id': 'hmi_V', 'index': 's3://gov-nasa-hdrl-data1/sdo/hmi/registries/', 'title': 'HMI V FITS data', 'start': '2015-06-01T00:00:00Z', 'stop': '2021-12-31T23:59:59Z', 'modification': '2023-05-04:00:00:00Z', 'indextype': 'csv', 'filetype': 'fits'}]\n"
     ]
    }
   ],
   "source": [
    "fr=scregistry.FileRegistry(\"s3://gov-nasa-hdrl-data1/\")\n",
    "print(\"All datasets at this HDRL S3:\\n\",fr.get_entries_dict())"
   ]
  },
  {
   "cell_type": "code",
   "execution_count": 11,
   "id": "bfbee047-a578-4a09-8199-e21473f04f24",
   "metadata": {},
   "outputs": [
    {
     "name": "stdout",
     "output_type": "stream",
     "text": [
      "aia_0094 2010-05-13T00:00:00Z 2022-12-31T23:56:00Z\n"
     ]
    }
   ],
   "source": [
    "# Now we get metadata associated with AIA 94A\n",
    "frID = \"aia_0094\"\n",
    "myjson = fr.get_entry(frID)\n",
    "start, stop = myjson['start'], myjson['stop']\n",
    "print(frID,start,stop)"
   ]
  },
  {
   "cell_type": "markdown",
   "id": "3af29310-92ab-42f3-9f4d-dfdf7eea45b1",
   "metadata": {
    "tags": []
   },
   "source": [
    "# Optionally you can choose a subsetted time range (faster testing)"
   ]
  },
  {
   "cell_type": "code",
   "execution_count": 12,
   "id": "342bde4f-6c15-4b42-9b5b-73740eef9bbf",
   "metadata": {},
   "outputs": [],
   "source": [
    "subset = True\n",
    "if subset: start, stop = '2020-01-01T00:00:00Z', '2020-12-31T23:59:59Z'"
   ]
  },
  {
   "cell_type": "markdown",
   "id": "d8e4b1f3-3dab-4e57-b7a4-1ba2774ee447",
   "metadata": {
    "tags": []
   },
   "source": [
    "# Now let us get the entire list of SDO files for that AIA ID"
   ]
  },
  {
   "cell_type": "code",
   "execution_count": 17,
   "id": "15581bf1-cebd-4ad5-8100-f5a0fb08f3d8",
   "metadata": {},
   "outputs": [],
   "source": [
    "file_registry1 = fr.request_file_registry(frID, start_date=start, stop_date=stop, overwrite=False)\n",
    "# And convert that richer data to a list of files to process\n",
    "filelist = file_registry1['datakey'].to_list()"
   ]
  },
  {
   "cell_type": "code",
   "execution_count": 18,
   "id": "2a1b42f9-e29c-4385-9aa3-decb3b8b4225",
   "metadata": {},
   "outputs": [
    {
     "data": {
      "text/html": [
       "<div>\n",
       "<style scoped>\n",
       "    .dataframe tbody tr th:only-of-type {\n",
       "        vertical-align: middle;\n",
       "    }\n",
       "\n",
       "    .dataframe tbody tr th {\n",
       "        vertical-align: top;\n",
       "    }\n",
       "\n",
       "    .dataframe thead th {\n",
       "        text-align: right;\n",
       "    }\n",
       "</style>\n",
       "<table border=\"1\" class=\"dataframe\">\n",
       "  <thead>\n",
       "    <tr style=\"text-align: right;\">\n",
       "      <th></th>\n",
       "      <th>start</th>\n",
       "      <th>datakey</th>\n",
       "      <th>filesize</th>\n",
       "    </tr>\n",
       "  </thead>\n",
       "  <tbody>\n",
       "    <tr>\n",
       "      <th>0</th>\n",
       "      <td>2020-02-17 00:00:00</td>\n",
       "      <td>s3://gov-nasa-hdrl-data1/sdo/aia/20200217/0094...</td>\n",
       "      <td>13910400</td>\n",
       "    </tr>\n",
       "    <tr>\n",
       "      <th>1</th>\n",
       "      <td>2020-02-17 00:04:00</td>\n",
       "      <td>s3://gov-nasa-hdrl-data1/sdo/aia/20200217/0094...</td>\n",
       "      <td>13910400</td>\n",
       "    </tr>\n",
       "    <tr>\n",
       "      <th>2</th>\n",
       "      <td>2020-02-17 00:08:00</td>\n",
       "      <td>s3://gov-nasa-hdrl-data1/sdo/aia/20200217/0094...</td>\n",
       "      <td>13910400</td>\n",
       "    </tr>\n",
       "    <tr>\n",
       "      <th>3</th>\n",
       "      <td>2020-02-17 00:12:00</td>\n",
       "      <td>s3://gov-nasa-hdrl-data1/sdo/aia/20200217/0094...</td>\n",
       "      <td>13910400</td>\n",
       "    </tr>\n",
       "    <tr>\n",
       "      <th>4</th>\n",
       "      <td>2020-02-17 00:16:00</td>\n",
       "      <td>s3://gov-nasa-hdrl-data1/sdo/aia/20200217/0094...</td>\n",
       "      <td>13910400</td>\n",
       "    </tr>\n",
       "    <tr>\n",
       "      <th>...</th>\n",
       "      <td>...</td>\n",
       "      <td>...</td>\n",
       "      <td>...</td>\n",
       "    </tr>\n",
       "    <tr>\n",
       "      <th>129753</th>\n",
       "      <td>2020-02-16 23:40:00</td>\n",
       "      <td>s3://gov-nasa-hdrl-data1/sdo/aia/20200216/0094...</td>\n",
       "      <td>13913280</td>\n",
       "    </tr>\n",
       "    <tr>\n",
       "      <th>129754</th>\n",
       "      <td>2020-02-16 23:44:00</td>\n",
       "      <td>s3://gov-nasa-hdrl-data1/sdo/aia/20200216/0094...</td>\n",
       "      <td>13910400</td>\n",
       "    </tr>\n",
       "    <tr>\n",
       "      <th>129755</th>\n",
       "      <td>2020-02-16 23:48:00</td>\n",
       "      <td>s3://gov-nasa-hdrl-data1/sdo/aia/20200216/0094...</td>\n",
       "      <td>13910400</td>\n",
       "    </tr>\n",
       "    <tr>\n",
       "      <th>129756</th>\n",
       "      <td>2020-02-16 23:52:00</td>\n",
       "      <td>s3://gov-nasa-hdrl-data1/sdo/aia/20200216/0094...</td>\n",
       "      <td>13913280</td>\n",
       "    </tr>\n",
       "    <tr>\n",
       "      <th>129757</th>\n",
       "      <td>2020-02-16 23:56:00</td>\n",
       "      <td>s3://gov-nasa-hdrl-data1/sdo/aia/20200216/0094...</td>\n",
       "      <td>13910400</td>\n",
       "    </tr>\n",
       "  </tbody>\n",
       "</table>\n",
       "<p>129758 rows × 3 columns</p>\n",
       "</div>"
      ],
      "text/plain": [
       "                     start                                            datakey  \\\n",
       "0      2020-02-17 00:00:00  s3://gov-nasa-hdrl-data1/sdo/aia/20200217/0094...   \n",
       "1      2020-02-17 00:04:00  s3://gov-nasa-hdrl-data1/sdo/aia/20200217/0094...   \n",
       "2      2020-02-17 00:08:00  s3://gov-nasa-hdrl-data1/sdo/aia/20200217/0094...   \n",
       "3      2020-02-17 00:12:00  s3://gov-nasa-hdrl-data1/sdo/aia/20200217/0094...   \n",
       "4      2020-02-17 00:16:00  s3://gov-nasa-hdrl-data1/sdo/aia/20200217/0094...   \n",
       "...                    ...                                                ...   \n",
       "129753 2020-02-16 23:40:00  s3://gov-nasa-hdrl-data1/sdo/aia/20200216/0094...   \n",
       "129754 2020-02-16 23:44:00  s3://gov-nasa-hdrl-data1/sdo/aia/20200216/0094...   \n",
       "129755 2020-02-16 23:48:00  s3://gov-nasa-hdrl-data1/sdo/aia/20200216/0094...   \n",
       "129756 2020-02-16 23:52:00  s3://gov-nasa-hdrl-data1/sdo/aia/20200216/0094...   \n",
       "129757 2020-02-16 23:56:00  s3://gov-nasa-hdrl-data1/sdo/aia/20200216/0094...   \n",
       "\n",
       "        filesize  \n",
       "0       13910400  \n",
       "1       13910400  \n",
       "2       13910400  \n",
       "3       13910400  \n",
       "4       13910400  \n",
       "...          ...  \n",
       "129753  13913280  \n",
       "129754  13910400  \n",
       "129755  13910400  \n",
       "129756  13913280  \n",
       "129757  13910400  \n",
       "\n",
       "[129758 rows x 3 columns]"
      ]
     },
     "execution_count": 18,
     "metadata": {},
     "output_type": "execute_result"
    }
   ],
   "source": [
    "file_registry1"
   ]
  },
  {
   "cell_type": "markdown",
   "id": "a793c347-306e-4311-811b-f44e66056786",
   "metadata": {},
   "source": [
    "# Actual Analysis code\n",
    "\n",
    "Here's our analysis routines, that operate on a single FITS file and returns the results of our 'work_on_data()' function."
   ]
  },
  {
   "cell_type": "code",
   "execution_count": 19,
   "id": "84cd2fa4-23ed-4d22-96ba-efcda3d959e0",
   "metadata": {},
   "outputs": [],
   "source": [
    "def DO_SCIENCE(mydata):\n",
    "    # you can put better science here\n",
    "    iirad = mydata.mean()\n",
    "    return iirad\n",
    "\n",
    "# these are variable helpful handler functions\n",
    "def s3url_to_bucketkey(s3url: str): # -> Tuple[str, str]:\n",
    "    \"\"\"\n",
    "    Extracts the S3 bucket name and file key from an S3 URL.\n",
    "    e.g. s3://mybucket/mykeypart1/mykeypart2/fname.fits -> mybucket, mykeypart1/mykeypart2/fname.fits\n",
    "    \"\"\"\n",
    "    name2 = re.sub(r\"s3://\",\"\",s3url)\n",
    "    s = name2.split(\"/\",1)\n",
    "    return s[0], s[1]\n",
    "\n",
    "def process_fits_s3(s3key:str): # -> Tuple[str, float]:\n",
    "    \"\"\" For a single FITS file, read it from S3, grab the header and\n",
    "        data, then do the DO_SCIENCE() call of choice\n",
    "    \"\"\"\n",
    "    sess = boto3.session.Session() # do this each open to avoid thread problem 'credential_provider'\n",
    "    s3c = sess.client(\"s3\")\n",
    "    mybucket,mykey = s3url_to_bucketkey(s3key)\n",
    "    try:\n",
    "        fobj = s3c.get_object(Bucket=mybucket,Key=mykey)\n",
    "        rawdata = fobj['Body'].read()\n",
    "        bdata = io.BytesIO(rawdata)\n",
    "        hdul = astropy.io.fits.open(bdata,memmap=False)        \n",
    "        date = hdul[1].header['T_OBS']\n",
    "        irrad = DO_SCIENCE(hdul[1].data)\n",
    "    except:\n",
    "        print(\"Error fetching \",s3key)\n",
    "        date, irrad = None, None\n",
    "        \n",
    "    return date, irrad\n"
   ]
  },
  {
   "cell_type": "markdown",
   "id": "ccbf0efe-2e6d-4a5a-84aa-fc6cebe5f690",
   "metadata": {},
   "source": [
    "# Accessing S3 from anywhere\n",
    "The power of cloud is moving compute (CPUs) to the data, instead of hauling data over internet.  But if you want to play, here is a serial example of fetching the first 10 SDO files and processing them anywhere.  It is serial and slow-- roughly 66x slower than using parallel processing and 128x or more slow if you are fetching from S3 to your local machine."
   ]
  },
  {
   "cell_type": "code",
   "execution_count": 20,
   "id": "c43cae5c-a6e8-4511-8ce5-ac9c7abcfb35",
   "metadata": {},
   "outputs": [
    {
     "name": "stdout",
     "output_type": "stream",
     "text": [
      "('2020-02-17T00:00:00.572', 1.14938653)\n",
      "('2020-02-17T00:04:00.566', 1.14467738)\n",
      "('2020-02-17T00:08:00.565', 1.14912166)\n",
      "('2020-02-17T00:12:00.581', 1.15062206)\n",
      "('2020-02-17T00:16:00.565', 1.15031615)\n",
      "('2020-02-17T00:20:00.566', 1.14179095)\n",
      "('2020-02-17T00:24:00.588', 1.14150782)\n",
      "('2020-02-17T00:28:00.572', 1.14470468)\n",
      "('2020-02-17T00:32:00.588', 1.15231304)\n",
      "('2020-02-17T00:36:00.572', 1.14333933)\n",
      "10.6301908493042\n"
     ]
    }
   ],
   "source": [
    "# Serial test it on the first ten files, so slow\n",
    "now=time.time()\n",
    "for i in range(10):\n",
    "    results = process_fits_s3(filelist[i])\n",
    "    print(results)\n",
    "print(time.time()-now)"
   ]
  },
  {
   "cell_type": "markdown",
   "id": "82ffeb6a-2900-412c-a9ba-16df048739ae",
   "metadata": {},
   "source": [
    "# Setting up the Dask 'burst' Configuration\n",
    "This is pretty standard daskhub configuration from the HelioCloud dask demos, that works to burst tasks into the cloud."
   ]
  },
  {
   "cell_type": "code",
   "execution_count": 21,
   "id": "8418677a-4af1-44a8-beed-67e8a4bb9cd7",
   "metadata": {},
   "outputs": [
    {
     "name": "stdout",
     "output_type": "stream",
     "text": [
      "129758\n"
     ]
    }
   ],
   "source": [
    "testing = False\n",
    "if testing:\n",
    "    s3_files = filelist[0:10000] # small test set to test\n",
    "else:\n",
    "    s3_files = filelist\n",
    "print(len(s3_files))"
   ]
  },
  {
   "cell_type": "code",
   "execution_count": 22,
   "id": "b41e5175-4ab9-4f61-8cb5-1049dd124c32",
   "metadata": {},
   "outputs": [],
   "source": [
    "# number of workers to use, for automatic scaling, our max number\n",
    "n_workers = 50 # 10-50 works well, more workers actually went slower\n",
    "# memory per worker (in Gb), typically 1, 2 or 4GB\n",
    "w_memory = 4\n",
    "# cores per worker, must be 1-4\n",
    "w_cores = 4\n",
    "# use Manual (if False, then uses Automatic scaling)\n",
    "use_manual_scaling = False\n",
    "\n",
    "useGUI = False # set true if you want the Dask widget as well"
   ]
  },
  {
   "cell_type": "code",
   "execution_count": 23,
   "id": "b40d0955-f396-480c-b047-ec68c89dd907",
   "metadata": {},
   "outputs": [],
   "source": [
    "# from the daskhub tutorial, setting up dask\n",
    "gateway = Gateway()\n",
    "options = gateway.cluster_options()\n",
    "options.worker_cores = w_cores\n",
    "options.worker_memory = w_memory"
   ]
  },
  {
   "cell_type": "code",
   "execution_count": 24,
   "id": "079a6dcb-aa6b-4967-b394-2bc661c81b88",
   "metadata": {},
   "outputs": [],
   "source": [
    "# initialize cluster and create client, takes < 15 seconds\n",
    "\n",
    "cluster = gateway.new_cluster(options)\n",
    "client = cluster.get_client() # can also use 'client=Client(cluster)'\n",
    "cluster.adapt(minimum=1, maximum=n_workers)\n",
    "\n",
    "# This calls the widget\n",
    "if useGUI: cluster"
   ]
  },
  {
   "cell_type": "code",
   "execution_count": 25,
   "id": "92704361-2ce8-417c-9446-76758dd6b2fb",
   "metadata": {},
   "outputs": [
    {
     "data": {
      "text/html": [
       "<div>\n",
       "    <div style=\"width: 24px; height: 24px; background-color: #e1e1e1; border: 3px solid #9D9D9D; border-radius: 5px; position: absolute;\"> </div>\n",
       "    <div style=\"margin-left: 48px;\">\n",
       "        <h3 style=\"margin-bottom: 0px;\">Client</h3>\n",
       "        <p style=\"color: #9D9D9D; margin-bottom: 0px;\">Client-f7327001-0a16-11ee-812b-1655dc7dbffe</p>\n",
       "        <table style=\"width: 100%; text-align: left;\">\n",
       "\n",
       "        <tr>\n",
       "        \n",
       "            <td style=\"text-align: left;\"><strong>Connection method:</strong> Cluster object</td>\n",
       "            <td style=\"text-align: left;\"><strong>Cluster type:</strong> dask_gateway.GatewayCluster</td>\n",
       "        \n",
       "        </tr>\n",
       "\n",
       "        \n",
       "            <tr>\n",
       "                <td style=\"text-align: left;\">\n",
       "                    <strong>Dashboard: </strong> <a href=\"/services/dask-gateway/clusters/daskhub.374766d0b0ee4232833b27905360aa19/status\" target=\"_blank\">/services/dask-gateway/clusters/daskhub.374766d0b0ee4232833b27905360aa19/status</a>\n",
       "                </td>\n",
       "                <td style=\"text-align: left;\"></td>\n",
       "            </tr>\n",
       "        \n",
       "\n",
       "        </table>\n",
       "\n",
       "        \n",
       "            <button style=\"margin-bottom: 12px;\" data-commandlinker-command=\"dask:populate-and-launch-layout\" data-commandlinker-args='{\"url\": \"/services/dask-gateway/clusters/daskhub.374766d0b0ee4232833b27905360aa19/status\" }'>\n",
       "                Launch dashboard in JupyterLab\n",
       "            </button>\n",
       "        \n",
       "\n",
       "        \n",
       "            <details>\n",
       "            <summary style=\"margin-bottom: 20px;\"><h3 style=\"display: inline;\">Cluster Info</h3></summary>\n",
       "            <div style='background-color: #f2f2f2; display: inline-block; padding: 10px; border: 1px solid #999999;'>\n",
       "  <h3>GatewayCluster</h3>\n",
       "  <ul>\n",
       "    <li><b>Name: </b>daskhub.374766d0b0ee4232833b27905360aa19\n",
       "    <li><b>Dashboard: </b><a href='/services/dask-gateway/clusters/daskhub.374766d0b0ee4232833b27905360aa19/status' target='_blank'>/services/dask-gateway/clusters/daskhub.374766d0b0ee4232833b27905360aa19/status</a>\n",
       "  </ul>\n",
       "</div>\n",
       "\n",
       "            </details>\n",
       "        \n",
       "\n",
       "    </div>\n",
       "</div>"
      ],
      "text/plain": [
       "<Client: 'tls://192.168.30.9:8786' processes=0 threads=0, memory=0 B>"
      ]
     },
     "execution_count": 25,
     "metadata": {},
     "output_type": "execute_result"
    }
   ],
   "source": [
    "client # let us take a look at it"
   ]
  },
  {
   "cell_type": "markdown",
   "id": "d396fd88-0e2f-49a6-8bcb-b64866affec6",
   "metadata": {
    "tags": []
   },
   "source": [
    "# Now the actual algorithm work and runtime\n",
    "\n",
    "In this case, our earlier 'file_registry1' is our set of fully qualified s3:// objects.  This code takes around 5 minutes for 10,000 files and 25 minutes for the full 130K files."
   ]
  },
  {
   "cell_type": "code",
   "execution_count": null,
   "id": "3bc2efc6-7a81-4866-8596-b69130b4cdbb",
   "metadata": {},
   "outputs": [
    {
     "name": "stdout",
     "output_type": "stream",
     "text": [
      "[<Future: pending, key: process_fits_s3-fc98255c8f86a9ac1faf398c74dd7836>, <Future: pending, key: process_fits_s3-5b530cc4419a65b5d36fb1c5b7c48d0e>, <Future: pending, key: process_fits_s3-336a0c310ab3b7fbeaae2cc83eb3c46c>, <Future: pending, key: process_fits_s3-bfc43cd8b20380398346b5149119a8df>]\n"
     ]
    }
   ],
   "source": [
    "now=time.time()\n",
    "# simple version step 1, do it\n",
    "time_irrad = client.map(process_fits_s3, s3_files)\n",
    "print(time_irrad[0:4]) # handy way to spot-check that the jobs were sent\n",
    "# simple version step 2, gather results\n",
    "all_data = client.gather(time_irrad)\n",
    "print(time.time()-now, len(all_data))\n",
    "# always shutdown\n",
    "cluster.shutdown()"
   ]
  },
  {
   "cell_type": "markdown",
   "id": "24052d38-fa4d-424d-9412-4e43edc99b00",
   "metadata": {},
   "source": [
    "# Done, now do something with the results\n",
    "Time to save your results, plot it, and carry on with your analysis."
   ]
  },
  {
   "cell_type": "code",
   "execution_count": null,
   "id": "d8a87b88-fe2a-44da-9d64-fcea1f1a8a77",
   "metadata": {},
   "outputs": [],
   "source": [
    "# let us save this\n",
    "with open('SDO_test-big.pickle','wb') as fout:\n",
    "    pickle.dump(all_data, fout)"
   ]
  },
  {
   "cell_type": "code",
   "execution_count": null,
   "id": "69ea4b37-e3f1-441d-8399-2dc72a50e2a1",
   "metadata": {},
   "outputs": [],
   "source": [
    "# Goodness check-- did any files not process?\n",
    "a = [a for a in all_data if a[0] is None]\n",
    "print(\"Bad fields: \",len(a))\n",
    "plotme = [a for a in all_data if a[0] is not None]\n",
    "print(\"Good fields: \",len(plotme))"
   ]
  },
  {
   "cell_type": "code",
   "execution_count": null,
   "id": "c5340e2d-c271-4df1-a82f-cc053032e518",
   "metadata": {},
   "outputs": [],
   "source": [
    "from matplotlib import pyplot as plt\n",
    "%matplotlib inline \n",
    "# Have Matplotlib create vector (svg) instead of raster (png) images\n",
    "#%config InlineBackend.figure_formats = ['svg'] \n",
    "#plt.figure()\n",
    "plt.plot_date(*zip(*plotme))\n",
    "plt.xticks(rotation=90)\n",
    "plt.show()"
   ]
  },
  {
   "cell_type": "code",
   "execution_count": null,
   "id": "e22fb4a5-0584-491d-a649-d9e2b2b7e46a",
   "metadata": {},
   "outputs": [],
   "source": []
  },
  {
   "cell_type": "code",
   "execution_count": null,
   "id": "c10dce13-2246-4686-9d1c-9d8a04593f6a",
   "metadata": {},
   "outputs": [],
   "source": []
  }
 ],
 "metadata": {
  "kernelspec": {
   "display_name": "Python [conda env:notebook] *",
   "language": "python",
   "name": "conda-env-notebook-py"
  },
  "language_info": {
   "codemirror_mode": {
    "name": "ipython",
    "version": 3
   },
   "file_extension": ".py",
   "mimetype": "text/x-python",
   "name": "python",
   "nbconvert_exporter": "python",
   "pygments_lexer": "ipython3",
   "version": "3.10.8"
  }
 },
 "nbformat": 4,
 "nbformat_minor": 5
}
