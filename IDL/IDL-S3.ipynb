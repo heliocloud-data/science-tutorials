{
 "cells": [
  {
   "cell_type": "markdown",
   "id": "874909c0-f58a-4d5f-a3bd-05dcc2eba407",
   "metadata": {
    "tags": []
   },
   "source": [
    "# 3 ways to read S3 from IDL\n",
    "### Antunes, Mar 2022\n",
    "\n",
    "IDL as of May 2022 does not read S3 objects, whereas Python can.  IDL does have an IDL-Python bridge.  Therefore, our approach to accessing S3 data from IDL is to use a python helper script, which we provide.\n",
    "\n",
    "We present 3 ways to access S3.  All three work within a Jupyter Notebook environment; one of the methods also works for a typical console (non-Jupyter) IDL session.\n",
    "\n",
    "\n",
    "1) Working entirely in Python in a Notebook cell.\n",
    "2) Set variables in IDL, then call Python.\n",
    "3) Run the python routine as an executable using 'spawn' from IDL.\n"
   ]
  },
  {
   "cell_type": "markdown",
   "id": "55f916a9-04dc-4628-8f81-48bc6eb9e89d",
   "metadata": {},
   "source": [
    "### How it works\n",
    "The underpinning is a python 'helper' script called 's3idlhelpers.py', which is S3-aware and can copy S3 files over to your notebook's local file storage.  In this notebook, we invoke that helper to create temporary caches of the files we need, and also use that script to clear out the temp files once we're done with them."
   ]
  },
  {
   "cell_type": "markdown",
   "id": "c51256cc-0eeb-4c7e-b3b0-7fe6d8298b74",
   "metadata": {},
   "source": [
    "### Data Identifiers\n",
    "Note that we operate on s3:// identifiers, of the form:\n",
    "s3://bucket_name/optional_keypaths/more_optionals_etc/filename\n",
    "\n",
    "Our working example is:\n",
    "\n",
    "\"s3://helio-public/skantunes/psp_wispr.nc\""
   ]
  },
  {
   "cell_type": "markdown",
   "id": "1fae5e1c-11af-4ca5-8492-b2eceacdc4d8",
   "metadata": {
    "tags": []
   },
   "source": [
    "## Method 1: Pure python within a cell\n",
    "\n",
    "We set the bucket and key in the python snippet within a Jupyter cell.  Python is invoked with the '%%python' magic tag, while IDL just gets typed as usual.\n",
    "\n",
    "The two sessions can talk to each other through shared variables.  The variable in Python called 'IDL.fname' will appear in the IDL stack as just the variable 'fname'"
   ]
  },
  {
   "cell_type": "markdown",
   "id": "1218c462-da85-42ca-b117-7010ea7578b9",
   "metadata": {},
   "source": [
    "First we'll name our data in the python 'subspace'. Because of how python-in-IDL persists, this name is available to any subsequent python cells in this notebook."
   ]
  },
  {
   "cell_type": "code",
   "execution_count": null,
   "id": "2abfae82-e053-4b44-8016-1365be81d4b5",
   "metadata": {},
   "outputs": [],
   "source": [
    "%%python\n",
    "s3urlp = 's3://helio-public/skantunes/psp_wispr.nc'"
   ]
  },
  {
   "cell_type": "markdown",
   "id": "cd17cd1a-3616-4e59-b4a6-0875d640ee50",
   "metadata": {},
   "source": [
    "Now we do the actual creation of the temp copy, as a 2-line python call."
   ]
  },
  {
   "cell_type": "code",
   "execution_count": 1,
   "id": "f1b07af9-07e1-437b-9e85-89666319764a",
   "metadata": {},
   "outputs": [
    {
     "data": {
      "text/html": [
       "<html><pre>./s3temp/psp_wispr.nc</pre></html>"
      ]
     },
     "metadata": {},
     "output_type": "display_data"
    }
   ],
   "source": [
    "%%python\n",
    "import s3idlhelpers\n",
    "IDL.fname = s3idlhelpers.s3tempsync(s3urlp)"
   ]
  },
  {
   "cell_type": "code",
   "execution_count": 2,
   "id": "da624299-8867-4731-a2c4-88b69fb35552",
   "metadata": {},
   "outputs": [
    {
     "data": {
      "text/html": [
       "<html><pre>Now we are back in IDL</pre></html>"
      ]
     },
     "metadata": {},
     "output_type": "display_data"
    },
    {
     "data": {
      "text/html": [
       "<html><pre>Sample result-- temp file is: ./s3temp/psp_wispr.nc</pre></html>"
      ]
     },
     "metadata": {},
     "output_type": "display_data"
    }
   ],
   "source": [
    "print,'Now we are back in IDL'\n",
    "print,'Sample result-- temp file is: ',fname"
   ]
  },
  {
   "cell_type": "markdown",
   "id": "c841470c-fbe1-4cfe-867d-5b1df124b31d",
   "metadata": {},
   "source": [
    "### Cleanup\n",
    "Now we pretend we're done our analysis and ready to delete that temp file.  Note that we do not have to re-import the s3idlhelpers.py file because the python variables persist across cells!"
   ]
  },
  {
   "cell_type": "code",
   "execution_count": 3,
   "id": "697cc724-f9fd-4e05-ada7-37a63aeb4bdb",
   "metadata": {},
   "outputs": [
    {
     "data": {
      "text/html": [
       "<html><pre>checking  ./s3temp/psp_wispr.nc\n",
       "Deleting temp file  ./s3temp/psp_wispr.nc</pre></html>"
      ]
     },
     "metadata": {},
     "output_type": "display_data"
    }
   ],
   "source": [
    "%%python\n",
    "s3idlhelpers.s3temppurge(IDL.fname)"
   ]
  },
  {
   "cell_type": "markdown",
   "id": "ff7d9e97-536a-4b26-9377-70cbefd22879",
   "metadata": {},
   "source": [
    "## Method 2: set bucket in an IDL cell, then use in a Python cell.\n",
    "\n",
    "This is syntaxically identical to the previous method, just a different way to write it."
   ]
  },
  {
   "cell_type": "code",
   "execution_count": 4,
   "id": "355d70cf-6a29-4c57-8947-0c76fe40f5ac",
   "metadata": {},
   "outputs": [],
   "source": [
    "; Setting the variable in IDL-space\n",
    "s3urli = 's3://helio-public/skantunes/psp_wispr.nc'"
   ]
  },
  {
   "cell_type": "code",
   "execution_count": 5,
   "id": "aa5a4bc6-b6ef-4c83-8f48-d08f366ac1a3",
   "metadata": {},
   "outputs": [
    {
     "data": {
      "text/html": [
       "<html><pre>./s3temp/psp_wispr.nc</pre></html>"
      ]
     },
     "metadata": {},
     "output_type": "display_data"
    }
   ],
   "source": [
    "%%python\n",
    "# this is the python 2nd half\n",
    "import s3idlhelpers\n",
    "IDL.fname = s3idlhelpers.s3tempsync(IDL.s3urli)"
   ]
  },
  {
   "cell_type": "markdown",
   "id": "6265ab73-de20-4ea9-969f-f34462f36f52",
   "metadata": {},
   "source": [
    "In IDL, verify that we got the temporary filename"
   ]
  },
  {
   "cell_type": "code",
   "execution_count": 6,
   "id": "e0390d3a-ebb3-4236-956e-c2411d999f65",
   "metadata": {},
   "outputs": [
    {
     "data": {
      "text/html": [
       "<html><pre>Temp file is./s3temp/psp_wispr.nc</pre></html>"
      ]
     },
     "metadata": {},
     "output_type": "display_data"
    }
   ],
   "source": [
    "print,'Temp file is',fname"
   ]
  },
  {
   "cell_type": "markdown",
   "id": "e84d8e53-58d7-4b77-b1da-45ade122735b",
   "metadata": {},
   "source": [
    "### Cleanup\n",
    "Again, let's delete that temporary file"
   ]
  },
  {
   "cell_type": "code",
   "execution_count": 7,
   "id": "9fb65d9e-0450-48d9-9d37-e20930aa3bb1",
   "metadata": {},
   "outputs": [
    {
     "data": {
      "text/html": [
       "<html><pre>checking  ./s3temp/psp_wispr.nc\n",
       "Deleting temp file  ./s3temp/psp_wispr.nc</pre></html>"
      ]
     },
     "metadata": {},
     "output_type": "display_data"
    }
   ],
   "source": [
    "%%python\n",
    "s3idlhelpers.s3temppurge(IDL.fname)"
   ]
  },
  {
   "cell_type": "markdown",
   "id": "c9636b0a-abd7-4747-be28-f664cf3bece5",
   "metadata": {},
   "source": [
    "You can alternately pass the original s3:// address instead of the temp file name, it will reparse the filename and act appropriately. It will never actually delete anything on s3."
   ]
  },
  {
   "cell_type": "code",
   "execution_count": 8,
   "id": "16cfac5a-8100-417d-b430-e57715cdaa47",
   "metadata": {},
   "outputs": [
    {
     "data": {
      "text/html": [
       "<html><pre>checking  s3://helio-public/skantunes/psp_wispr.nc\n",
       "File  ./s3temp/psp_wispr.nc  does not exist, no deletion done.</pre></html>"
      ]
     },
     "metadata": {},
     "output_type": "display_data"
    }
   ],
   "source": [
    "%%python\n",
    "s3idlhelpers.s3temppurge(IDL.s3urli)"
   ]
  },
  {
   "cell_type": "markdown",
   "id": "b16b9b8e-4f98-4ba9-98c6-d57f6c828f44",
   "metadata": {},
   "source": [
    "## Method 3: Calling the python code as an executable from IDL, no in-cell Python use.\n",
    "\n",
    "This is the only method that works within non-Jupyter IDL, simply because the IDL-python bridge does not allow for mix-match of languages from the IDL console.\n",
    "\n",
    "Note that python must be in the command path and that, if the s3idlhelpers.py file is not in the current working directory, that path must also be updated (or you can play with environmental variables or other approaches)."
   ]
  },
  {
   "cell_type": "code",
   "execution_count": 9,
   "id": "a4d2a3e0-62e0-4891-9523-b601e90cb318",
   "metadata": {},
   "outputs": [
    {
     "data": {
      "text/html": [
       "<html><pre>python s3idlhelpers.py sync s3://helio-public/skantunes/psp_wispr.nc</pre></html>"
      ]
     },
     "metadata": {},
     "output_type": "display_data"
    },
    {
     "data": {
      "text/html": [
       "<html><pre>./s3temp/psp_wispr.nc</pre></html>"
      ]
     },
     "metadata": {},
     "output_type": "display_data"
    }
   ],
   "source": [
    "mycommand = 'python s3idlhelpers.py sync '+s3urli\n",
    "print,mycommand\n",
    "spawn,mycommand,fname\n",
    "print,fname\n"
   ]
  },
  {
   "cell_type": "markdown",
   "id": "0cde3fd4-d408-4216-8654-937b61d142f9",
   "metadata": {},
   "source": [
    "Related, here is the spawn-ed delete of that file"
   ]
  },
  {
   "cell_type": "code",
   "execution_count": 10,
   "id": "6963923f-09db-4122-9870-45f9fc12a713",
   "metadata": {},
   "outputs": [
    {
     "data": {
      "text/html": [
       "<html><pre>fname is ./s3temp/psp_wispr.nc</pre></html>"
      ]
     },
     "metadata": {},
     "output_type": "display_data"
    },
    {
     "data": {
      "text/html": [
       "<html><pre>python s3idlhelpers.py del ./s3temp/psp_wispr.nc</pre></html>"
      ]
     },
     "metadata": {},
     "output_type": "display_data"
    },
    {
     "data": {
      "text/html": [
       "<html><pre>checking  ./s3temp/psp_wispr.nc\n",
       "Deleting temp file  ./s3temp/psp_wispr.nc</pre></html>"
      ]
     },
     "metadata": {},
     "output_type": "display_data"
    }
   ],
   "source": [
    "print,'fname is',fname\n",
    "mycommand = 'python s3idlhelpers.py del '+fname\n",
    "print,mycommand\n",
    "spawn,mycommand"
   ]
  },
  {
   "cell_type": "markdown",
   "id": "a4b09636-3f1c-4e52-83fd-74582e5575ae",
   "metadata": {},
   "source": [
    "And the alt form, passing the original s3url (safely-- it gets downparsed to just the temp file name)"
   ]
  },
  {
   "cell_type": "code",
   "execution_count": 11,
   "id": "62afeaf0-64f0-425a-a14a-089684014fec",
   "metadata": {},
   "outputs": [
    {
     "data": {
      "text/html": [
       "<html><pre>checking  s3://helio-public/skantunes/psp_wispr.nc\n",
       "File  ./s3temp/psp_wispr.nc  does not exist, no deletion done.</pre></html>"
      ]
     },
     "metadata": {},
     "output_type": "display_data"
    }
   ],
   "source": [
    "mycommand = 'python s3idlhelpers.py del '+s3urli\n",
    "spawn,mycommand"
   ]
  },
  {
   "cell_type": "markdown",
   "id": "da13b9e4-6fcf-4721-9844-f14d28c1db32",
   "metadata": {
    "tags": []
   },
   "source": [
    "## So, where are these temp files stored?\n",
    "You can set the environmental variable 'S3TEMP' (all caps) in your conda environment to choose where to store the temp files.  (Note you cannot set this in the notebook using IDL's 'setenv' or a %%python command, as those do not persist across %%python calls).\n",
    "\n",
    "Here is an example within IDL:"
   ]
  },
  {
   "cell_type": "markdown",
   "id": "3ab968e7-cf4f-44c5-bd42-b05ed4a5eb87",
   "metadata": {},
   "source": [
    "## Digression on playing with environmental variables and states\n",
    "You can set environmental variables in IDL that are available to IDL."
   ]
  },
  {
   "cell_type": "code",
   "execution_count": 12,
   "id": "04097552-ef78-422a-92ae-29e8b1e52198",
   "metadata": {},
   "outputs": [
    {
     "data": {
      "text/html": [
       "<html><pre>./mytempdir</pre></html>"
      ]
     },
     "metadata": {},
     "output_type": "display_data"
    }
   ],
   "source": [
    "setenv,'S3TEMP=./mytempdir'\n",
    "print,getenv('S3TEMP')"
   ]
  },
  {
   "cell_type": "markdown",
   "id": "984543d5-39f2-4a0a-bf57-fa5f4556b149",
   "metadata": {},
   "source": [
    "However, these will not persist into a %%python invocation, for example below the 'S3TEMP' set in IDL will not be seen by python.  However, each %%python invocation _does_ retain any imports and variables from prior cells, making them appear as a contiguous script."
   ]
  },
  {
   "cell_type": "code",
   "execution_count": 13,
   "id": "62c6f6a0-c256-4cf0-97b2-237677007e1e",
   "metadata": {},
   "outputs": [
    {
     "data": {
      "text/html": [
       "<html><pre>Notice the IDL environment is not found:  None</pre></html>"
      ]
     },
     "metadata": {},
     "output_type": "display_data"
    }
   ],
   "source": [
    "%%python\n",
    "import os\n",
    "testvar = 42  # we will use this later in this demo\n",
    "print(\"Notice the IDL environment is not found: \",os.environ.get('S3TEMP'))"
   ]
  },
  {
   "cell_type": "code",
   "execution_count": 14,
   "id": "2c1de736-8617-4311-a899-77b10a1b827a",
   "metadata": {},
   "outputs": [
    {
     "data": {
      "text/html": [
       "<html><pre>But our test variable '42' does persist across cells:  42</pre></html>"
      ]
     },
     "metadata": {},
     "output_type": "display_data"
    }
   ],
   "source": [
    "%%python\n",
    "print(\"But our test variable '42' does persist across cells: \",testvar)"
   ]
  },
  {
   "cell_type": "markdown",
   "id": "a88ce493-ad0e-41cf-bbdb-ab3796b605b7",
   "metadata": {},
   "source": [
    "You can set the location of s3idlhelpers.py via an ordinary variable or within IDL, to assist with bookkeeping."
   ]
  },
  {
   "cell_type": "code",
   "execution_count": 15,
   "id": "1f79c662-b654-4a40-9c11-a060b88a79f3",
   "metadata": {},
   "outputs": [],
   "source": [
    "setenv,'s3script=./3idlhelpers.py'"
   ]
  },
  {
   "cell_type": "markdown",
   "id": "e0df8e33-68b7-4190-80c9-74aee4a5d476",
   "metadata": {},
   "source": [
    "Then build your commands using that variable:"
   ]
  },
  {
   "cell_type": "code",
   "execution_count": 16,
   "id": "64f7587f-62a7-45f4-9ee5-6c9873a72628",
   "metadata": {},
   "outputs": [
    {
     "data": {
      "text/html": [
       "<html><pre>./3idlhelpers.py</pre></html>"
      ]
     },
     "metadata": {},
     "output_type": "display_data"
    },
    {
     "data": {
      "text/html": [
       "<html><pre>python ./3idlhelpers.py del s3://helio-public/skantunes/psp_wispr.nc</pre></html>"
      ]
     },
     "metadata": {},
     "output_type": "display_data"
    }
   ],
   "source": [
    "s3script=getenv('s3script')\n",
    "print,s3script\n",
    "mycommand = 'python '+s3script+' del '+s3urli\n",
    "print,mycommand"
   ]
  },
  {
   "cell_type": "markdown",
   "id": "9071b2c9-7358-46b3-8683-fca8fa05e6e4",
   "metadata": {},
   "source": [
    "## Iterating over many files\n",
    "To again assist with bookkeeping, here is sample logic to walk through an IDL list of S3 files, and return the temporary file names.  (Note that IDL multi-line blocks in a cell require an extra 'END' statement, as per https://www.l3harrisgeospatial.com/docs/IDL_Kernel.html)"
   ]
  },
  {
   "cell_type": "code",
   "execution_count": 17,
   "id": "34609367-c4b0-4073-a2ff-01691e023c17",
   "metadata": {},
   "outputs": [],
   "source": [
    "myfiles = LIST('s3://helio-public/skantunes/psp_wispr.nc','s3://helio-public/skantunes/mms_fgm.nc','s3://helio-public/skantunes/guvi3.nc')\n",
    "tempfiles = LIST()"
   ]
  },
  {
   "cell_type": "code",
   "execution_count": 18,
   "id": "e1a342f4-b9dc-4115-9289-f4de052b6fbb",
   "metadata": {},
   "outputs": [],
   "source": [
    "FOREACH element, myfiles DO BEGIN\n",
    "    spawn,'python s3idlhelpers.py sync '+element,tname\n",
    "    tempfiles.add,tname\n",
    "ENDFOREACH\n",
    "END"
   ]
  },
  {
   "cell_type": "code",
   "execution_count": 19,
   "id": "06f1f72e-0d37-49cc-b062-19bec7c59d06",
   "metadata": {},
   "outputs": [
    {
     "data": {
      "text/html": [
       "<html><pre>./mytempdir/psp_wispr.nc\n",
       "./mytempdir/mms_fgm.nc\n",
       "./mytempdir/guvi3.nc</pre></html>"
      ]
     },
     "metadata": {},
     "output_type": "display_data"
    }
   ],
   "source": [
    "print,tempfiles"
   ]
  },
  {
   "cell_type": "markdown",
   "id": "212051ba-04a4-49e4-a729-9e638f07ad59",
   "metadata": {},
   "source": [
    "And here we can easily delete them in a loop as well."
   ]
  },
  {
   "cell_type": "code",
   "execution_count": 20,
   "id": "b55b615a-f3b1-4491-b30b-a7b4ce38a39c",
   "metadata": {},
   "outputs": [
    {
     "data": {
      "text/html": [
       "<html><pre>checking  ./mytempdir/psp_wispr.nc\n",
       "Deleting temp file  ./mytempdir/psp_wispr.nc\n",
       "checking  ./mytempdir/mms_fgm.nc\n",
       "Deleting temp file  ./mytempdir/mms_fgm.nc\n",
       "checking  ./mytempdir/guvi3.nc\n",
       "Deleting temp file  ./mytempdir/guvi3.nc</pre></html>"
      ]
     },
     "metadata": {},
     "output_type": "display_data"
    }
   ],
   "source": [
    "FOREACH element, tempfiles DO spawn,'python s3idlhelpers.py del '+element"
   ]
  },
  {
   "cell_type": "markdown",
   "id": "c79c0edb-87c2-457d-9198-779add7c086c",
   "metadata": {},
   "source": [
    "##  Closing Thoughts\n",
    "These scripts and methods are strong but not bulletproof.  Feedback to the developer is encouraged (sandy.antunes@jhuapl.edu)."
   ]
  }
 ],
 "metadata": {
  "kernelspec": {
   "display_name": "IDL",
   "language": "IDL",
   "name": "idl"
  },
  "language_info": {
   "codemirror_mode": "idl",
   "file_extension": ".pro",
   "mimetype": "text/x-idl",
   "name": "idl"
  }
 },
 "nbformat": 4,
 "nbformat_minor": 5
}
