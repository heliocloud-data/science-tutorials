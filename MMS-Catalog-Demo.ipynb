{
 "cells": [
  {
   "cell_type": "markdown",
   "id": "9e879704-7e19-4a4c-bc03-c0a2f964a7c4",
   "metadata": {
    "tags": []
   },
   "source": [
    "# Cloud Catalog Demo (using MMS data in HelioCloud S3 storage)\n",
    "\n",
    "The CloudCatalog specification and accompanying Python client and demo notebook are a method for efficiently getting a list of data files stored in AWS S3 that are publicly accessible to scientists.  In addition to querying which datasets are available, users can directly retrieve the list of files in the form of 'time, S3 file key, filesize' as a Pandas DataFrame.\n",
    "\n",
    "We jump into a quick demo of fetching a day's worth of MMS1 files.  We then step back to show how to query the 'catalog of catalogs' to explore and find datasets.  We close with a more extended MMS demo that fetches the list of files then plots them directly from cloud storage (no intermediate file transfers needed).\n"
   ]
  },
  {
   "cell_type": "markdown",
   "id": "8da30f45-c93f-4cf9-bfe1-cdef051fe387",
   "metadata": {
    "tags": []
   },
   "source": [
    "## Setup\n",
    "The file catalog API is just \"import cloudcatalog\".  You also set a variable to point to where the global catalog of all known storage buckets (AWS S3 buckets) exist.  This is an index catalog that points to, basically, all known HelioClouds."
   ]
  },
  {
   "cell_type": "code",
   "execution_count": null,
   "id": "5e92ddc5-b67f-419b-bce9-7e1192859132",
   "metadata": {
    "tags": []
   },
   "outputs": [],
   "source": [
    "import cloudcatalog\n",
    "import cdflib\n",
    "import matplotlib.pyplot as plt\n",
    "from pprint import pprint"
   ]
  },
  {
   "cell_type": "markdown",
   "id": "9a488904-acf4-4730-8f1a-05955374e0c7",
   "metadata": {},
   "source": [
    "# HAPI-like queries\n",
    "\n",
    "We will start with the main usage, 'give me a list of files to operate on', then backfill the way to search and explore catalogs after this example case.\n",
    "\n",
    "CloudCatalog uses a HAPI-like query to get a list of files for a given dataset id, over a given time range.  For example:"
   ]
  },
  {
   "cell_type": "code",
   "execution_count": null,
   "id": "342bde4f-6c15-4b42-9b5b-73740eef9bbf",
   "metadata": {},
   "outputs": [],
   "source": [
    "# one sample instruments and a time range\n",
    "dataset_id1 = 'mms1_feeps_brst_electron'\n",
    "start = '2020-02-01T00:00:00Z'\n",
    "stop =   '2020-02-02T00:00:00Z'"
   ]
  },
  {
   "cell_type": "code",
   "execution_count": null,
   "id": "14dca78e-e3b8-4193-80cc-0d645d411893",
   "metadata": {},
   "outputs": [],
   "source": [
    "# open up the global Catalog\n",
    "cr = cloudcatalog.CatalogRegistry()\n",
    "endpoint = cr.get_endpoint(\"GSFC HelioCloud Public Temp\")\n",
    "fr = cloudcatalog.CloudCatalog(endpoint, cache=True)"
   ]
  },
  {
   "cell_type": "code",
   "execution_count": null,
   "id": "e55b94cf-afd9-451a-9696-9a8142676594",
   "metadata": {},
   "outputs": [],
   "source": [
    "filekeys_id1 = fr.request_cloud_catalog(dataset_id1,start_date=start,stop_date=stop)\n",
    "#filekeys_id2 = fr.request_cloud_catalog(dataset_id2,start_date=start,stop_date=stop)\n",
    "print(\"filekeys for \",dataset_id1,start,stop,\":\\n\",filekeys_id1)\n",
    "\n"
   ]
  },
  {
   "cell_type": "markdown",
   "id": "8400f687-e3ba-4f50-a655-136e1f48447b",
   "metadata": {},
   "source": [
    "## Params"
   ]
  },
  {
   "cell_type": "markdown",
   "id": "056e6a50-797e-42f7-9ac2-b8eef423e7b9",
   "metadata": {},
   "source": [
    "Now you can feed that list of file S3 locations to your program and work with your files.  Here's a simple example of looking at the metadata for the (arbitrarily chosen) 3rd file in that Pandas DataFrame:"
   ]
  },
  {
   "cell_type": "code",
   "execution_count": null,
   "id": "401666de-70c7-456b-9737-ecc8a35b8c35",
   "metadata": {},
   "outputs": [],
   "source": [
    "print(\"All info on item 3:\",filekeys_id1.iloc[2])\n",
    "print(\"Just the S3 key:\",filekeys_id1.iloc[2]['datakey'])"
   ]
  },
  {
   "cell_type": "markdown",
   "id": "58c930c4-a862-4000-a833-91d18c0d8975",
   "metadata": {},
   "source": [
    "You can skip to the example at the end, where we actually access the files.  But first, what is CloudCatalog and how to use?\n",
    "\n",
    "# Catalog of Catalogs\n",
    "Now we step back to explore the catalogs that are available, to work up to that example.\n",
    "\n",
    "The 'CatalogRegistry()' call fetches a list of all S3 'buckets' (data repositories) that are known to the HelioCloud network.  This is the 'catalog of catalogs'."
   ]
  },
  {
   "cell_type": "code",
   "execution_count": null,
   "id": "75318353-6f56-4def-b513-d8bd18cd7958",
   "metadata": {},
   "outputs": [],
   "source": [
    "cr=cloudcatalog.CatalogRegistry()\n",
    "cat = cr.get_catalog()\n",
    "print(\"get_catalog() provides JSON metadata for the Catalog of Catalogs, plus a list of known catalogs:\",cat)\n",
    "reg = cr.get_registry()\n",
    "print(\"get_registry() is a list of all known endpoints:\",reg)\n",
    "url = cr.get_endpoint(\"HelioCloud, including SDO\")\n",
    "print(\"get_endpoint:\",url)"
   ]
  },
  {
   "cell_type": "markdown",
   "id": "e7624a32-9f8d-4735-9f9c-251d292deecd",
   "metadata": {},
   "source": [
    "## Searching for data with EntireCatalogSearch\n",
    "\n",
    "This initial search accesses each HelioCloud's specific data holdings to create what you probably want, which is a list of all datasets available within the entire HelioCloud ecosystem.\n",
    "\n",
    "We include an example of a down or de-registered catalog to emphasize this index catalog points to HelioClouds, but doesn't manage them.\n",
    "\n"
   ]
  },
  {
   "cell_type": "code",
   "execution_count": null,
   "id": "9f00a411-42e5-426f-9f5d-d798d39c4b73",
   "metadata": {},
   "outputs": [],
   "source": [
    "mysearch = cloudcatalog.EntireCatalogSearch()"
   ]
  },
  {
   "cell_type": "markdown",
   "id": "fddac569-263e-45b6-9d12-ec1bd942cdcc",
   "metadata": {},
   "source": [
    "Now let us do something useful-- look for MMS1 FEEPS data, or ion data, or other items of interest."
   ]
  },
  {
   "cell_type": "code",
   "execution_count": null,
   "id": "7fb78465-3da1-4e58-8536-fdec109e7896",
   "metadata": {},
   "outputs": [],
   "source": [
    "mysearch.search_by_id('mms1_feeps')"
   ]
  },
  {
   "cell_type": "code",
   "execution_count": null,
   "id": "53f864e3-0ce3-4ab5-838a-a6ceee02d5fe",
   "metadata": {},
   "outputs": [],
   "source": [
    "mysearch.search_by_id('srvy_ion')"
   ]
  },
  {
   "cell_type": "code",
   "execution_count": null,
   "id": "3a390502-3be2-4ad1-91f7-8c957c1530d9",
   "metadata": {},
   "outputs": [],
   "source": [
    "mysearch.search_by_title('mms1/fpi/b')"
   ]
  },
  {
   "cell_type": "code",
   "execution_count": null,
   "id": "237a8eab-6e4c-444e-9c37-ad2699c3a463",
   "metadata": {},
   "outputs": [],
   "source": [
    "mysearch.search_by_title('des-dist')[:2]"
   ]
  },
  {
   "cell_type": "code",
   "execution_count": null,
   "id": "f8284234-98b6-4c61-b08d-2bb63d95497a",
   "metadata": {},
   "outputs": [],
   "source": [
    "mysearch.search_by_keywords(['mms2', 'brst', 'apples'])[:3]"
   ]
  },
  {
   "cell_type": "markdown",
   "id": "b15df548-c5e1-413a-85e2-9d3e10b87d73",
   "metadata": {
    "tags": []
   },
   "source": [
    "## Working with the global catalog (..the name)\n",
    "This is primarily for admins and people looking for background information on other HelioClouds (rather than on other datasets).\n"
   ]
  },
  {
   "cell_type": "code",
   "execution_count": null,
   "id": "fcbc3652-6191-41b0-8407-217c54360852",
   "metadata": {},
   "outputs": [],
   "source": [
    "cr = cloudcatalog.CatalogRegistry()"
   ]
  },
  {
   "cell_type": "code",
   "execution_count": null,
   "id": "cd09c713-0006-421d-94cb-353073432bea",
   "metadata": {},
   "outputs": [],
   "source": [
    "cr.get_catalog()"
   ]
  },
  {
   "cell_type": "code",
   "execution_count": null,
   "id": "371e2b32-1533-4e4d-be2a-e2215f562eb0",
   "metadata": {},
   "outputs": [],
   "source": [
    "cr.get_registry()"
   ]
  },
  {
   "cell_type": "code",
   "execution_count": null,
   "id": "a67bde5f-4f5b-4f21-abdd-8fe92468675b",
   "metadata": {},
   "outputs": [],
   "source": [
    "endpoint = cr.get_endpoint('GSFC HelioCloud Public Temp')\n",
    "endpoint"
   ]
  },
  {
   "cell_type": "code",
   "execution_count": null,
   "id": "47b803bd-dd45-4bd6-8d35-8c56a29f39c5",
   "metadata": {},
   "outputs": [],
   "source": [
    "cr.catalog"
   ]
  },
  {
   "cell_type": "markdown",
   "id": "93ad4736-f3b8-41e5-8dca-c8dfa006e4fc",
   "metadata": {},
   "source": [
    "## Working with a local catalog\n",
    "Here we browse all the data holdings within a specific disk."
   ]
  },
  {
   "cell_type": "code",
   "execution_count": null,
   "id": "2e801f1c-eecf-45be-9dc4-46b0dc32eb2b",
   "metadata": {
    "tags": []
   },
   "outputs": [],
   "source": [
    "cr = cloudcatalog.CatalogRegistry()\n",
    "endpoint = cr.get_endpoint('GSFC HelioCloud Public Temp')\n",
    "fr = cloudcatalog.CloudCatalog(endpoint, cache=True)                          "
   ]
  },
  {
   "cell_type": "code",
   "execution_count": null,
   "id": "c459c1f5-5d9d-4a12-b4ba-2d7189a0ca67",
   "metadata": {
    "tags": []
   },
   "outputs": [],
   "source": [
    "fr.get_catalog()"
   ]
  },
  {
   "cell_type": "markdown",
   "id": "1f36f4c2-2167-44ce-8720-1daa307bce81",
   "metadata": {},
   "source": [
    "# Useful search\n",
    "Given a dataset ID (from searching above or by knowing a dataset name from another catalog or search tool or even email), we can get a list of files for our desired dataset within our desired timespan.  Here's our example dataset from before:"
   ]
  },
  {
   "cell_type": "code",
   "execution_count": null,
   "id": "7122f0cf-de3a-4424-8cfd-bd4a203113e4",
   "metadata": {},
   "outputs": [],
   "source": [
    "# one sample instruments and a time range\n",
    "dataset_id1 = 'mms1_feeps_brst_electron'\n",
    "start = '2020-02-01T00:00:00Z'\n",
    "stop =   '2020-02-02T00:00:00Z'"
   ]
  },
  {
   "cell_type": "markdown",
   "id": "9252c663-3d12-4da5-a32a-3099b996eb3c",
   "metadata": {},
   "source": [
    "Each dataset has metadata (in JSON format) providing additional information.  Here is an example."
   ]
  },
  {
   "cell_type": "code",
   "execution_count": null,
   "id": "d964379a-90f4-4250-af42-964e6efdd8c4",
   "metadata": {},
   "outputs": [],
   "source": [
    "pprint(fr.get_entry(dataset_id1))"
   ]
  },
  {
   "cell_type": "markdown",
   "id": "f12bbdb3-361b-40f0-b00e-08832db7e11c",
   "metadata": {},
   "source": [
    "Now we get the actual file list of data items for our given instrument in our given time range."
   ]
  },
  {
   "cell_type": "code",
   "execution_count": null,
   "id": "15581bf1-cebd-4ad5-8100-f5a0fb08f3d8",
   "metadata": {},
   "outputs": [],
   "source": [
    "file_registry1 = fr.request_cloud_catalog(dataset_id1, start_date=start, stop_date=stop, overwrite=False)"
   ]
  },
  {
   "cell_type": "code",
   "execution_count": null,
   "id": "8bb727b6-4e7a-4a80-882c-32e145345fd7",
   "metadata": {},
   "outputs": [],
   "source": [
    "file_registry1"
   ]
  },
  {
   "cell_type": "markdown",
   "id": "26bf4bfa-16a0-4d07-b161-f1d8c7eac817",
   "metadata": {},
   "source": [
    "# Operating on files in bulk\n",
    "Here we can view metadata about the files, or plot them and otherwise extract data from them.\n",
    "\n",
    "First, some simple metadata."
   ]
  },
  {
   "cell_type": "code",
   "execution_count": null,
   "id": "be0897b3-73d7-458a-9d5d-240d556dd96c",
   "metadata": {},
   "outputs": [],
   "source": [
    "print('Python Hash of File | Start Date | File Size')\n",
    "fr.stream(file_registry1, lambda bo, d, f: print(hash(bo.read()), d.replace(' ', 'T')+'Z', f))"
   ]
  },
  {
   "cell_type": "markdown",
   "id": "00861b46-1f2f-4daf-a2ac-94f52c5c35e3",
   "metadata": {},
   "source": [
    "We define a plotting routine for CDF files here. You can (as with any code) define whatever functions you want to rip through each datafile.  We chose to plot it for this demo to show the data is accessed via S3 and loaded into this program without having to copy any files around."
   ]
  },
  {
   "cell_type": "code",
   "execution_count": null,
   "id": "0de74ccc-ad9e-44d5-a07d-409ab90e80f5",
   "metadata": {
    "tags": []
   },
   "outputs": [],
   "source": [
    "def plot_cdf(s3_uri, d, f):\n",
    "    print(\"fetching \",s3_uri)\n",
    "\n",
    "    cdf = cdflib.CDF(s3_uri)\n",
    "\n",
    "    # Get the variable name and its data\n",
    "    #var_name = cdf.cdf_info()[\"zVariables\"][2]\n",
    "    #var_data = cdf.varget(var_name)\n",
    "    var_data = cdf.varget(1)\n",
    "    var_name=\"data\"\n",
    "    # Plot the variable\n",
    "    plt.figure()\n",
    "    plt.plot(var_data)\n",
    "    plt.xlabel(\"Index\")\n",
    "    plt.ylabel(var_name)\n",
    "    plt.title(f\"Plot of {var_name}\")\n",
    "    plt.show()\n"
   ]
  },
  {
   "cell_type": "markdown",
   "id": "9f0b8261-89b9-429c-9a14-fca6ec797f8b",
   "metadata": {},
   "source": [
    "# The real stuff\n",
    "\n",
    "This is our simple runner that takes the file list and runs the plot command. In this case, we pull a subset of the list e.g.  file_registry1[:3] will pull only the first three files.\n"
   ]
  },
  {
   "cell_type": "code",
   "execution_count": null,
   "id": "7d33dfe4-bca3-48b5-abf1-aecfd989955b",
   "metadata": {},
   "outputs": [],
   "source": [
    "print('# of zVariables | Start Date | File Size')\n",
    "fr.stream_uri(file_registry1[:3], lambda s3_uri, d, f: plot_cdf(s3_uri, d, f))"
   ]
  },
  {
   "cell_type": "markdown",
   "id": "aea43080-89a2-4655-a83f-b95c96954fc6",
   "metadata": {},
   "source": [
    "That's it: find a dataset, get a list of files for a given time range, and operate on all the files in bulk."
   ]
  },
  {
   "cell_type": "code",
   "execution_count": null,
   "id": "acc00990-d5a4-4066-81a9-583f4b8ac53a",
   "metadata": {},
   "outputs": [],
   "source": []
  }
 ],
 "metadata": {
  "kernelspec": {
   "display_name": "Python 3 (ipykernel)",
   "language": "python",
   "name": "python3"
  },
  "language_info": {
   "codemirror_mode": {
    "name": "ipython",
    "version": 3
   },
   "file_extension": ".py",
   "mimetype": "text/x-python",
   "name": "python",
   "nbconvert_exporter": "python",
   "pygments_lexer": "ipython3",
   "version": "3.10.8"
  }
 },
 "nbformat": 4,
 "nbformat_minor": 5
}
