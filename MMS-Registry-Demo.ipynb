{
 "cells": [
  {
   "cell_type": "markdown",
   "id": "9e879704-7e19-4a4c-bc03-c0a2f964a7c4",
   "metadata": {},
   "source": [
    "# Registry Demo"
   ]
  },
  {
   "cell_type": "markdown",
   "id": "8da30f45-c93f-4cf9-bfe1-cdef051fe387",
   "metadata": {
    "tags": []
   },
   "source": [
    "## Setup\n",
    "The file registry API is just \"import registry\".  You also set a variable to point to where the global catalog of all known storage buckets (AWS S3 buckets) exist.  This is an index catalog that points to, basically, all known HelioClouds."
   ]
  },
  {
   "cell_type": "code",
   "execution_count": 1,
   "id": "1c9c8cbe-654a-4236-b47c-bec3cc065812",
   "metadata": {},
   "outputs": [
    {
     "name": "stdout",
     "output_type": "stream",
     "text": [
      "Requirement already satisfied: cdflib in /home/jovyan/users_conda_envs/panhelio-notebook/lib/python3.9/site-packages (1.0.5)\n",
      "Requirement already satisfied: numpy in /home/jovyan/users_conda_envs/panhelio-notebook/lib/python3.9/site-packages (from cdflib) (1.22.0)\n",
      "Note: you may need to restart the kernel to use updated packages.\n"
     ]
    }
   ],
   "source": [
    "%pip install cdflib --upgrade"
   ]
  },
  {
   "cell_type": "code",
   "execution_count": 3,
   "id": "5e92ddc5-b67f-419b-bce9-7e1192859132",
   "metadata": {
    "tags": []
   },
   "outputs": [],
   "source": [
    "import scregistry\n",
    "import cdflib\n",
    "import matplotlib.pyplot as plt\n",
    "from pprint import pprint"
   ]
  },
  {
   "cell_type": "markdown",
   "id": "8400f687-e3ba-4f50-a655-136e1f48447b",
   "metadata": {},
   "source": [
    "## Params"
   ]
  },
  {
   "cell_type": "code",
   "execution_count": 5,
   "id": "75318353-6f56-4def-b513-d8bd18cd7958",
   "metadata": {},
   "outputs": [
    {
     "name": "stdout",
     "output_type": "stream",
     "text": [
      "get_catalog {'CloudMe': '0.1', 'modificationDate': '2022-01-01T00:00Z', 'registry': [{'endpoint': 's3://helio-public/', 'name': 'GSFC HelioCloud Public Temp', 'region': 'us-east-1'}, {'endpoint': 's3://gov-nasa-hdrl-data1/', 'name': 'HelioCloud, including SDO', 'region': 'us-east-1'}]}\n",
      "get_registry: [{'endpoint': 's3://helio-public/', 'name': 'GSFC HelioCloud Public Temp', 'region': 'us-east-1'}, {'endpoint': 's3://gov-nasa-hdrl-data1/', 'name': 'HelioCloud, including SDO', 'region': 'us-east-1'}]\n",
      "get_entries: {'endpoint': 's3://helio-public/', 'name': 'GSFC HelioCloud Public Temp', 'region': 'us-east-1'}\n",
      "get_endpoint: s3://gov-nasa-hdrl-data1/\n"
     ]
    }
   ],
   "source": [
    "cr=scregistry.CatalogRegistry()\n",
    "cat = cr.get_catalog()\n",
    "print(\"get_catalog\",cat)\n",
    "reg = cr.get_registry()\n",
    "print(\"get_registry:\",reg)\n",
    "link = cr.get_entries()\n",
    "print(\"get_entries:\",link)\n",
    "url = cr.get_endpoint(\"HelioCloud, including SDO\")\n",
    "print(\"get_endpoint:\",url)"
   ]
  },
  {
   "cell_type": "markdown",
   "id": "e7624a32-9f8d-4735-9f9c-251d292deecd",
   "metadata": {},
   "source": [
    "## Searching for data with EntireCatalogSearch\n",
    "\n",
    "This initial search accesses each HelioCloud's specific data holdings to create what you probably want, which is a list of all datasets available within the entire HelioCloud ecosystem.\n",
    "\n",
    "We include an example of a down or de-registered catalog to emphasize this index catalog points to HelioClouds, but doesn't manage them.\n",
    "\n"
   ]
  },
  {
   "cell_type": "code",
   "execution_count": 6,
   "id": "9f00a411-42e5-426f-9f5d-d798d39c4b73",
   "metadata": {},
   "outputs": [],
   "source": [
    "search = scregistry.EntireCatalogSearch()"
   ]
  },
  {
   "cell_type": "markdown",
   "id": "fddac569-263e-45b6-9d12-ec1bd942cdcc",
   "metadata": {},
   "source": [
    "Now let us do something useful-- look for MMS1 FEEPS data, or ion data, or other items of interest."
   ]
  },
  {
   "cell_type": "code",
   "execution_count": 7,
   "id": "7fb78465-3da1-4e58-8536-fdec109e7896",
   "metadata": {},
   "outputs": [
    {
     "data": {
      "text/plain": [
       "[{'id': 'mms1_feeps_brst_electron',\n",
       "  'index': 's3://helio-public/MMS/mms1/feeps/brst/l2/electron/',\n",
       "  'title': 'mms1/feeps/brst/l2/electron/',\n",
       "  'start': '2015-06-01T00:00:00Z',\n",
       "  'stop': '2021-12-31T23:59:00Z',\n",
       "  'modification': '2023-03-08T00:00:00Z',\n",
       "  'indextype': 'csv',\n",
       "  'filetype': 'cdf',\n",
       "  'description': 'Optional description for dataset',\n",
       "  'resource': 'optional identifier e.g. SPASE ID',\n",
       "  'creation': '2023-04-05T00:00:00Z',\n",
       "  'citation': 'optional how to cite this dataset, DOI or similar',\n",
       "  'contact': 'optional contact info, SPASE ID, email, or ORCID',\n",
       "  'about': 'optional website URL for info, team, etc'},\n",
       " {'id': 'mms1_feeps_brst_ion',\n",
       "  'index': 's3://helio-public/MMS/mms1/feeps/brst/l2/ion/',\n",
       "  'title': 'mms1/feeps/brst/l2/ion/',\n",
       "  'start': '2015-06-01T00:00:00Z',\n",
       "  'stop': '2021-12-31T23:59:00Z',\n",
       "  'modification': '2023-03-08T00:00:00Z',\n",
       "  'indextype': 'csv',\n",
       "  'filetype': 'cdf'},\n",
       " {'id': 'mms1_feeps_srvy_electron',\n",
       "  'index': 's3://helio-public/MMS/mms1/feeps/srvy/l2/electron/',\n",
       "  'title': 'mms1/feeps/srvy/l2/electron/',\n",
       "  'start': '2015-06-01T00:00:00Z',\n",
       "  'stop': '2021-12-31T23:59:00Z',\n",
       "  'modification': '2023-03-08T00:00:00Z',\n",
       "  'indextype': 'csv',\n",
       "  'filetype': 'cdf'},\n",
       " {'id': 'mms1_feeps_srvy_ion',\n",
       "  'index': 's3://helio-public/MMS/mms1/feeps/srvy/l2/ion/',\n",
       "  'title': 'mms1/feeps/srvy/l2/ion/',\n",
       "  'start': '2015-06-01T00:00:00Z',\n",
       "  'stop': '2021-12-31T23:59:00Z',\n",
       "  'modification': '2023-03-08T00:00:00Z',\n",
       "  'indextype': 'csv',\n",
       "  'filetype': 'cdf'}]"
      ]
     },
     "execution_count": 7,
     "metadata": {},
     "output_type": "execute_result"
    }
   ],
   "source": [
    "search.search_by_id('mms1_feeps')"
   ]
  },
  {
   "cell_type": "code",
   "execution_count": 8,
   "id": "53f864e3-0ce3-4ab5-838a-a6ceee02d5fe",
   "metadata": {},
   "outputs": [
    {
     "data": {
      "text/plain": [
       "[{'id': 'mms1_feeps_srvy_ion',\n",
       "  'index': 's3://helio-public/MMS/mms1/feeps/srvy/l2/ion/',\n",
       "  'title': 'mms1/feeps/srvy/l2/ion/',\n",
       "  'start': '2015-06-01T00:00:00Z',\n",
       "  'stop': '2021-12-31T23:59:00Z',\n",
       "  'modification': '2023-03-08T00:00:00Z',\n",
       "  'indextype': 'csv',\n",
       "  'filetype': 'cdf'},\n",
       " {'id': 'mms2_feeps_srvy_ion',\n",
       "  'index': 's3://helio-public/MMS/mms2/feeps/srvy/l2/ion/',\n",
       "  'title': 'mms2/feeps/srvy/l2/ion/',\n",
       "  'start': '2015-06-01T00:00:00Z',\n",
       "  'stop': '2021-12-31T23:59:00Z',\n",
       "  'modification': '2023-03-08T00:00:00Z',\n",
       "  'indextype': 'csv',\n",
       "  'filetype': 'cdf'},\n",
       " {'id': 'mms3_feeps_srvy_ion',\n",
       "  'index': 's3://helio-public/MMS/mms3/feeps/srvy/l2/ion/',\n",
       "  'title': 'mms3/feeps/srvy/l2/ion/',\n",
       "  'start': '2015-06-01T00:00:00Z',\n",
       "  'stop': '2021-12-31T23:59:00Z',\n",
       "  'modification': '2023-03-08T00:00:00Z',\n",
       "  'indextype': 'csv',\n",
       "  'filetype': 'cdf'},\n",
       " {'id': 'mms4_feeps_srvy_ion',\n",
       "  'index': 's3://helio-public/MMS/mms4/feeps/srvy/l2/ion/',\n",
       "  'title': 'mms4/feeps/srvy/l2/ion/',\n",
       "  'start': '2015-06-01T00:00:00Z',\n",
       "  'stop': '2021-12-31T23:59:00Z',\n",
       "  'modification': '2023-03-08T00:00:00Z',\n",
       "  'indextype': 'csv',\n",
       "  'filetype': 'cdf'}]"
      ]
     },
     "execution_count": 8,
     "metadata": {},
     "output_type": "execute_result"
    }
   ],
   "source": [
    "search.search_by_id('srvy_ion')"
   ]
  },
  {
   "cell_type": "code",
   "execution_count": 9,
   "id": "3a390502-3be2-4ad1-91f7-8c957c1530d9",
   "metadata": {},
   "outputs": [
    {
     "data": {
      "text/plain": [
       "[{'id': 'mms1_fpi_brst_des-dist',\n",
       "  'index': 's3://helio-public/MMS/mms1/fpi/brst/l2/des-dist/',\n",
       "  'title': 'mms1/fpi/brst/l2/des-dist/',\n",
       "  'start': '2015-06-01T00:00:00Z',\n",
       "  'stop': '2021-12-31T23:59:00Z',\n",
       "  'modification': '2023-03-08T00:00:00Z',\n",
       "  'indextype': 'csv',\n",
       "  'filetype': 'cdf'},\n",
       " {'id': 'mms1_fpi_brst_des-moms',\n",
       "  'index': 's3://helio-public/MMS/mms1/fpi/brst/l2/des-moms/',\n",
       "  'title': 'mms1/fpi/brst/l2/des-moms/',\n",
       "  'start': '2015-06-01T00:00:00Z',\n",
       "  'stop': '2021-12-31T23:59:00Z',\n",
       "  'modification': '2023-03-08T00:00:00Z',\n",
       "  'indextype': 'csv',\n",
       "  'filetype': 'cdf'},\n",
       " {'id': 'mms1_fpi_brst_dis-dist',\n",
       "  'index': 's3://helio-public/MMS/mms1/fpi/brst/l2/dis-dist/',\n",
       "  'title': 'mms1/fpi/brst/l2/dis-dist/',\n",
       "  'start': '2015-06-01T00:00:00Z',\n",
       "  'stop': '2021-12-31T23:59:00Z',\n",
       "  'modification': '2023-03-08T00:00:00Z',\n",
       "  'indextype': 'csv',\n",
       "  'filetype': 'cdf'},\n",
       " {'id': 'mms1_fpi_brst_dis-moms',\n",
       "  'index': 's3://helio-public/MMS/mms1/fpi/brst/l2/dis-moms/',\n",
       "  'title': 'mms1/fpi/brst/l2/dis-moms/',\n",
       "  'start': '2015-06-01T00:00:00Z',\n",
       "  'stop': '2021-12-31T23:59:00Z',\n",
       "  'modification': '2023-03-08T00:00:00Z',\n",
       "  'indextype': 'csv',\n",
       "  'filetype': 'cdf'}]"
      ]
     },
     "execution_count": 9,
     "metadata": {},
     "output_type": "execute_result"
    }
   ],
   "source": [
    "search.search_by_title('mms1/fpi/b')"
   ]
  },
  {
   "cell_type": "code",
   "execution_count": 10,
   "id": "237a8eab-6e4c-444e-9c37-ad2699c3a463",
   "metadata": {},
   "outputs": [
    {
     "data": {
      "text/plain": [
       "[{'id': 'mms1_fpi_brst_des-dist',\n",
       "  'index': 's3://helio-public/MMS/mms1/fpi/brst/l2/des-dist/',\n",
       "  'title': 'mms1/fpi/brst/l2/des-dist/',\n",
       "  'start': '2015-06-01T00:00:00Z',\n",
       "  'stop': '2021-12-31T23:59:00Z',\n",
       "  'modification': '2023-03-08T00:00:00Z',\n",
       "  'indextype': 'csv',\n",
       "  'filetype': 'cdf'},\n",
       " {'id': 'mms1_fpi_fast_des-dist',\n",
       "  'index': 's3://helio-public/MMS/mms1/fpi/fast/l2/des-dist/',\n",
       "  'title': 'mms1/fpi/fast/l2/des-dist/',\n",
       "  'start': '2015-06-01T00:00:00Z',\n",
       "  'stop': '2021-12-31T23:59:00Z',\n",
       "  'modification': '2023-03-08T00:00:00Z',\n",
       "  'indextype': 'csv',\n",
       "  'filetype': 'cdf'}]"
      ]
     },
     "execution_count": 10,
     "metadata": {},
     "output_type": "execute_result"
    }
   ],
   "source": [
    "search.search_by_title('des-dist')[:2]"
   ]
  },
  {
   "cell_type": "code",
   "execution_count": 11,
   "id": "f8284234-98b6-4c61-b08d-2bb63d95497a",
   "metadata": {},
   "outputs": [
    {
     "data": {
      "text/plain": [
       "[{'id': 'mms2_feeps_brst_electron',\n",
       "  'index': 's3://helio-public/MMS/mms2/feeps/brst/l2/electron/',\n",
       "  'title': 'mms2/feeps/brst/l2/electron/',\n",
       "  'start': '2015-06-01T00:00:00Z',\n",
       "  'stop': '2021-12-31T23:59:00Z',\n",
       "  'modification': '2023-03-08T00:00:00Z',\n",
       "  'indextype': 'csv',\n",
       "  'filetype': 'cdf'},\n",
       " {'id': 'mms2_feeps_brst_ion',\n",
       "  'index': 's3://helio-public/MMS/mms2/feeps/brst/l2/ion/',\n",
       "  'title': 'mms2/feeps/brst/l2/ion/',\n",
       "  'start': '2015-06-01T00:00:00Z',\n",
       "  'stop': '2021-12-31T23:59:00Z',\n",
       "  'modification': '2023-03-08T00:00:00Z',\n",
       "  'indextype': 'csv',\n",
       "  'filetype': 'cdf'},\n",
       " {'id': 'mms2_fgm_brst',\n",
       "  'index': 's3://helio-public/MMS/mms2/fgm/brst/l2/',\n",
       "  'title': 'mms2/fgm/brst/l2/',\n",
       "  'start': '2015-06-01T00:00:00Z',\n",
       "  'stop': '2021-12-31T23:59:00Z',\n",
       "  'modification': '2023-03-08T00:00:00Z',\n",
       "  'indextype': 'csv',\n",
       "  'filetype': 'cdf'}]"
      ]
     },
     "execution_count": 11,
     "metadata": {},
     "output_type": "execute_result"
    }
   ],
   "source": [
    "search.search_by_keywords(['mms2', 'brst', 'apples'])[:3]"
   ]
  },
  {
   "cell_type": "markdown",
   "id": "b15df548-c5e1-413a-85e2-9d3e10b87d73",
   "metadata": {
    "tags": []
   },
   "source": [
    "## Working with the global catalog (..the name)\n",
    "This is primarily for admins and people looking for background information on other HelioClouds (rather than on other datasets).\n"
   ]
  },
  {
   "cell_type": "code",
   "execution_count": 12,
   "id": "fcbc3652-6191-41b0-8407-217c54360852",
   "metadata": {},
   "outputs": [],
   "source": [
    "cr = scregistry.CatalogRegistry()"
   ]
  },
  {
   "cell_type": "code",
   "execution_count": 13,
   "id": "cd09c713-0006-421d-94cb-353073432bea",
   "metadata": {},
   "outputs": [
    {
     "data": {
      "text/plain": [
       "{'CloudMe': '0.1',\n",
       " 'modificationDate': '2022-01-01T00:00Z',\n",
       " 'registry': [{'endpoint': 's3://helio-public/',\n",
       "   'name': 'GSFC HelioCloud Public Temp',\n",
       "   'region': 'us-east-1'},\n",
       "  {'endpoint': 's3://gov-nasa-hdrl-data1/',\n",
       "   'name': 'HelioCloud, including SDO',\n",
       "   'region': 'us-east-1'}]}"
      ]
     },
     "execution_count": 13,
     "metadata": {},
     "output_type": "execute_result"
    }
   ],
   "source": [
    "cr.get_catalog()"
   ]
  },
  {
   "cell_type": "code",
   "execution_count": 14,
   "id": "371e2b32-1533-4e4d-be2a-e2215f562eb0",
   "metadata": {},
   "outputs": [
    {
     "data": {
      "text/plain": [
       "[{'endpoint': 's3://helio-public/',\n",
       "  'name': 'GSFC HelioCloud Public Temp',\n",
       "  'region': 'us-east-1'},\n",
       " {'endpoint': 's3://gov-nasa-hdrl-data1/',\n",
       "  'name': 'HelioCloud, including SDO',\n",
       "  'region': 'us-east-1'}]"
      ]
     },
     "execution_count": 14,
     "metadata": {},
     "output_type": "execute_result"
    }
   ],
   "source": [
    "cr.get_registry()"
   ]
  },
  {
   "cell_type": "code",
   "execution_count": 15,
   "id": "e0dbd4eb-efce-4551-a162-011ccb07ec1b",
   "metadata": {},
   "outputs": [
    {
     "data": {
      "text/plain": [
       "{'endpoint': 's3://helio-public/',\n",
       " 'name': 'GSFC HelioCloud Public Temp',\n",
       " 'region': 'us-east-1'}"
      ]
     },
     "execution_count": 15,
     "metadata": {},
     "output_type": "execute_result"
    }
   ],
   "source": [
    "cr.get_entries()"
   ]
  },
  {
   "cell_type": "code",
   "execution_count": 16,
   "id": "a67bde5f-4f5b-4f21-abdd-8fe92468675b",
   "metadata": {},
   "outputs": [
    {
     "data": {
      "text/plain": [
       "'s3://helio-public/'"
      ]
     },
     "execution_count": 16,
     "metadata": {},
     "output_type": "execute_result"
    }
   ],
   "source": [
    "endpoint = cr.get_endpoint('GSFC HelioCloud Public Temp')\n",
    "endpoint"
   ]
  },
  {
   "cell_type": "code",
   "execution_count": 17,
   "id": "47b803bd-dd45-4bd6-8d35-8c56a29f39c5",
   "metadata": {},
   "outputs": [
    {
     "data": {
      "text/plain": [
       "{'CloudMe': '0.1',\n",
       " 'modificationDate': '2022-01-01T00:00Z',\n",
       " 'registry': [{'endpoint': 's3://helio-public/',\n",
       "   'name': 'GSFC HelioCloud Public Temp',\n",
       "   'region': 'us-east-1'},\n",
       "  {'endpoint': 's3://gov-nasa-hdrl-data1/',\n",
       "   'name': 'HelioCloud, including SDO',\n",
       "   'region': 'us-east-1'}]}"
      ]
     },
     "execution_count": 17,
     "metadata": {},
     "output_type": "execute_result"
    }
   ],
   "source": [
    "cr.catalog"
   ]
  },
  {
   "cell_type": "markdown",
   "id": "93ad4736-f3b8-41e5-8dca-c8dfa006e4fc",
   "metadata": {},
   "source": [
    "## Working with a local catalog\n",
    "Here we browse all the data holdings within a specific disk."
   ]
  },
  {
   "cell_type": "code",
   "execution_count": 18,
   "id": "2e801f1c-eecf-45be-9dc4-46b0dc32eb2b",
   "metadata": {
    "tags": []
   },
   "outputs": [],
   "source": [
    "cr = scregistry.CatalogRegistry()\n",
    "endpoint = cr.get_endpoint('GSFC HelioCloud Public Temp')\n",
    "fr = scregistry.FileRegistry(endpoint, cache=True)                          "
   ]
  },
  {
   "cell_type": "code",
   "execution_count": 19,
   "id": "c459c1f5-5d9d-4a12-b4ba-2d7189a0ca67",
   "metadata": {
    "tags": []
   },
   "outputs": [
    {
     "data": {
      "text/plain": [
       "{'Cloudy': '0.2',\n",
       " 'endpoint': 's3://helio-public/',\n",
       " 'name': 'GSFC HelioCloud',\n",
       " 'contact': 'Dr. Contact, dr_contact@example.com',\n",
       " 'description': 'Optional description of this collection',\n",
       " 'citation': 'Optional how to cite, preferably a DOI for the server',\n",
       " 'catalog': [{'id': 'mms1_feeps_brst_electron',\n",
       "   'index': 's3://helio-public/MMS/mms1/feeps/brst/l2/electron/',\n",
       "   'title': 'mms1/feeps/brst/l2/electron/',\n",
       "   'start': '2015-06-01T00:00:00Z',\n",
       "   'stop': '2021-12-31T23:59:00Z',\n",
       "   'modification': '2023-03-08T00:00:00Z',\n",
       "   'indextype': 'csv',\n",
       "   'filetype': 'cdf',\n",
       "   'description': 'Optional description for dataset',\n",
       "   'resource': 'optional identifier e.g. SPASE ID',\n",
       "   'creation': '2023-04-05T00:00:00Z',\n",
       "   'citation': 'optional how to cite this dataset, DOI or similar',\n",
       "   'contact': 'optional contact info, SPASE ID, email, or ORCID',\n",
       "   'about': 'optional website URL for info, team, etc'},\n",
       "  {'id': 'mms1_feeps_brst_ion',\n",
       "   'index': 's3://helio-public/MMS/mms1/feeps/brst/l2/ion/',\n",
       "   'title': 'mms1/feeps/brst/l2/ion/',\n",
       "   'start': '2015-06-01T00:00:00Z',\n",
       "   'stop': '2021-12-31T23:59:00Z',\n",
       "   'modification': '2023-03-08T00:00:00Z',\n",
       "   'indextype': 'csv',\n",
       "   'filetype': 'cdf'},\n",
       "  {'id': 'mms1_feeps_srvy_electron',\n",
       "   'index': 's3://helio-public/MMS/mms1/feeps/srvy/l2/electron/',\n",
       "   'title': 'mms1/feeps/srvy/l2/electron/',\n",
       "   'start': '2015-06-01T00:00:00Z',\n",
       "   'stop': '2021-12-31T23:59:00Z',\n",
       "   'modification': '2023-03-08T00:00:00Z',\n",
       "   'indextype': 'csv',\n",
       "   'filetype': 'cdf'},\n",
       "  {'id': 'mms1_feeps_srvy_ion',\n",
       "   'index': 's3://helio-public/MMS/mms1/feeps/srvy/l2/ion/',\n",
       "   'title': 'mms1/feeps/srvy/l2/ion/',\n",
       "   'start': '2015-06-01T00:00:00Z',\n",
       "   'stop': '2021-12-31T23:59:00Z',\n",
       "   'modification': '2023-03-08T00:00:00Z',\n",
       "   'indextype': 'csv',\n",
       "   'filetype': 'cdf'},\n",
       "  {'id': 'mms1_fgm_brst',\n",
       "   'index': 's3://helio-public/MMS/mms1/fgm/brst/l2/',\n",
       "   'title': 'mms1/fgm/brst/l2/',\n",
       "   'start': '2015-06-01T00:00:00Z',\n",
       "   'stop': '2021-12-31T23:59:00Z',\n",
       "   'modification': '2023-03-08T00:00:00Z',\n",
       "   'indextype': 'csv',\n",
       "   'filetype': 'cdf'},\n",
       "  {'id': 'mms1_fgm_srvy',\n",
       "   'index': 's3://helio-public/MMS/mms1/fgm/srvy/l2/',\n",
       "   'title': 'mms1/fgm/srvy/l2/',\n",
       "   'start': '2015-06-01T00:00:00Z',\n",
       "   'stop': '2021-12-31T23:59:00Z',\n",
       "   'modification': '2023-03-08T00:00:00Z',\n",
       "   'indextype': 'csv',\n",
       "   'filetype': 'cdf'},\n",
       "  {'id': 'mms1_fpi_brst_des-dist',\n",
       "   'index': 's3://helio-public/MMS/mms1/fpi/brst/l2/des-dist/',\n",
       "   'title': 'mms1/fpi/brst/l2/des-dist/',\n",
       "   'start': '2015-06-01T00:00:00Z',\n",
       "   'stop': '2021-12-31T23:59:00Z',\n",
       "   'modification': '2023-03-08T00:00:00Z',\n",
       "   'indextype': 'csv',\n",
       "   'filetype': 'cdf'},\n",
       "  {'id': 'mms1_fpi_brst_des-moms',\n",
       "   'index': 's3://helio-public/MMS/mms1/fpi/brst/l2/des-moms/',\n",
       "   'title': 'mms1/fpi/brst/l2/des-moms/',\n",
       "   'start': '2015-06-01T00:00:00Z',\n",
       "   'stop': '2021-12-31T23:59:00Z',\n",
       "   'modification': '2023-03-08T00:00:00Z',\n",
       "   'indextype': 'csv',\n",
       "   'filetype': 'cdf'},\n",
       "  {'id': 'mms1_fpi_brst_dis-dist',\n",
       "   'index': 's3://helio-public/MMS/mms1/fpi/brst/l2/dis-dist/',\n",
       "   'title': 'mms1/fpi/brst/l2/dis-dist/',\n",
       "   'start': '2015-06-01T00:00:00Z',\n",
       "   'stop': '2021-12-31T23:59:00Z',\n",
       "   'modification': '2023-03-08T00:00:00Z',\n",
       "   'indextype': 'csv',\n",
       "   'filetype': 'cdf'},\n",
       "  {'id': 'mms1_fpi_brst_dis-moms',\n",
       "   'index': 's3://helio-public/MMS/mms1/fpi/brst/l2/dis-moms/',\n",
       "   'title': 'mms1/fpi/brst/l2/dis-moms/',\n",
       "   'start': '2015-06-01T00:00:00Z',\n",
       "   'stop': '2021-12-31T23:59:00Z',\n",
       "   'modification': '2023-03-08T00:00:00Z',\n",
       "   'indextype': 'csv',\n",
       "   'filetype': 'cdf'},\n",
       "  {'id': 'mms1_fpi_fast_des-dist',\n",
       "   'index': 's3://helio-public/MMS/mms1/fpi/fast/l2/des-dist/',\n",
       "   'title': 'mms1/fpi/fast/l2/des-dist/',\n",
       "   'start': '2015-06-01T00:00:00Z',\n",
       "   'stop': '2021-12-31T23:59:00Z',\n",
       "   'modification': '2023-03-08T00:00:00Z',\n",
       "   'indextype': 'csv',\n",
       "   'filetype': 'cdf'},\n",
       "  {'id': 'mms1_fpi_fast_des-moms',\n",
       "   'index': 's3://helio-public/MMS/mms1/fpi/fast/l2/des-moms/',\n",
       "   'title': 'mms1/fpi/fast/l2/des-moms/',\n",
       "   'start': '2015-06-01T00:00:00Z',\n",
       "   'stop': '2021-12-31T23:59:00Z',\n",
       "   'modification': '2023-03-08T00:00:00Z',\n",
       "   'indextype': 'csv',\n",
       "   'filetype': 'cdf'},\n",
       "  {'id': 'mms1_fpi_fast_dis-dist',\n",
       "   'index': 's3://helio-public/MMS/mms1/fpi/fast/l2/dis-dist/',\n",
       "   'title': 'mms1/fpi/fast/l2/dis-dist/',\n",
       "   'start': '2015-06-01T00:00:00Z',\n",
       "   'stop': '2021-12-31T23:59:00Z',\n",
       "   'modification': '2023-03-08T00:00:00Z',\n",
       "   'indextype': 'csv',\n",
       "   'filetype': 'cdf'},\n",
       "  {'id': 'mms1_fpi_fast_dis-moms',\n",
       "   'index': 's3://helio-public/MMS/mms1/fpi/fast/l2/dis-moms/',\n",
       "   'title': 'mms1/fpi/fast/l2/dis-moms/',\n",
       "   'start': '2015-06-01T00:00:00Z',\n",
       "   'stop': '2021-12-31T23:59:00Z',\n",
       "   'modification': '2023-03-08T00:00:00Z',\n",
       "   'indextype': 'csv',\n",
       "   'filetype': 'cdf'},\n",
       "  {'id': 'mms1_mec_brst_epht89d',\n",
       "   'index': 's3://helio-public/MMS/mms1/mec/brst/l2/epht89d/',\n",
       "   'title': 'mms1/mec/brst/l2/epht89d/',\n",
       "   'start': '2015-06-01T00:00:00Z',\n",
       "   'stop': '2021-12-31T23:59:00Z',\n",
       "   'modification': '2023-03-08T00:00:00Z',\n",
       "   'indextype': 'csv',\n",
       "   'filetype': 'cdf'},\n",
       "  {'id': 'mms1_mec_srvy_epht89d',\n",
       "   'index': 's3://helio-public/MMS/mms1/mec/srvy/l2/epht89d/',\n",
       "   'title': 'mms1/mec/srvy/l2/epht89d/',\n",
       "   'start': '2015-06-01T00:00:00Z',\n",
       "   'stop': '2021-12-31T23:59:00Z',\n",
       "   'modification': '2023-03-08T00:00:00Z',\n",
       "   'indextype': 'csv',\n",
       "   'filetype': 'cdf'},\n",
       "  {'id': 'mms2_feeps_brst_electron',\n",
       "   'index': 's3://helio-public/MMS/mms2/feeps/brst/l2/electron/',\n",
       "   'title': 'mms2/feeps/brst/l2/electron/',\n",
       "   'start': '2015-06-01T00:00:00Z',\n",
       "   'stop': '2021-12-31T23:59:00Z',\n",
       "   'modification': '2023-03-08T00:00:00Z',\n",
       "   'indextype': 'csv',\n",
       "   'filetype': 'cdf'},\n",
       "  {'id': 'mms2_feeps_brst_ion',\n",
       "   'index': 's3://helio-public/MMS/mms2/feeps/brst/l2/ion/',\n",
       "   'title': 'mms2/feeps/brst/l2/ion/',\n",
       "   'start': '2015-06-01T00:00:00Z',\n",
       "   'stop': '2021-12-31T23:59:00Z',\n",
       "   'modification': '2023-03-08T00:00:00Z',\n",
       "   'indextype': 'csv',\n",
       "   'filetype': 'cdf'},\n",
       "  {'id': 'mms2_feeps_srvy_electron',\n",
       "   'index': 's3://helio-public/MMS/mms2/feeps/srvy/l2/electron/',\n",
       "   'title': 'mms2/feeps/srvy/l2/electron/',\n",
       "   'start': '2015-06-01T00:00:00Z',\n",
       "   'stop': '2021-12-31T23:59:00Z',\n",
       "   'modification': '2023-03-08T00:00:00Z',\n",
       "   'indextype': 'csv',\n",
       "   'filetype': 'cdf'},\n",
       "  {'id': 'mms2_feeps_srvy_ion',\n",
       "   'index': 's3://helio-public/MMS/mms2/feeps/srvy/l2/ion/',\n",
       "   'title': 'mms2/feeps/srvy/l2/ion/',\n",
       "   'start': '2015-06-01T00:00:00Z',\n",
       "   'stop': '2021-12-31T23:59:00Z',\n",
       "   'modification': '2023-03-08T00:00:00Z',\n",
       "   'indextype': 'csv',\n",
       "   'filetype': 'cdf'},\n",
       "  {'id': 'mms2_fgm_brst',\n",
       "   'index': 's3://helio-public/MMS/mms2/fgm/brst/l2/',\n",
       "   'title': 'mms2/fgm/brst/l2/',\n",
       "   'start': '2015-06-01T00:00:00Z',\n",
       "   'stop': '2021-12-31T23:59:00Z',\n",
       "   'modification': '2023-03-08T00:00:00Z',\n",
       "   'indextype': 'csv',\n",
       "   'filetype': 'cdf'},\n",
       "  {'id': 'mms2_fgm_srvy',\n",
       "   'index': 's3://helio-public/MMS/mms2/fgm/srvy/l2/',\n",
       "   'title': 'mms2/fgm/srvy/l2/',\n",
       "   'start': '2015-06-01T00:00:00Z',\n",
       "   'stop': '2021-12-31T23:59:00Z',\n",
       "   'modification': '2023-03-08T00:00:00Z',\n",
       "   'indextype': 'csv',\n",
       "   'filetype': 'cdf'},\n",
       "  {'id': 'mms2_fpi_brst_des-dist',\n",
       "   'index': 's3://helio-public/MMS/mms2/fpi/brst/l2/des-dist/',\n",
       "   'title': 'mms2/fpi/brst/l2/des-dist/',\n",
       "   'start': '2015-06-01T00:00:00Z',\n",
       "   'stop': '2021-12-31T23:59:00Z',\n",
       "   'modification': '2023-03-08T00:00:00Z',\n",
       "   'indextype': 'csv',\n",
       "   'filetype': 'cdf'},\n",
       "  {'id': 'mms2_fpi_brst_des-moms',\n",
       "   'index': 's3://helio-public/MMS/mms2/fpi/brst/l2/des-moms/',\n",
       "   'title': 'mms2/fpi/brst/l2/des-moms/',\n",
       "   'start': '2015-06-01T00:00:00Z',\n",
       "   'stop': '2021-12-31T23:59:00Z',\n",
       "   'modification': '2023-03-08T00:00:00Z',\n",
       "   'indextype': 'csv',\n",
       "   'filetype': 'cdf'},\n",
       "  {'id': 'mms2_fpi_brst_dis-dist',\n",
       "   'index': 's3://helio-public/MMS/mms2/fpi/brst/l2/dis-dist/',\n",
       "   'title': 'mms2/fpi/brst/l2/dis-dist/',\n",
       "   'start': '2015-06-01T00:00:00Z',\n",
       "   'stop': '2021-12-31T23:59:00Z',\n",
       "   'modification': '2023-03-08T00:00:00Z',\n",
       "   'indextype': 'csv',\n",
       "   'filetype': 'cdf'},\n",
       "  {'id': 'mms2_fpi_brst_dis-moms',\n",
       "   'index': 's3://helio-public/MMS/mms2/fpi/brst/l2/dis-moms/',\n",
       "   'title': 'mms2/fpi/brst/l2/dis-moms/',\n",
       "   'start': '2015-06-01T00:00:00Z',\n",
       "   'stop': '2021-12-31T23:59:00Z',\n",
       "   'modification': '2023-03-08T00:00:00Z',\n",
       "   'indextype': 'csv',\n",
       "   'filetype': 'cdf'},\n",
       "  {'id': 'mms2_fpi_fast_des-dist',\n",
       "   'index': 's3://helio-public/MMS/mms2/fpi/fast/l2/des-dist/',\n",
       "   'title': 'mms2/fpi/fast/l2/des-dist/',\n",
       "   'start': '2015-06-01T00:00:00Z',\n",
       "   'stop': '2021-12-31T23:59:00Z',\n",
       "   'modification': '2023-03-08T00:00:00Z',\n",
       "   'indextype': 'csv',\n",
       "   'filetype': 'cdf'},\n",
       "  {'id': 'mms2_fpi_fast_des-moms',\n",
       "   'index': 's3://helio-public/MMS/mms2/fpi/fast/l2/des-moms/',\n",
       "   'title': 'mms2/fpi/fast/l2/des-moms/',\n",
       "   'start': '2015-06-01T00:00:00Z',\n",
       "   'stop': '2021-12-31T23:59:00Z',\n",
       "   'modification': '2023-03-08T00:00:00Z',\n",
       "   'indextype': 'csv',\n",
       "   'filetype': 'cdf'},\n",
       "  {'id': 'mms2_fpi_fast_dis-dist',\n",
       "   'index': 's3://helio-public/MMS/mms2/fpi/fast/l2/dis-dist/',\n",
       "   'title': 'mms2/fpi/fast/l2/dis-dist/',\n",
       "   'start': '2015-06-01T00:00:00Z',\n",
       "   'stop': '2021-12-31T23:59:00Z',\n",
       "   'modification': '2023-03-08T00:00:00Z',\n",
       "   'indextype': 'csv',\n",
       "   'filetype': 'cdf'},\n",
       "  {'id': 'mms2_fpi_fast_dis-moms',\n",
       "   'index': 's3://helio-public/MMS/mms2/fpi/fast/l2/dis-moms/',\n",
       "   'title': 'mms2/fpi/fast/l2/dis-moms/',\n",
       "   'start': '2015-06-01T00:00:00Z',\n",
       "   'stop': '2021-12-31T23:59:00Z',\n",
       "   'modification': '2023-03-08T00:00:00Z',\n",
       "   'indextype': 'csv',\n",
       "   'filetype': 'cdf'},\n",
       "  {'id': 'mms2_mec_brst_epht89d',\n",
       "   'index': 's3://helio-public/MMS/mms2/mec/brst/l2/epht89d/',\n",
       "   'title': 'mms2/mec/brst/l2/epht89d/',\n",
       "   'start': '2015-06-01T00:00:00Z',\n",
       "   'stop': '2021-12-31T23:59:00Z',\n",
       "   'modification': '2023-03-08T00:00:00Z',\n",
       "   'indextype': 'csv',\n",
       "   'filetype': 'cdf'},\n",
       "  {'id': 'mms2_mec_srvy_epht89d',\n",
       "   'index': 's3://helio-public/MMS/mms2/mec/srvy/l2/epht89d/',\n",
       "   'title': 'mms2/mec/srvy/l2/epht89d/',\n",
       "   'start': '2015-06-01T00:00:00Z',\n",
       "   'stop': '2021-12-31T23:59:00Z',\n",
       "   'modification': '2023-03-08T00:00:00Z',\n",
       "   'indextype': 'csv',\n",
       "   'filetype': 'cdf'},\n",
       "  {'id': 'mms3_feeps_brst_electron',\n",
       "   'index': 's3://helio-public/MMS/mms3/feeps/brst/l2/electron/',\n",
       "   'title': 'mms3/feeps/brst/l2/electron/',\n",
       "   'start': '2015-06-01T00:00:00Z',\n",
       "   'stop': '2021-12-31T23:59:00Z',\n",
       "   'modification': '2023-03-08T00:00:00Z',\n",
       "   'indextype': 'csv',\n",
       "   'filetype': 'cdf'},\n",
       "  {'id': 'mms3_feeps_brst_ion',\n",
       "   'index': 's3://helio-public/MMS/mms3/feeps/brst/l2/ion/',\n",
       "   'title': 'mms3/feeps/brst/l2/ion/',\n",
       "   'start': '2015-06-01T00:00:00Z',\n",
       "   'stop': '2021-12-31T23:59:00Z',\n",
       "   'modification': '2023-03-08T00:00:00Z',\n",
       "   'indextype': 'csv',\n",
       "   'filetype': 'cdf'},\n",
       "  {'id': 'mms3_feeps_srvy_electron',\n",
       "   'index': 's3://helio-public/MMS/mms3/feeps/srvy/l2/electron/',\n",
       "   'title': 'mms3/feeps/srvy/l2/electron/',\n",
       "   'start': '2015-06-01T00:00:00Z',\n",
       "   'stop': '2021-12-31T23:59:00Z',\n",
       "   'modification': '2023-03-08T00:00:00Z',\n",
       "   'indextype': 'csv',\n",
       "   'filetype': 'cdf'},\n",
       "  {'id': 'mms3_feeps_srvy_ion',\n",
       "   'index': 's3://helio-public/MMS/mms3/feeps/srvy/l2/ion/',\n",
       "   'title': 'mms3/feeps/srvy/l2/ion/',\n",
       "   'start': '2015-06-01T00:00:00Z',\n",
       "   'stop': '2021-12-31T23:59:00Z',\n",
       "   'modification': '2023-03-08T00:00:00Z',\n",
       "   'indextype': 'csv',\n",
       "   'filetype': 'cdf'},\n",
       "  {'id': 'mms3_fgm_brst',\n",
       "   'index': 's3://helio-public/MMS/mms3/fgm/brst/l2/',\n",
       "   'title': 'mms3/fgm/brst/l2/',\n",
       "   'start': '2015-06-01T00:00:00Z',\n",
       "   'stop': '2021-12-31T23:59:00Z',\n",
       "   'modification': '2023-03-08T00:00:00Z',\n",
       "   'indextype': 'csv',\n",
       "   'filetype': 'cdf'},\n",
       "  {'id': 'mms3_fgm_srvy',\n",
       "   'index': 's3://helio-public/MMS/mms3/fgm/srvy/l2/',\n",
       "   'title': 'mms3/fgm/srvy/l2/',\n",
       "   'start': '2015-06-01T00:00:00Z',\n",
       "   'stop': '2021-12-31T23:59:00Z',\n",
       "   'modification': '2023-03-08T00:00:00Z',\n",
       "   'indextype': 'csv',\n",
       "   'filetype': 'cdf'},\n",
       "  {'id': 'mms3_fpi_brst_des-dist',\n",
       "   'index': 's3://helio-public/MMS/mms3/fpi/brst/l2/des-dist/',\n",
       "   'title': 'mms3/fpi/brst/l2/des-dist/',\n",
       "   'start': '2015-06-01T00:00:00Z',\n",
       "   'stop': '2021-12-31T23:59:00Z',\n",
       "   'modification': '2023-03-08T00:00:00Z',\n",
       "   'indextype': 'csv',\n",
       "   'filetype': 'cdf'},\n",
       "  {'id': 'mms3_fpi_brst_des-moms',\n",
       "   'index': 's3://helio-public/MMS/mms3/fpi/brst/l2/des-moms/',\n",
       "   'title': 'mms3/fpi/brst/l2/des-moms/',\n",
       "   'start': '2015-06-01T00:00:00Z',\n",
       "   'stop': '2021-12-31T23:59:00Z',\n",
       "   'modification': '2023-03-08T00:00:00Z',\n",
       "   'indextype': 'csv',\n",
       "   'filetype': 'cdf'},\n",
       "  {'id': 'mms3_fpi_brst_dis-dist',\n",
       "   'index': 's3://helio-public/MMS/mms3/fpi/brst/l2/dis-dist/',\n",
       "   'title': 'mms3/fpi/brst/l2/dis-dist/',\n",
       "   'start': '2015-06-01T00:00:00Z',\n",
       "   'stop': '2021-12-31T23:59:00Z',\n",
       "   'modification': '2023-03-08T00:00:00Z',\n",
       "   'indextype': 'csv',\n",
       "   'filetype': 'cdf'},\n",
       "  {'id': 'mms3_fpi_brst_dis-moms',\n",
       "   'index': 's3://helio-public/MMS/mms3/fpi/brst/l2/dis-moms/',\n",
       "   'title': 'mms3/fpi/brst/l2/dis-moms/',\n",
       "   'start': '2015-06-01T00:00:00Z',\n",
       "   'stop': '2021-12-31T23:59:00Z',\n",
       "   'modification': '2023-03-08T00:00:00Z',\n",
       "   'indextype': 'csv',\n",
       "   'filetype': 'cdf'},\n",
       "  {'id': 'mms3_fpi_fast_des-dist',\n",
       "   'index': 's3://helio-public/MMS/mms3/fpi/fast/l2/des-dist/',\n",
       "   'title': 'mms3/fpi/fast/l2/des-dist/',\n",
       "   'start': '2015-06-01T00:00:00Z',\n",
       "   'stop': '2021-12-31T23:59:00Z',\n",
       "   'modification': '2023-03-08T00:00:00Z',\n",
       "   'indextype': 'csv',\n",
       "   'filetype': 'cdf'},\n",
       "  {'id': 'mms3_fpi_fast_des-moms',\n",
       "   'index': 's3://helio-public/MMS/mms3/fpi/fast/l2/des-moms/',\n",
       "   'title': 'mms3/fpi/fast/l2/des-moms/',\n",
       "   'start': '2015-06-01T00:00:00Z',\n",
       "   'stop': '2021-12-31T23:59:00Z',\n",
       "   'modification': '2023-03-08T00:00:00Z',\n",
       "   'indextype': 'csv',\n",
       "   'filetype': 'cdf'},\n",
       "  {'id': 'mms3_fpi_fast_dis-dist',\n",
       "   'index': 's3://helio-public/MMS/mms3/fpi/fast/l2/dis-dist/',\n",
       "   'title': 'mms3/fpi/fast/l2/dis-dist/',\n",
       "   'start': '2015-06-01T00:00:00Z',\n",
       "   'stop': '2021-12-31T23:59:00Z',\n",
       "   'modification': '2023-03-08T00:00:00Z',\n",
       "   'indextype': 'csv',\n",
       "   'filetype': 'cdf'},\n",
       "  {'id': 'mms3_fpi_fast_dis-moms',\n",
       "   'index': 's3://helio-public/MMS/mms3/fpi/fast/l2/dis-moms/',\n",
       "   'title': 'mms3/fpi/fast/l2/dis-moms/',\n",
       "   'start': '2015-06-01T00:00:00Z',\n",
       "   'stop': '2021-12-31T23:59:00Z',\n",
       "   'modification': '2023-03-08T00:00:00Z',\n",
       "   'indextype': 'csv',\n",
       "   'filetype': 'cdf'},\n",
       "  {'id': 'mms3_mec_brst_epht89d',\n",
       "   'index': 's3://helio-public/MMS/mms3/mec/brst/l2/epht89d/',\n",
       "   'title': 'mms3/mec/brst/l2/epht89d/',\n",
       "   'start': '2015-06-01T00:00:00Z',\n",
       "   'stop': '2021-12-31T23:59:00Z',\n",
       "   'modification': '2023-03-08T00:00:00Z',\n",
       "   'indextype': 'csv',\n",
       "   'filetype': 'cdf'},\n",
       "  {'id': 'mms3_mec_srvy_epht89d',\n",
       "   'index': 's3://helio-public/MMS/mms3/mec/srvy/l2/epht89d/',\n",
       "   'title': 'mms3/mec/srvy/l2/epht89d/',\n",
       "   'start': '2015-06-01T00:00:00Z',\n",
       "   'stop': '2021-12-31T23:59:00Z',\n",
       "   'modification': '2023-03-08T00:00:00Z',\n",
       "   'indextype': 'csv',\n",
       "   'filetype': 'cdf'},\n",
       "  {'id': 'mms4_feeps_brst_electron',\n",
       "   'index': 's3://helio-public/MMS/mms4/feeps/brst/l2/electron/',\n",
       "   'title': 'mms4/feeps/brst/l2/electron/',\n",
       "   'start': '2015-06-01T00:00:00Z',\n",
       "   'stop': '2021-12-31T23:59:00Z',\n",
       "   'modification': '2023-03-08T00:00:00Z',\n",
       "   'indextype': 'csv',\n",
       "   'filetype': 'cdf'},\n",
       "  {'id': 'mms4_feeps_brst_ion',\n",
       "   'index': 's3://helio-public/MMS/mms4/feeps/brst/l2/ion/',\n",
       "   'title': 'mms4/feeps/brst/l2/ion/',\n",
       "   'start': '2015-06-01T00:00:00Z',\n",
       "   'stop': '2021-12-31T23:59:00Z',\n",
       "   'modification': '2023-03-08T00:00:00Z',\n",
       "   'indextype': 'csv',\n",
       "   'filetype': 'cdf'},\n",
       "  {'id': 'mms4_feeps_srvy_electron',\n",
       "   'index': 's3://helio-public/MMS/mms4/feeps/srvy/l2/electron/',\n",
       "   'title': 'mms4/feeps/srvy/l2/electron/',\n",
       "   'start': '2015-06-01T00:00:00Z',\n",
       "   'stop': '2021-12-31T23:59:00Z',\n",
       "   'modification': '2023-03-08T00:00:00Z',\n",
       "   'indextype': 'csv',\n",
       "   'filetype': 'cdf'},\n",
       "  {'id': 'mms4_feeps_srvy_ion',\n",
       "   'index': 's3://helio-public/MMS/mms4/feeps/srvy/l2/ion/',\n",
       "   'title': 'mms4/feeps/srvy/l2/ion/',\n",
       "   'start': '2015-06-01T00:00:00Z',\n",
       "   'stop': '2021-12-31T23:59:00Z',\n",
       "   'modification': '2023-03-08T00:00:00Z',\n",
       "   'indextype': 'csv',\n",
       "   'filetype': 'cdf'},\n",
       "  {'id': 'mms4_fgm_brst',\n",
       "   'index': 's3://helio-public/MMS/mms4/fgm/brst/l2/',\n",
       "   'title': 'mms4/fgm/brst/l2/',\n",
       "   'start': '2015-06-01T00:00:00Z',\n",
       "   'stop': '2021-12-31T23:59:00Z',\n",
       "   'modification': '2023-03-08T00:00:00Z',\n",
       "   'indextype': 'csv',\n",
       "   'filetype': 'cdf'},\n",
       "  {'id': 'mms4_fgm_srvy',\n",
       "   'index': 's3://helio-public/MMS/mms4/fgm/srvy/l2/',\n",
       "   'title': 'mms4/fgm/srvy/l2/',\n",
       "   'start': '2015-06-01T00:00:00Z',\n",
       "   'stop': '2021-12-31T23:59:00Z',\n",
       "   'modification': '2023-03-08T00:00:00Z',\n",
       "   'indextype': 'csv',\n",
       "   'filetype': 'cdf'},\n",
       "  {'id': 'mms4_fpi_brst_des-dist',\n",
       "   'index': 's3://helio-public/MMS/mms4/fpi/brst/l2/des-dist/',\n",
       "   'title': 'mms4/fpi/brst/l2/des-dist/',\n",
       "   'start': '2015-06-01T00:00:00Z',\n",
       "   'stop': '2021-12-31T23:59:00Z',\n",
       "   'modification': '2023-03-08T00:00:00Z',\n",
       "   'indextype': 'csv',\n",
       "   'filetype': 'cdf'},\n",
       "  {'id': 'mms4_fpi_brst_des-moms',\n",
       "   'index': 's3://helio-public/MMS/mms4/fpi/brst/l2/des-moms/',\n",
       "   'title': 'mms4/fpi/brst/l2/des-moms/',\n",
       "   'start': '2015-06-01T00:00:00Z',\n",
       "   'stop': '2021-12-31T23:59:00Z',\n",
       "   'modification': '2023-03-08T00:00:00Z',\n",
       "   'indextype': 'csv',\n",
       "   'filetype': 'cdf'},\n",
       "  {'id': 'mms4_fpi_brst_dis-dist',\n",
       "   'index': 's3://helio-public/MMS/mms4/fpi/brst/l2/dis-dist/',\n",
       "   'title': 'mms4/fpi/brst/l2/dis-dist/',\n",
       "   'start': '2015-06-01T00:00:00Z',\n",
       "   'stop': '2021-12-31T23:59:00Z',\n",
       "   'modification': '2023-03-08T00:00:00Z',\n",
       "   'indextype': 'csv',\n",
       "   'filetype': 'cdf'},\n",
       "  {'id': 'mms4_fpi_brst_dis-moms',\n",
       "   'index': 's3://helio-public/MMS/mms4/fpi/brst/l2/dis-moms/',\n",
       "   'title': 'mms4/fpi/brst/l2/dis-moms/',\n",
       "   'start': '2015-06-01T00:00:00Z',\n",
       "   'stop': '2021-12-31T23:59:00Z',\n",
       "   'modification': '2023-03-08T00:00:00Z',\n",
       "   'indextype': 'csv',\n",
       "   'filetype': 'cdf'},\n",
       "  {'id': 'mms4_fpi_fast_des-dist',\n",
       "   'index': 's3://helio-public/MMS/mms4/fpi/fast/l2/des-dist/',\n",
       "   'title': 'mms4/fpi/fast/l2/des-dist/',\n",
       "   'start': '2015-06-01T00:00:00Z',\n",
       "   'stop': '2021-12-31T23:59:00Z',\n",
       "   'modification': '2023-03-08T00:00:00Z',\n",
       "   'indextype': 'csv',\n",
       "   'filetype': 'cdf'},\n",
       "  {'id': 'mms4_fpi_fast_des-moms',\n",
       "   'index': 's3://helio-public/MMS/mms4/fpi/fast/l2/des-moms/',\n",
       "   'title': 'mms4/fpi/fast/l2/des-moms/',\n",
       "   'start': '2015-06-01T00:00:00Z',\n",
       "   'stop': '2021-12-31T23:59:00Z',\n",
       "   'modification': '2023-03-08T00:00:00Z',\n",
       "   'indextype': 'csv',\n",
       "   'filetype': 'cdf'},\n",
       "  {'id': 'mms4_fpi_fast_dis-dist',\n",
       "   'index': 's3://helio-public/MMS/mms4/fpi/fast/l2/dis-dist/',\n",
       "   'title': 'mms4/fpi/fast/l2/dis-dist/',\n",
       "   'start': '2015-06-01T00:00:00Z',\n",
       "   'stop': '2021-12-31T23:59:00Z',\n",
       "   'modification': '2023-03-08T00:00:00Z',\n",
       "   'indextype': 'csv',\n",
       "   'filetype': 'cdf'},\n",
       "  {'id': 'mms4_fpi_fast_dis-moms',\n",
       "   'index': 's3://helio-public/MMS/mms4/fpi/fast/l2/dis-moms/',\n",
       "   'title': 'mms4/fpi/fast/l2/dis-moms/',\n",
       "   'start': '2015-06-01T00:00:00Z',\n",
       "   'stop': '2021-12-31T23:59:00Z',\n",
       "   'modification': '2023-03-08T00:00:00Z',\n",
       "   'indextype': 'csv',\n",
       "   'filetype': 'cdf'},\n",
       "  {'id': 'mms4_mec_brst_epht89d',\n",
       "   'index': 's3://helio-public/MMS/mms4/mec/brst/l2/epht89d/',\n",
       "   'title': 'mms4/mec/brst/l2/epht89d/',\n",
       "   'start': '2015-06-01T00:00:00Z',\n",
       "   'stop': '2021-12-31T23:59:00Z',\n",
       "   'modification': '2023-03-08T00:00:00Z',\n",
       "   'indextype': 'csv',\n",
       "   'filetype': 'cdf'},\n",
       "  {'id': 'mms4_mec_srvy_epht89d',\n",
       "   'index': 's3://helio-public/MMS/mms4/mec/srvy/l2/epht89d/',\n",
       "   'title': 'mms4/mec/srvy/l2/epht89d/',\n",
       "   'start': '2015-06-01T00:00:00Z',\n",
       "   'stop': '2021-12-31T23:59:00Z',\n",
       "   'modification': '2023-03-08T00:00:00Z',\n",
       "   'indextype': 'csv',\n",
       "   'filetype': 'cdf'}],\n",
       " 'status': {'code': 1200, 'message': 'OK request successful'}}"
      ]
     },
     "execution_count": 19,
     "metadata": {},
     "output_type": "execute_result"
    }
   ],
   "source": [
    "fr.get_catalog()"
   ]
  },
  {
   "cell_type": "markdown",
   "id": "1f36f4c2-2167-44ce-8720-1daa307bce81",
   "metadata": {},
   "source": [
    "# Useful search\n",
    "Given a dataset ID (from searching above or by knowing a dataset name from another catalog or search tool or even email), we can get a list of files for our desired dataset within our desired timespan."
   ]
  },
  {
   "cell_type": "code",
   "execution_count": 20,
   "id": "342bde4f-6c15-4b42-9b5b-73740eef9bbf",
   "metadata": {},
   "outputs": [],
   "source": [
    "fr_id1 = 'mms1_feeps_brst_electron'\n",
    "fr_id2 = 'mmm2_feeps_brst_electron'\n",
    "start_date = '2020-02-01T00:00:00Z'\n",
    "stop_date =   '2020-02-02T00:00:00Z'"
   ]
  },
  {
   "cell_type": "markdown",
   "id": "9252c663-3d12-4da5-a32a-3099b996eb3c",
   "metadata": {},
   "source": [
    "Each dataset has metadata (in JSON format) providing additional information.  Here is an example."
   ]
  },
  {
   "cell_type": "code",
   "execution_count": 21,
   "id": "d964379a-90f4-4250-af42-964e6efdd8c4",
   "metadata": {},
   "outputs": [
    {
     "name": "stdout",
     "output_type": "stream",
     "text": [
      "{'about': 'optional website URL for info, team, etc',\n",
      " 'citation': 'optional how to cite this dataset, DOI or similar',\n",
      " 'contact': 'optional contact info, SPASE ID, email, or ORCID',\n",
      " 'creation': '2023-04-05T00:00:00Z',\n",
      " 'description': 'Optional description for dataset',\n",
      " 'filetype': 'cdf',\n",
      " 'id': 'mms1_feeps_brst_electron',\n",
      " 'index': 's3://helio-public/MMS/mms1/feeps/brst/l2/electron/',\n",
      " 'indextype': 'csv',\n",
      " 'modification': '2023-03-08T00:00:00Z',\n",
      " 'resource': 'optional identifier e.g. SPASE ID',\n",
      " 'start': '2015-06-01T00:00:00Z',\n",
      " 'stop': '2021-12-31T23:59:00Z',\n",
      " 'title': 'mms1/feeps/brst/l2/electron/'}\n"
     ]
    }
   ],
   "source": [
    "pprint(fr.get_entry(fr_id1))"
   ]
  },
  {
   "cell_type": "markdown",
   "id": "f12bbdb3-361b-40f0-b00e-08832db7e11c",
   "metadata": {},
   "source": [
    "Now we get the actual filelist of dataitems for our given instrument in our given time range."
   ]
  },
  {
   "cell_type": "code",
   "execution_count": 22,
   "id": "15581bf1-cebd-4ad5-8100-f5a0fb08f3d8",
   "metadata": {},
   "outputs": [],
   "source": [
    "file_registry1 = fr.request_file_registry(fr_id1, start_date=start_date, stop_date=stop_date, overwrite=False)"
   ]
  },
  {
   "cell_type": "code",
   "execution_count": 23,
   "id": "8bb727b6-4e7a-4a80-882c-32e145345fd7",
   "metadata": {},
   "outputs": [
    {
     "data": {
      "text/html": [
       "<div>\n",
       "<style scoped>\n",
       "    .dataframe tbody tr th:only-of-type {\n",
       "        vertical-align: middle;\n",
       "    }\n",
       "\n",
       "    .dataframe tbody tr th {\n",
       "        vertical-align: top;\n",
       "    }\n",
       "\n",
       "    .dataframe thead th {\n",
       "        text-align: right;\n",
       "    }\n",
       "</style>\n",
       "<table border=\"1\" class=\"dataframe\">\n",
       "  <thead>\n",
       "    <tr style=\"text-align: right;\">\n",
       "      <th></th>\n",
       "      <th>start</th>\n",
       "      <th>datakey</th>\n",
       "      <th>filesize</th>\n",
       "    </tr>\n",
       "  </thead>\n",
       "  <tbody>\n",
       "    <tr>\n",
       "      <th>590</th>\n",
       "      <td>2020-02-01 07:55:23</td>\n",
       "      <td>s3://helio-public/MMS/mms1/feeps/brst/l2/elect...</td>\n",
       "      <td>1521034</td>\n",
       "    </tr>\n",
       "    <tr>\n",
       "      <th>591</th>\n",
       "      <td>2020-02-01 08:17:13</td>\n",
       "      <td>s3://helio-public/MMS/mms1/feeps/brst/l2/elect...</td>\n",
       "      <td>3166628</td>\n",
       "    </tr>\n",
       "    <tr>\n",
       "      <th>592</th>\n",
       "      <td>2020-02-01 08:19:23</td>\n",
       "      <td>s3://helio-public/MMS/mms1/feeps/brst/l2/elect...</td>\n",
       "      <td>3166628</td>\n",
       "    </tr>\n",
       "    <tr>\n",
       "      <th>593</th>\n",
       "      <td>2020-02-01 08:21:33</td>\n",
       "      <td>s3://helio-public/MMS/mms1/feeps/brst/l2/elect...</td>\n",
       "      <td>3166628</td>\n",
       "    </tr>\n",
       "    <tr>\n",
       "      <th>594</th>\n",
       "      <td>2020-02-01 08:23:43</td>\n",
       "      <td>s3://helio-public/MMS/mms1/feeps/brst/l2/elect...</td>\n",
       "      <td>3396580</td>\n",
       "    </tr>\n",
       "    <tr>\n",
       "      <th>595</th>\n",
       "      <td>2020-02-01 08:26:03</td>\n",
       "      <td>s3://helio-public/MMS/mms1/feeps/brst/l2/elect...</td>\n",
       "      <td>3166628</td>\n",
       "    </tr>\n",
       "    <tr>\n",
       "      <th>596</th>\n",
       "      <td>2020-02-01 08:28:13</td>\n",
       "      <td>s3://helio-public/MMS/mms1/feeps/brst/l2/elect...</td>\n",
       "      <td>3159442</td>\n",
       "    </tr>\n",
       "    <tr>\n",
       "      <th>597</th>\n",
       "      <td>2020-02-01 08:30:23</td>\n",
       "      <td>s3://helio-public/MMS/mms1/feeps/brst/l2/elect...</td>\n",
       "      <td>3152256</td>\n",
       "    </tr>\n",
       "    <tr>\n",
       "      <th>598</th>\n",
       "      <td>2020-02-01 08:37:13</td>\n",
       "      <td>s3://helio-public/MMS/mms1/feeps/brst/l2/elect...</td>\n",
       "      <td>3396580</td>\n",
       "    </tr>\n",
       "    <tr>\n",
       "      <th>599</th>\n",
       "      <td>2020-02-01 08:39:33</td>\n",
       "      <td>s3://helio-public/MMS/mms1/feeps/brst/l2/elect...</td>\n",
       "      <td>3396580</td>\n",
       "    </tr>\n",
       "    <tr>\n",
       "      <th>600</th>\n",
       "      <td>2020-02-01 08:41:53</td>\n",
       "      <td>s3://helio-public/MMS/mms1/feeps/brst/l2/elect...</td>\n",
       "      <td>3403766</td>\n",
       "    </tr>\n",
       "    <tr>\n",
       "      <th>601</th>\n",
       "      <td>2020-02-01 08:44:13</td>\n",
       "      <td>s3://helio-public/MMS/mms1/feeps/brst/l2/elect...</td>\n",
       "      <td>3396580</td>\n",
       "    </tr>\n",
       "    <tr>\n",
       "      <th>602</th>\n",
       "      <td>2020-02-01 08:46:33</td>\n",
       "      <td>s3://helio-public/MMS/mms1/feeps/brst/l2/elect...</td>\n",
       "      <td>3396580</td>\n",
       "    </tr>\n",
       "    <tr>\n",
       "      <th>603</th>\n",
       "      <td>2020-02-01 08:48:53</td>\n",
       "      <td>s3://helio-public/MMS/mms1/feeps/brst/l2/elect...</td>\n",
       "      <td>3389394</td>\n",
       "    </tr>\n",
       "  </tbody>\n",
       "</table>\n",
       "</div>"
      ],
      "text/plain": [
       "                  start                                            datakey  \\\n",
       "590 2020-02-01 07:55:23  s3://helio-public/MMS/mms1/feeps/brst/l2/elect...   \n",
       "591 2020-02-01 08:17:13  s3://helio-public/MMS/mms1/feeps/brst/l2/elect...   \n",
       "592 2020-02-01 08:19:23  s3://helio-public/MMS/mms1/feeps/brst/l2/elect...   \n",
       "593 2020-02-01 08:21:33  s3://helio-public/MMS/mms1/feeps/brst/l2/elect...   \n",
       "594 2020-02-01 08:23:43  s3://helio-public/MMS/mms1/feeps/brst/l2/elect...   \n",
       "595 2020-02-01 08:26:03  s3://helio-public/MMS/mms1/feeps/brst/l2/elect...   \n",
       "596 2020-02-01 08:28:13  s3://helio-public/MMS/mms1/feeps/brst/l2/elect...   \n",
       "597 2020-02-01 08:30:23  s3://helio-public/MMS/mms1/feeps/brst/l2/elect...   \n",
       "598 2020-02-01 08:37:13  s3://helio-public/MMS/mms1/feeps/brst/l2/elect...   \n",
       "599 2020-02-01 08:39:33  s3://helio-public/MMS/mms1/feeps/brst/l2/elect...   \n",
       "600 2020-02-01 08:41:53  s3://helio-public/MMS/mms1/feeps/brst/l2/elect...   \n",
       "601 2020-02-01 08:44:13  s3://helio-public/MMS/mms1/feeps/brst/l2/elect...   \n",
       "602 2020-02-01 08:46:33  s3://helio-public/MMS/mms1/feeps/brst/l2/elect...   \n",
       "603 2020-02-01 08:48:53  s3://helio-public/MMS/mms1/feeps/brst/l2/elect...   \n",
       "\n",
       "     filesize  \n",
       "590   1521034  \n",
       "591   3166628  \n",
       "592   3166628  \n",
       "593   3166628  \n",
       "594   3396580  \n",
       "595   3166628  \n",
       "596   3159442  \n",
       "597   3152256  \n",
       "598   3396580  \n",
       "599   3396580  \n",
       "600   3403766  \n",
       "601   3396580  \n",
       "602   3396580  \n",
       "603   3389394  "
      ]
     },
     "execution_count": 23,
     "metadata": {},
     "output_type": "execute_result"
    }
   ],
   "source": [
    "file_registry1"
   ]
  },
  {
   "cell_type": "markdown",
   "id": "26bf4bfa-16a0-4d07-b161-f1d8c7eac817",
   "metadata": {},
   "source": [
    "# Operating on files in bulk\n",
    "Here we can view metadata about the files, or plot them and otherwise extract data from them.\n",
    "\n",
    "First, some simple metadata."
   ]
  },
  {
   "cell_type": "code",
   "execution_count": 24,
   "id": "be0897b3-73d7-458a-9d5d-240d556dd96c",
   "metadata": {},
   "outputs": [
    {
     "name": "stdout",
     "output_type": "stream",
     "text": [
      "Python Hash of File | Start Date | File Size\n",
      "-7454195335779787565 2020-02-01T07:55:23Z 1521034\n",
      "37366710091870689 2020-02-01T08:17:13Z 3166628\n",
      "6053936089634804717 2020-02-01T08:19:23Z 3166628\n",
      "-2000760673635078210 2020-02-01T08:21:33Z 3166628\n",
      "-8408485283201274088 2020-02-01T08:23:43Z 3396580\n",
      "2026235274828778393 2020-02-01T08:26:03Z 3166628\n",
      "-848379977666020218 2020-02-01T08:28:13Z 3159442\n",
      "-4580867094987822840 2020-02-01T08:30:23Z 3152256\n",
      "-780645085643057323 2020-02-01T08:37:13Z 3396580\n",
      "-3262369754521248414 2020-02-01T08:39:33Z 3396580\n",
      "7003013804057580769 2020-02-01T08:41:53Z 3403766\n",
      "-7884214728542563490 2020-02-01T08:44:13Z 3396580\n",
      "-2426488048073771974 2020-02-01T08:46:33Z 3396580\n",
      "6332623149964127355 2020-02-01T08:48:53Z 3389394\n"
     ]
    }
   ],
   "source": [
    "print('Python Hash of File | Start Date | File Size')\n",
    "fr.stream(file_registry1, lambda bo, d, f: print(hash(bo.read()), d.replace(' ', 'T')+'Z', f))"
   ]
  },
  {
   "cell_type": "markdown",
   "id": "00861b46-1f2f-4daf-a2ac-94f52c5c35e3",
   "metadata": {},
   "source": [
    "We define a plotting routine for CDF files here. You can (as with any code) define whatever functions you want to rip through each datafile.  We chose to plot it for this demo to show the data is accessed via S3 and loaded into this program without having to copy any files around."
   ]
  },
  {
   "cell_type": "code",
   "execution_count": 44,
   "id": "0de74ccc-ad9e-44d5-a07d-409ab90e80f5",
   "metadata": {
    "tags": []
   },
   "outputs": [],
   "source": [
    "def plot_cdf(s3_uri, d, f):\n",
    "    print(\"fetching \",s3_uri)\n",
    "    #print(len(cdflib.CDF(s3_uri).cdf_info()[\"zVariables\"]), d.replace(' ', 'T')+'Z', f)\n",
    "\n",
    "    cdf = cdflib.CDF(s3_uri)\n",
    "\n",
    "    # Get the variable name and its data\n",
    "    #var_name = cdf.cdf_info()[\"zVariables\"][2]\n",
    "    #var_data = cdf.varget(var_name)\n",
    "    var_data = cdf.varget(1)\n",
    "    var_name=\"data\"\n",
    "    # Plot the variable\n",
    "    plt.figure()\n",
    "    plt.plot(var_data)\n",
    "    plt.xlabel(\"Index\")\n",
    "    plt.ylabel(var_name)\n",
    "    plt.title(f\"Plot of {var_name}\")\n",
    "    plt.show()\n"
   ]
  },
  {
   "cell_type": "markdown",
   "id": "9f0b8261-89b9-429c-9a14-fca6ec797f8b",
   "metadata": {},
   "source": [
    "# The real stuff\n",
    "\n",
    "This is our simple runner that takes the entire file registry and runs the plot command.  (You can also pull a subset of the registry e.g.  file_registry1[:2] would pull only the 1st two files).\n",
    "\n",
    "Note this is temporarily commented out because the current 'cdflib' is not S3-aware.  Later builds will fix this."
   ]
  },
  {
   "cell_type": "code",
   "execution_count": 45,
   "id": "7d33dfe4-bca3-48b5-abf1-aecfd989955b",
   "metadata": {},
   "outputs": [
    {
     "name": "stdout",
     "output_type": "stream",
     "text": [
      "# of zVariables | Start Date | File Size\n",
      "fetching  s3://helio-public/MMS/mms1/feeps/brst/l2/electron/2020/02/mms1_feeps_brst_l2_electron_20200201075523_v6.1.1.cdf\n"
     ]
    },
    {
     "data": {
      "image/png": "[encoded data removed]",
      "text/plain": [
       "<Figure size 432x288 with 1 Axes>"
      ]
     },
     "metadata": {
      "needs_background": "light"
     },
     "output_type": "display_data"
    },
    {
     "name": "stdout",
     "output_type": "stream",
     "text": [
      "fetching  s3://helio-public/MMS/mms1/feeps/brst/l2/electron/2020/02/mms1_feeps_brst_l2_electron_20200201081713_v6.1.1.cdf\n"
     ]
    },
    {
     "data": {
      "image/png": "[encoded data removed]",
      "text/plain": [
       "<Figure size 432x288 with 1 Axes>"
      ]
     },
     "metadata": {
      "needs_background": "light"
     },
     "output_type": "display_data"
    }
   ],
   "source": [
    "print('# of zVariables | Start Date | File Size')\n",
    "fr.stream_uri(file_registry1[:2], lambda s3_uri, d, f: plot_cdf(s3_uri, d, f))"
   ]
  },
  {
   "cell_type": "markdown",
   "id": "aea43080-89a2-4655-a83f-b95c96954fc6",
   "metadata": {},
   "source": [
    "That's it: find a dataset, get a list of files for a given time range, and operate on all the files in bulk."
   ]
  },
  {
   "cell_type": "code",
   "execution_count": null,
   "id": "acc00990-d5a4-4066-81a9-583f4b8ac53a",
   "metadata": {},
   "outputs": [],
   "source": []
  }
 ],
 "metadata": {
  "kernelspec": {
   "display_name": "Python [conda env:panhelio-notebook]",
   "language": "python",
   "name": "conda-env-panhelio-notebook-py"
  },
  "language_info": {
   "codemirror_mode": {
    "name": "ipython",
    "version": 3
   },
   "file_extension": ".py",
   "mimetype": "text/x-python",
   "name": "python",
   "nbconvert_exporter": "python",
   "pygments_lexer": "ipython3",
   "version": "3.9.9"
  }
 },
 "nbformat": 4,
 "nbformat_minor": 5
}
