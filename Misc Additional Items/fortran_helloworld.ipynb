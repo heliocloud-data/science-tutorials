{
 "cells": [
  {
   "cell_type": "code",
   "execution_count": 1,
   "id": "785c06f9-a258-472c-8416-8d034fce6fd4",
   "metadata": {},
   "outputs": [
    {
     "name": "stdout",
     "output_type": "stream",
     "text": [
      " Hello, World!\n"
     ]
    }
   ],
   "source": [
    "program hello\n",
    "  ! This is a comment line; it is ignored by the compiler\n",
    "  print *, 'Hello, World!'\n",
    "end program hello"
   ]
  },
  {
   "cell_type": "code",
   "execution_count": null,
   "id": "310a562b-066f-4920-8e80-26a85882e51c",
   "metadata": {},
   "outputs": [],
   "source": []
  }
 ],
 "metadata": {
  "kernelspec": {
   "display_name": "Fortran",
   "language": "Fortran",
   "name": "fortran"
  },
  "language_info": {
   "file_extension": "f90",
   "mimetype": "text/plain",
   "name": "fortran"
  }
 },
 "nbformat": 4,
 "nbformat_minor": 5
}
