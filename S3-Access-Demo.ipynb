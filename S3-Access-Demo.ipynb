{
 "cells": [
  {
   "cell_type": "markdown",
   "id": "c09f924c-850f-49ec-8f70-6f605f7307a3",
   "metadata": {},
   "source": [
    "# Accessing FITS, CDF and NetCDF from S3\n",
    "## Comments to sandy.antunes@jhuapl.edu\n",
    "Here we walk through how to access FITS files, CDF files, and NetCDF files that are in AWS S3 storage.  Each cell can be run on its own, with the python import lines in each cell.  Let's begin."
   ]
  },
  {
   "cell_type": "markdown",
   "id": "c8c82a6d-05d1-4001-b6b5-564f63922431",
   "metadata": {},
   "source": [
    "First, a quick sanity check to make sure Python is up and running."
   ]
  },
  {
   "cell_type": "code",
   "execution_count": null,
   "id": "5e3aeb7d-cfec-4cc4-a1b5-aeaaaeb9d674",
   "metadata": {},
   "outputs": [],
   "source": [
    "print(\"hello world\")"
   ]
  },
  {
   "cell_type": "markdown",
   "id": "c67f5396-851f-449d-a184-8efe0071b2e9",
   "metadata": {},
   "source": [
    "Next we connect to our S3 bucket.  We'll later use different connections, depending on the file, but this is a good example of how to access S3."
   ]
  },
  {
   "cell_type": "code",
   "execution_count": null,
   "id": "5ca42db6-3291-4c39-ac88-ed2e810d988c",
   "metadata": {},
   "outputs": [],
   "source": [
    "import boto3\n",
    "mybucket='gov-nasa-hdrl-data1'\n",
    "s3_res = boto3.resource('s3')\n",
    "s3_bucket = s3_res.Bucket(mybucket)"
   ]
  },
  {
   "cell_type": "markdown",
   "id": "ed000a13-c4cc-4f6a-bcee-e9ed27ab806c",
   "metadata": {},
   "source": [
    "And here is our list of potential files to try, from the GUVI, MMS and PSP missions.  (You can skip the commented-out boxes, again provided to add alternative test cases.)"
   ]
  },
  {
   "cell_type": "markdown",
   "id": "ba12bd0a-b84b-451b-a052-aeb690beebca",
   "metadata": {},
   "source": [
    "Here is an example of a 'raw' read, where we access any binary file and extract information.  In this example, we open a CDF file as bytes then extract the checksum 'magic number' first field from it (which should read as 'cdf30001')."
   ]
  },
  {
   "cell_type": "code",
   "execution_count": null,
   "id": "6063ac87-76d6-4997-99b6-f4ce7a7b06f5",
   "metadata": {},
   "outputs": [],
   "source": [
    "import boto3\n",
    "import io\n",
    "# S3 read specific bytes\n",
    "s3c = boto3.client('s3')\n",
    "\n",
    "mykey='demo-data/mms_fgm.cdf'\n",
    "obj = s3c.get_object(Bucket=mybucket,Key=mykey,Range='bytes=0-8')\n",
    "rawdata=obj['Body'].read()\n",
    "bdata=io.BytesIO(rawdata)\n",
    "\n",
    "magic_number=bdata.read(4).hex()\n",
    "print(\"Should print 'cdf30001' if read was correct:\",magic_number)"
   ]
  },
  {
   "cell_type": "markdown",
   "id": "ed2fe676-03e3-4a77-899e-a7deff81dbfe",
   "metadata": {},
   "source": [
    "## The Core Examples\n",
    "Here is the code to read each file, in brief.  We'll then go into each in more depth."
   ]
  },
  {
   "cell_type": "code",
   "execution_count": null,
   "id": "15fce053-8093-4bb8-b79c-c940aa881517",
   "metadata": {},
   "outputs": [],
   "source": [
    "# CDF reading from S3 cloud\n",
    "import cdflib\n",
    "s3name=\"s3://gov-nasa-hdrl-data1/demo-data/mms_fgm.cdf\"\n",
    "with cdflib.CDF(s3name) as cdfin1:\n",
    "    print(cdfin1.cdf_info())"
   ]
  },
  {
   "cell_type": "code",
   "execution_count": null,
   "id": "881fe2d6-7145-4a51-a4b1-0ceb93493724",
   "metadata": {},
   "outputs": [],
   "source": [
    "# CDF reading in a URL\n",
    "import cdflib\n",
    "s3name=\"https://gov-nasa-hdrl-data1.s3.amazonaws.com/demo-data/mms_fgm.cdf\"\n",
    "with cdflib.CDF(s3name) as cdfin1:\n",
    "    print(cdfin1.cdf_info())"
   ]
  },
  {
   "cell_type": "code",
   "execution_count": null,
   "id": "e05ed83b-8a39-424e-80ef-52f9b1e17e39",
   "metadata": {},
   "outputs": [],
   "source": [
    "# FITS, using s3fs, reading from S3 cloud\n",
    "import astropy.io.fits\n",
    "# note some versions of AstroPy can be compiled to open S3 files directly, with no intermediary\n",
    "s3name=\"s3://gov-nasa-hdrl-data1/demo-data/sdo_aia.fits\"\n",
    "try:\n",
    "    data = astropy.io.fits.open(s3name)\n",
    "    print(\"astropy was compiled with S3 support!\")\n",
    "except:\n",
    "    print(\"astropy was not compiled with S3 support, using 's3fs'\")\n",
    "    import s3fs\n",
    "    fs=s3fs.S3FileSystem(anon=False)\n",
    "    fgrab = fs.open(s3name)\n",
    "    data = astropy.io.fits.open(fgrab)\n",
    "\n",
    "print(data[0].header[0:10])"
   ]
  },
  {
   "cell_type": "code",
   "execution_count": null,
   "id": "532f1207-a6b7-4826-8f2b-26265af76042",
   "metadata": {},
   "outputs": [],
   "source": [
    "# NetCDF via xarray, using s3fs, reading from S3 cloud\n",
    "import s3fs\n",
    "import xarray as xr\n",
    "s3name=\"s3://gov-nasa-hdrl-data1/demo-data/guvi_spect.nc\"\n",
    "fs=s3fs.S3FileSystem(anon=False)\n",
    "fgrab = fs.open(s3name)\n",
    "dataset = xr.open_dataset(fgrab)\n",
    "print(dataset)\n",
    "dataset.close()\n",
    "fgrab.close()"
   ]
  },
  {
   "cell_type": "code",
   "execution_count": null,
   "id": "305dc1af-51a0-470f-b491-363f90d3c61c",
   "metadata": {},
   "outputs": [],
   "source": [
    "# Example of reading in a file as a Bytestream for using a non-S3-aware reader (in this case, AstroPy)\n",
    "import astropy.io.fits\n",
    "import io\n",
    "import boto3\n",
    "\n",
    "s3c = boto3.client('s3')\n",
    "mybucket, mykey = 'gov-nasa-hdrl-data1', 'demo-data/sdo_aia.fits'\n",
    "\n",
    "fobj = s3c.get_object(Bucket=mybucket,Key=mykey)\n",
    "rawdata = fobj['Body'].read()\n",
    "bdata = io.BytesIO(rawdata)\n",
    "data = astropy.io.fits.open(bdata,memmap=False)\n",
    "\n",
    "header = data[0].header\n",
    "print(header[0:10])\n"
   ]
  },
  {
   "cell_type": "markdown",
   "id": "6c15d5eb-735a-49ec-8b21-64059d558ca5",
   "metadata": {},
   "source": [
    "Comments? Feel free to contact the author."
   ]
  },
  {
   "cell_type": "code",
   "execution_count": null,
   "id": "a3339ffb-5796-4b9e-bd0d-8b062054b86b",
   "metadata": {},
   "outputs": [],
   "source": []
  }
 ],
 "metadata": {
  "kernelspec": {
   "display_name": "Python 3 (ipykernel)",
   "language": "python",
   "name": "python3"
  },
  "language_info": {
   "codemirror_mode": {
    "name": "ipython",
    "version": 3
   },
   "file_extension": ".py",
   "mimetype": "text/x-python",
   "name": "python",
   "nbconvert_exporter": "python",
   "pygments_lexer": "ipython3",
   "version": "3.11.11"
  }
 },
 "nbformat": 4,
 "nbformat_minor": 5
}
