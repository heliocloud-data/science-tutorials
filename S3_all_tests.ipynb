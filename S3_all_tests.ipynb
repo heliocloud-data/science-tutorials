{
 "cells": [
  {
   "cell_type": "markdown",
   "id": "c09f924c-850f-49ec-8f70-6f605f7307a3",
   "metadata": {},
   "source": [
    "# Accessing FITS, CDF and NetCDF from S3\n",
    "## Comments to sandy.antunes@jhuapl.edu\n",
    "Here we walk through how to access FITS files, CDF files, and NetCDF files that are in AWS S3 storage.  We include speed/performance testing in this Notebook as well.  Let's begin.\n",
    "\n",
    "First, we do the usual python imports we'll need."
   ]
  },
  {
   "cell_type": "code",
   "execution_count": 11,
   "id": "6b7cc2f1-55cf-49b1-a77a-d33e33520540",
   "metadata": {},
   "outputs": [],
   "source": [
    "import time\n",
    "import xarray as xr\n",
    "import sunpy.io as sunio\n",
    "import spacepy.datamodel as spio\n",
    "import cdflib\n",
    "import boto3\n",
    "import s3fs\n",
    "import io\n",
    "import astropy"
   ]
  },
  {
   "cell_type": "markdown",
   "id": "c8c82a6d-05d1-4001-b6b5-564f63922431",
   "metadata": {},
   "source": [
    "Next, a quick sanity check to make sure Python is up and running.  Because we use this script for time trials, you can set 'iloop' to gather better statistics on read times.  For now, we'll just do one read."
   ]
  },
  {
   "cell_type": "code",
   "execution_count": 12,
   "id": "5e3aeb7d-cfec-4cc4-a1b5-aeaaaeb9d674",
   "metadata": {},
   "outputs": [
    {
     "name": "stdout",
     "output_type": "stream",
     "text": [
      "hello world\n"
     ]
    }
   ],
   "source": [
    "print(\"hello world\")\n",
    "iloop=1  # for gathering stats"
   ]
  },
  {
   "cell_type": "markdown",
   "id": "c67f5396-851f-449d-a184-8efe0071b2e9",
   "metadata": {},
   "source": [
    "Next we connect to our S3 bucket.  We'll later use different connections, depending on the file, but this is a good example of how to access S3."
   ]
  },
  {
   "cell_type": "code",
   "execution_count": 13,
   "id": "5ca42db6-3291-4c39-ac88-ed2e810d988c",
   "metadata": {},
   "outputs": [],
   "source": [
    "mybucket='helio-public'\n",
    "s3_res = boto3.resource('s3')\n",
    "s3_bucket = s3_res.Bucket(mybucket)"
   ]
  },
  {
   "cell_type": "markdown",
   "id": "ed000a13-c4cc-4f6a-bcee-e9ed27ab806c",
   "metadata": {},
   "source": [
    "And here is our list of potential files to try, from the GUVI, MMS and PSP missions.  (You can skip the commented-out boxes, again provided to add alternative test cases.)"
   ]
  },
  {
   "cell_type": "code",
   "execution_count": 14,
   "id": "456d1cf2-f513-4310-b502-1416521b8899",
   "metadata": {},
   "outputs": [],
   "source": [
    "fitsfiles = ['guvi_spect.fits','mms_fgm.fits','psp_wispr.fts']\n",
    "cdffiles = ['guvi_spect.cdf','mms_fgm.cdf','psp_wispr.cdf']\n",
    "netcdffiles = ['guvi_spect.nc','mms_fgm.nc','psp_wispr.nc']"
   ]
  },
  {
   "cell_type": "code",
   "execution_count": 15,
   "id": "6b0ee5a5-f6c4-4cb0-bbad-15cdf0dea4fe",
   "metadata": {},
   "outputs": [],
   "source": [
    "## just cdf-native\n",
    "#fitsfiles = ['mms_fgm.fits']\n",
    "#cdffiles = ['mms_fgm.cdf']\n",
    "#netcdffiles = ['mms_fgm.nc']"
   ]
  },
  {
   "cell_type": "code",
   "execution_count": 16,
   "id": "cf755015-3882-42fc-a515-1bcf6709d13b",
   "metadata": {},
   "outputs": [],
   "source": [
    "## just nc-native\n",
    "#fitsfiles = ['guvi_spect.fits']\n",
    "#cdffiles = ['guvi_spect.cdf']\n",
    "#netcdffiles = ['guvi_spect.nc']"
   ]
  },
  {
   "cell_type": "code",
   "execution_count": 17,
   "id": "cb110a4a-ded4-44f0-923b-ff4337646625",
   "metadata": {},
   "outputs": [],
   "source": [
    "## just fits-native\n",
    "#fitsfiles = ['psp_wispr.fts']\n",
    "#cdffiles = ['psp_wispr.cdf']\n",
    "#netcdffiles = ['psp_wispr.nc']"
   ]
  },
  {
   "cell_type": "markdown",
   "id": "ba12bd0a-b84b-451b-a052-aeb690beebca",
   "metadata": {},
   "source": [
    "Here is an example of a 'raw' read, where we access any binary file and extract information.  In this example, we open a CDF file as bytes then extract the checksum 'magic number' first field from it (which should read as 'cdf30001')."
   ]
  },
  {
   "cell_type": "code",
   "execution_count": 18,
   "id": "6063ac87-76d6-4997-99b6-f4ce7a7b06f5",
   "metadata": {},
   "outputs": [
    {
     "name": "stdout",
     "output_type": "stream",
     "text": [
      "cdf30001\n"
     ]
    }
   ],
   "source": [
    "# S3 read specific bytes\n",
    "s3c = boto3.client('s3')\n",
    "mykey='skantunes/mms_fgm.cdf'\n",
    "obj = s3c.get_object(Bucket=mybucket,Key=mykey,Range='bytes=0-8')\n",
    "rawdata=obj['Body'].read()\n",
    "bdata=io.BytesIO(rawdata)\n",
    "magic_number=bdata.read(4).hex()\n",
    "print(magic_number)"
   ]
  },
  {
   "cell_type": "markdown",
   "id": "ed2fe676-03e3-4a77-899e-a7deff81dbfe",
   "metadata": {},
   "source": [
    "## The Core Examples\n",
    "Here is the code to read each file, in brief.  We'll then go into each in more depth."
   ]
  },
  {
   "cell_type": "code",
   "execution_count": 31,
   "id": "15fce053-8093-4bb8-b79c-c940aa881517",
   "metadata": {},
   "outputs": [
    {
     "name": "stdout",
     "output_type": "stream",
     "text": [
      "got flags  s3://helio-public/skantunes/mms_fgm.cdf None ascii 1\n"
     ]
    }
   ],
   "source": [
    "# CDF\n",
    "import cdflib\n",
    "s3name=\"s3://helio-public/skantunes/mms_fgm.cdf\"\n",
    "cdfin1=cdflib.CDF(s3name)\n",
    "cdfin1.close()\n",
    "\n",
    "# FITS\n",
    "import astropy.io.fits\n",
    "fobj = s3c.get_object(Bucket=mybucket,Key='skantunes/psp_wispr.fts')\n",
    "rawdata = fobj['Body'].read()\n",
    "bdata = io.BytesIO(rawdata)\n",
    "data = astropy.io.fits.open(bdata,memmap=False)\n",
    "\n",
    "# NetCDF\n",
    "fs=s3fs.S3FileSystem(anon=False)\n",
    "s3name='helio-public' + '/skantunes/'+'psp_wispr.nc'\n",
    "fgrab = fs.open(s3name)\n",
    "dataset = xr.open_dataset(fgrab)\n",
    "dataset.close()\n",
    "fgrab.close()"
   ]
  },
  {
   "cell_type": "markdown",
   "id": "7ab7c15d-d6a9-40c3-a487-67d8782358fb",
   "metadata": {},
   "source": [
    "## More detailed analysis\n",
    "Now we use the updated CDF library to read in all three CDF files, and verify their contents.  We read in 3 fashions-- as a local file, as a remote URL, and as an S3 file.  Versatile!"
   ]
  },
  {
   "cell_type": "code",
   "execution_count": 22,
   "id": "292c4572-2504-4e76-81af-d0206980381b",
   "metadata": {},
   "outputs": [
    {
     "name": "stdout",
     "output_type": "stream",
     "text": [
      "got flags  /home/jovyan/guvi_spect.cdf None ascii 1\n",
      "got flags  s3://helio-public/skantunes/guvi_spect.cdf 2 ascii 1\n",
      "got flags  /home/jovyan/mms_fgm.cdf None ascii 1\n",
      "got flags  s3://helio-public/skantunes/mms_fgm.cdf 2 ascii 1\n",
      "got flags  /home/jovyan/psp_wispr.cdf None ascii 1\n",
      "got flags  s3://helio-public/skantunes/psp_wispr.cdf 2 ascii 1\n",
      "CDF S3 read, new library, time  1.0311083793640137\n"
     ]
    }
   ],
   "source": [
    "# new S3-aware CDF library\n",
    "import cdflib\n",
    "start=time.time()\n",
    "s3stem = \"s3://\"+mybucket+\"/skantunes/\"\n",
    "fname=\"mms1.cdf\"\n",
    "iloop=1\n",
    "for i in range(iloop):\n",
    "    for fname in cdffiles:\n",
    "        s3fname = s3stem + fname\n",
    "        #print(s3fname)\n",
    "        cdfin1=cdflib.CDF(fname)\n",
    "        cdfin2=cdflib.CDF(s3fname,False,'ascii',2)\n",
    "        test1=cdfin1.cdf_info()\n",
    "        test2=cdfin2.cdf_info()\n",
    "        #print(fname,cdfin1,test1,\"\\n\\n\",s3fname,cdfin2,test2,\"\\n\")\n",
    "        cdfin1.close()\n",
    "        cdfin2.close()\n",
    "print(\"CDF S3 read, new library, time \",time.time()-start)"
   ]
  },
  {
   "cell_type": "markdown",
   "id": "8fa73156-eb89-4527-bf7b-52176c995281",
   "metadata": {},
   "source": [
    "Next we read in the FITS files using AstroPy (astropy.io.fits)"
   ]
  },
  {
   "cell_type": "code",
   "execution_count": 21,
   "id": "33174ff6-1e3d-4737-946c-ab86e49d4924",
   "metadata": {},
   "outputs": [
    {
     "name": "stdout",
     "output_type": "stream",
     "text": [
      "SIMPLE  =                    T / Written by IDL:  Thu Sep 24 12:10:46 2020      END                                                                                                                                                                                                                                                                                                                                                                                                                                                                                                                                                                                                                                                                                                                                                                                                                                                                                                                                                                                                                                                                                                                                                                                                                                                                                                                                                                                                                                                                                                                                                                                                                                                                                                                                                                                                                                                                                                                                                                                                                                                                                                                                                                                                                                                                                                                                                                                                                                                                                                                                                                                                                                                                                                                                                                                                                                                                                                             \n",
      "Fits S3 astropy read, time= 0.5488364696502686\n"
     ]
    },
    {
     "name": "stderr",
     "output_type": "stream",
     "text": [
      "WARNING: VerifyWarning: Invalid 'BLANK' keyword in header.  The 'BLANK' keyword is only applicable to integer data, and will be ignored in this HDU. [astropy.io.fits.hdu.image]\n"
     ]
    }
   ],
   "source": [
    "import astropy.io.fits\n",
    "start=time.time()\n",
    "for i in range(iloop):\n",
    "    for fname in fitsfiles:\n",
    "        fobj = s3c.get_object(Bucket=mybucket,Key='skantunes/'+fname)\n",
    "        rawdata = fobj['Body'].read()\n",
    "        bdata = io.BytesIO(rawdata)\n",
    "        data = astropy.io.fits.open(bdata,memmap=False)\n",
    "        header = data[0].header\n",
    "print(header[0:1])\n",
    "print(\"Fits S3 astropy read, time=\",time.time()-start)"
   ]
  },
  {
   "cell_type": "markdown",
   "id": "36453215-b058-4f44-a306-7a53638ad984",
   "metadata": {},
   "source": [
    "Finally we read in NetCDF files using xarray."
   ]
  },
  {
   "cell_type": "code",
   "execution_count": 23,
   "id": "74c26b40-13e4-41b4-bf9d-c4006fa1a2bf",
   "metadata": {},
   "outputs": [
    {
     "name": "stdout",
     "output_type": "stream",
     "text": [
      "NetCDF S3 read\n",
      "NetCDF S3 read, time= 1.2773354053497314\n"
     ]
    }
   ],
   "source": [
    "print(\"NetCDF S3 read\")\n",
    "fs=s3fs.S3FileSystem(anon=False)\n",
    "mybucket='helio-public'\n",
    "s3dirloc=mybucket + '/skantunes/'\n",
    "fname='psp_wispr.nc'\n",
    "fs.ls(s3dirloc)\n",
    "start=time.time()\n",
    "for i in range(iloop):\n",
    "    for fname in netcdffiles:\n",
    "        s3name = s3dirloc + fname\n",
    "        fgrab = fs.open(s3name)\n",
    "        dataset = xr.open_dataset(fgrab)\n",
    "        #d2=dataset.load()\n",
    "        dataset.close()\n",
    "        fgrab.close()\n",
    "print(\"NetCDF S3 read, time=\",time.time()-start)"
   ]
  },
  {
   "cell_type": "markdown",
   "id": "6c15d5eb-735a-49ec-8b21-64059d558ca5",
   "metadata": {},
   "source": [
    "Comments? Feel free to contact the author."
   ]
  },
  {
   "cell_type": "code",
   "execution_count": null,
   "id": "966cbc6d-24df-40ad-a371-a78f88ebe7e4",
   "metadata": {},
   "outputs": [],
   "source": []
  }
 ],
 "metadata": {
  "kernelspec": {
   "display_name": "Python [conda env:panhelio-notebook]",
   "language": "python",
   "name": "conda-env-panhelio-notebook-py"
  },
  "language_info": {
   "codemirror_mode": {
    "name": "ipython",
    "version": 3
   },
   "file_extension": ".py",
   "mimetype": "text/x-python",
   "name": "python",
   "nbconvert_exporter": "python",
   "pygments_lexer": "ipython3",
   "version": "3.9.9"
  }
 },
 "nbformat": 4,
 "nbformat_minor": 5
}
