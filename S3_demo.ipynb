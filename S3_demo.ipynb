{
 "cells": [
  {
   "cell_type": "markdown",
   "metadata": {},
   "source": [
    "# Notebook to Upload data SMCE helio-public S3 bucket\n",
    "\n",
    "### You will need to create the conda environment for this notebook, use 'environment-s3-demo.yml' with the command (in the terminal)\n",
    "### > conda env create -f environment-s3-demo.yml\n",
    "\n",
    "### then make sure to select the 'conda env:s3-demo' environment for this notebook!"
   ]
  },
  {
   "cell_type": "code",
   "execution_count": 1,
   "metadata": {},
   "outputs": [],
   "source": [
    "import boto3\n",
    "import logging\n",
    "from os import listdir\n",
    "from os.path import isfile, join\n",
    "\n",
    "from re import search\n",
    "\n",
    "from astropy.io import fits\n",
    "import io"
   ]
  },
  {
   "cell_type": "markdown",
   "metadata": {},
   "source": [
    "### 0. Configuration "
   ]
  },
  {
   "cell_type": "code",
   "execution_count": 2,
   "metadata": {},
   "outputs": [],
   "source": [
    "# name of the bucket to upload to\n",
    "bucket_name = 'helio-public'\n",
    "\n",
    "# location in the bucket to use\n",
    "bucket_path = '/SDO/AIA/'"
   ]
  },
  {
   "cell_type": "markdown",
   "metadata": {},
   "source": [
    "### Pull data from bucket into memory and work with it"
   ]
  },
  {
   "cell_type": "code",
   "execution_count": 5,
   "metadata": {},
   "outputs": [
    {
     "name": "stdout",
     "output_type": "stream",
     "text": [
      "SDO/AIA/AIA_L4_20141018_000001_94.fits\n",
      "[<astropy.io.fits.hdu.image.PrimaryHDU object at 0x7fdfa0507d60>]\n"
     ]
    }
   ],
   "source": [
    "# open up a Boto session and create an S3 client, then \n",
    "# iterate thru files \n",
    "\n",
    "s3 = boto3.resource('s3')\n",
    "bucket = s3.Bucket(bucket_name)\n",
    "\n",
    "# Iterates through all the objects, doing the pagination for you. Each obj\n",
    "# is an ObjectSummary, so it doesn't contain the body. You'll need to call\n",
    "# get to get the whole body.\n",
    "for obj in bucket.objects.all():\n",
    "    key = obj.key\n",
    "    \n",
    "    if search ('fits', key):\n",
    "        print (key)\n",
    "        body = obj.get()['Body'].read()\n",
    "    \n",
    "        # load fits file\n",
    "        hdulist = fits.open(io.BytesIO(body))\n",
    "        print (hdulist)\n",
    "        \n",
    "        # <WORK WITH FILE HERE>\n",
    "\n",
    "        # only doing ONE object in the demo\n",
    "        break\n"
   ]
  },
  {
   "cell_type": "code",
   "execution_count": null,
   "metadata": {},
   "outputs": [],
   "source": []
  }
 ],
 "metadata": {
  "kernelspec": {
   "display_name": "Python [conda env:hso-connect-dev]",
   "language": "python",
   "name": "conda-env-hso-connect-dev-py"
  },
  "language_info": {
   "codemirror_mode": {
    "name": "ipython",
    "version": 3
   },
   "file_extension": ".py",
   "mimetype": "text/x-python",
   "name": "python",
   "nbconvert_exporter": "python",
   "pygments_lexer": "ipython3",
   "version": "3.9.5"
  }
 },
 "nbformat": 4,
 "nbformat_minor": 4
}
