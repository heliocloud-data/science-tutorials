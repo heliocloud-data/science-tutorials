{
 "cells": [
  {
   "cell_type": "markdown",
   "metadata": {},
   "source": [
    "\n",
    "<CENTER>\n",
    "<H1 style=\"color:red\">\n",
    "SMCE Heliophysics Daskhub\n",
    "</H1>\n",
    "</CENTER>\n",
    "<img src=\"banner.jpg\">\n",
    "\n"
   ]
  },
  {
   "cell_type": "markdown",
   "metadata": {},
   "source": [
    "# SMCE Services:  Tutorials and Information"
   ]
  },
  {
   "cell_type": "markdown",
   "metadata": {},
   "source": [
    "<i>Note: This document is managed through the SMCE gitlab.  Please suggest edits to Brian or Barbara. </i>\n",
    "<hr>"
   ]
  },
  {
   "cell_type": "markdown",
   "metadata": {},
   "source": [
    "## <font color = \"darkred\">First:  What is SMCE?</font>\n",
    "\n",
    "SMCE stands for \"Science Managed Cloud Environment,\" an Amazon AWS Cloud for NASA use.  The SMCE is run through CISTO (Computational & Information Sciences & Technology - Code 606), and daskhub.helio.mysmce.com is the Heliophysics cloud environment within SMCE.\n",
    "\n",
    "### - Who can get an SMCE Account?  How do I request it?\n",
    "\n",
    "### - Do SMCE services cost money?  What services drive up costs and which are free to use without concern?\n",
    "\n",
    "\n"
   ]
  },
  {
   "cell_type": "markdown",
   "metadata": {},
   "source": [
    "## <font color = \"darkred\">What services and features are available?</font>\n",
    "\n",
    "### - Currently available:\n",
    "\n",
    "### - Coming soon (in development):  CI Runner, BinderHub\n",
    "\n",
    "### - In the queue (request has been submitted):\n",
    "\n",
    "### - How do I request a new feature?"
   ]
  },
  {
   "cell_type": "markdown",
   "metadata": {},
   "source": [
    "## <font color = \"darkred\">How do I get started?</font>"
   ]
  },
  {
   "cell_type": "markdown",
   "metadata": {},
   "source": [
    "--------\n",
    "# <font color = \"red\">Tutorials and Instructions</font>"
   ]
  },
  {
   "cell_type": "markdown",
   "metadata": {},
   "source": [
    "## <font color = \"darkred\">What is DaskHub?  What is it for?</font>\n",
    "\n",
    "The SMCE Daskhub is at <a href=\"https://daskhub.helio.mysmce.com/\">https://daskhub.helio.mysmce.com/</a>.<br>\n",
    "See the Dask demo and tutorial at /efs/Tutorials/Dask-Gateway-Ex.ipynb\n",
    "\n",
    "###  - How do I set up my DaskHub Environment?  \n",
    "\n",
    "There is a tutorial on setting up the DaskHub Conda environment at /efs/Tutorials/Conda_instructions.ipynb\n",
    "\n",
    "### - Basic navigation instructions\n",
    " \n"
   ]
  },
  {
   "cell_type": "markdown",
   "metadata": {},
   "source": [
    "##  <font color = \"darkred\">What is the JupyterHub?  How do I access it?</font>\n",
    "\n",
    "Starting up JupyterHub:  which server?  Small?  Large?  GPU?  What's the difference?"
   ]
  },
  {
   "cell_type": "markdown",
   "metadata": {},
   "source": [
    "## <font color = \"darkred\">What is an S3 bucket?  How do I add data and make it sharable?  </font>\n",
    "See the S3 Tutorial at  /efs/Tutorials/S3_Dask_demo.ipynb"
   ]
  },
  {
   "cell_type": "markdown",
   "metadata": {},
   "source": [
    "## <font color = \"darkred\">How do I use the SMCE gitlab? </font>"
   ]
  },
  {
   "cell_type": "markdown",
   "metadata": {},
   "source": [
    "# Other things we need for tutorials"
   ]
  },
  {
   "cell_type": "markdown",
   "metadata": {},
   "source": [
    "Basic navigation <br>\n"
   ]
  },
  {
   "cell_type": "markdown",
   "metadata": {},
   "source": [
    "-----------"
   ]
  },
  {
   "cell_type": "markdown",
   "metadata": {},
   "source": [
    "## 0. Configuration "
   ]
  },
  {
   "cell_type": "code",
   "execution_count": 2,
   "metadata": {},
   "outputs": [],
   "source": [
    "# name of the bucket to upload to\n",
    "bucket_name = 'helio-public'\n",
    "\n",
    "# location in the bucket to use\n",
    "bucket_path = '/SDO/AIA/'\n",
    "\n",
    "# number of workers to use, for automatic scaling, our max number\n",
    "n_workers = 4\n",
    "\n",
    "# memory per worker (in Gb)\n",
    "w_memory = 2\n",
    "\n",
    "# cores per worker\n",
    "w_cores = 2\n",
    "\n",
    "# number of files to test against\n",
    "n_files = 100\n",
    "\n",
    "# Number of files we release to be worked on by all workers at a time\n",
    "# the higher the number the more files being processed concurrently, but also\n",
    "# the greater the memory consumed. \n",
    "batch_size = 50\n",
    "\n",
    "# use Manual (if False, then uses Automatic scaling)\n",
    "use_manual_scaling = True"
   ]
  }
 ],
 "metadata": {
  "kernelspec": {
   "display_name": "Python 3 (ipykernel)",
   "language": "python",
   "name": "python3"
  },
  "language_info": {
   "codemirror_mode": {
    "name": "ipython",
    "version": 3
   },
   "file_extension": ".py",
   "mimetype": "text/x-python",
   "name": "python",
   "nbconvert_exporter": "python",
   "pygments_lexer": "ipython3",
   "version": "3.9.10"
  }
 },
 "nbformat": 4,
 "nbformat_minor": 4
}
