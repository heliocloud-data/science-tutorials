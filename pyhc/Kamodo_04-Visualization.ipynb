{
 "cells": [
  {
   "cell_type": "markdown",
   "id": "e1e19175",
   "metadata": {},
   "source": [
    "## Visualization"
   ]
  },
  {
   "cell_type": "markdown",
   "id": "355b5844",
   "metadata": {},
   "source": [
    "Kamodo uses the [plotly graphing library](https://plotly.com/python/) to\n",
    "\n",
    "* generate figures in-line for jupyter notebooks\n",
    "* produce publication-ready graphics\n",
    "* drive web applications via [plotly-dash](https://dash.plotly.com/installation)\n",
    "\n",
    "We'll provide a brief overview of how plotly works before diving into Kamodo's use"
   ]
  },
  {
   "cell_type": "markdown",
   "id": "c3988f30",
   "metadata": {},
   "source": [
    "## Plotly"
   ]
  },
  {
   "cell_type": "markdown",
   "id": "0c821d46",
   "metadata": {},
   "source": [
    "The plotly frontend library is [built on react-js](https://plotly.com/javascript/react/) and embeds [D3](https://d3js.org/) charts in the browser. Plotly supports backends targeting Python, R, Julia, Matlab, Javascript, ggplot2, F#, etc."
   ]
  },
  {
   "cell_type": "markdown",
   "id": "adeb4660",
   "metadata": {},
   "source": [
    "**Figures**"
   ]
  },
  {
   "cell_type": "markdown",
   "id": "aa10c401",
   "metadata": {},
   "source": [
    "Plotly figures are composed of groups of traces and a layout object."
   ]
  },
  {
   "cell_type": "code",
   "execution_count": null,
   "id": "3e463918",
   "metadata": {},
   "outputs": [],
   "source": [
    "import plotly.graph_objs as go"
   ]
  },
  {
   "cell_type": "markdown",
   "id": "9183cd11",
   "metadata": {},
   "source": [
    "Here is a simple plotly figure:"
   ]
  },
  {
   "cell_type": "code",
   "execution_count": null,
   "id": "faeeb999",
   "metadata": {},
   "outputs": [],
   "source": [
    "fig = go.Figure(data=[go.Scatter(x=[0,1,2,3], y=[0,1,4,9])], # scatter object\n",
    "               layout=dict(title='hello world'))\n",
    "fig"
   ]
  },
  {
   "cell_type": "markdown",
   "id": "f499646d",
   "metadata": {},
   "source": [
    "Here we used a Scatter graph object to show a simple line plot. Plotly has [many other plot types](https://plotly.com/python-api-reference/plotly.graph_objects.html#graph-objects) which are worth exploring."
   ]
  },
  {
   "cell_type": "markdown",
   "id": "6cf0f982",
   "metadata": {},
   "source": [
    "Plotly figures are basically dictionaries that are serialized and sent to the client browser for rendering."
   ]
  },
  {
   "cell_type": "code",
   "execution_count": null,
   "id": "753f2a77",
   "metadata": {},
   "outputs": [],
   "source": [
    "fig['data'] # a list of graph objects"
   ]
  },
  {
   "cell_type": "code",
   "execution_count": null,
   "id": "2e4c74a7",
   "metadata": {},
   "outputs": [],
   "source": [
    "fig['layout'] # determines axis layout, titles, etc"
   ]
  },
  {
   "cell_type": "markdown",
   "id": "02aa1f0a",
   "metadata": {},
   "source": [
    "## Kamodo plotting"
   ]
  },
  {
   "cell_type": "markdown",
   "id": "cfe423da",
   "metadata": {},
   "source": [
    "Normally, you would feed arrays into plotly's graph objects, which has a bit of a learning curve. Kamodo largely avoids this by doing most of the heavy lifting for you!\n",
    "\n",
    "Kamodo automatically generates plotly figures from registered functions. This is accomplished through function inspection. Here is a simple example."
   ]
  },
  {
   "cell_type": "code",
   "execution_count": null,
   "id": "46d379d3",
   "metadata": {},
   "outputs": [],
   "source": [
    "import numpy as np\n",
    "\n",
    "from kamodo import Kamodo, kamodofy"
   ]
  },
  {
   "cell_type": "code",
   "execution_count": null,
   "id": "f0200d34",
   "metadata": {},
   "outputs": [],
   "source": [
    "k = Kamodo(f='x^2-x-1')\n",
    "\n",
    "fig = k.plot(f={'x':np.linspace(-.618, 1.618, 330)}) # recall zeros are at values of the golden ratio\n",
    "fig"
   ]
  },
  {
   "cell_type": "markdown",
   "id": "5843fed6",
   "metadata": {},
   "source": [
    "To produce the above interactive plot, kamodo did the following:\n",
    "\n",
    "1. evaluated $f(x)$ using the dictionary of `{argument: values}`\n",
    "1. determined the input argument shape and output shape of the function\n",
    "1. found a corresponding `plot_type` and function for these shapes (`kamodo.plotting.line_plot`)\n",
    "1. passed the function results and arguments to `line_plot`\n",
    "1. `line_plot` constructs a `go.Scatter` object and appropriate `layout`, including title\n",
    "1. returned a plotly [figure object](https://plotly.com/python/figure-structure/)"
   ]
  },
  {
   "cell_type": "markdown",
   "id": "e703e2ff",
   "metadata": {},
   "source": [
    "Customization of the plot can be done through modifying the figure object with plotly keywords:"
   ]
  },
  {
   "cell_type": "code",
   "execution_count": null,
   "id": "1f89e637",
   "metadata": {},
   "outputs": [],
   "source": [
    "fig.update_layout(title='hello')"
   ]
  },
  {
   "cell_type": "code",
   "execution_count": null,
   "id": "d865c2b2",
   "metadata": {},
   "outputs": [],
   "source": [
    "fig.update_traces(fill='tozeroy', fillcolor='white')"
   ]
  },
  {
   "cell_type": "markdown",
   "id": "5875ed23",
   "metadata": {},
   "source": [
    "**kamodo plot types**"
   ]
  },
  {
   "cell_type": "markdown",
   "id": "d31c3483",
   "metadata": {},
   "source": [
    "For step 3) above, kamodo used a mapping between function shapes and available plotting functions"
   ]
  },
  {
   "cell_type": "code",
   "execution_count": null,
   "id": "1bce6f69",
   "metadata": {},
   "outputs": [],
   "source": [
    "from kamodo.plotting import plot_types # a pandas dataframe storing registered plot types\n",
    "plot_types"
   ]
  },
  {
   "cell_type": "markdown",
   "id": "81c921b8",
   "metadata": {},
   "source": [
    "</details>"
   ]
  },
  {
   "cell_type": "markdown",
   "id": "c11dc8fc",
   "metadata": {},
   "source": [
    "Here we can see a `1d-line` plot type for functions for 1-dimensional functions, where the input shape tuple `(N)` matches the output shape tuple `(N)`"
   ]
  },
  {
   "cell_type": "markdown",
   "id": "34958ba1",
   "metadata": {},
   "source": [
    "This approach allows us to provide many plot types that fit a variety of situations."
   ]
  },
  {
   "cell_type": "markdown",
   "id": "baba936b",
   "metadata": {},
   "source": [
    "**Contour plots**"
   ]
  },
  {
   "cell_type": "code",
   "execution_count": null,
   "id": "f5b93820",
   "metadata": {},
   "outputs": [],
   "source": [
    "from kamodo import Kamodo\n",
    "@kamodofy(units = 'cm^2')\n",
    "def f_NM(x_N = np.linspace(0, 8*np.pi,100), y_M = np.linspace(0, 5, 90)):\n",
    "    x, y = np.meshgrid(x_N, y_M, indexing = 'xy')\n",
    "    return np.sin(x)*y\n",
    "\n",
    "k = Kamodo(f_NM = f_NM)\n",
    "k"
   ]
  },
  {
   "cell_type": "markdown",
   "id": "51f291f5",
   "metadata": {},
   "source": [
    "Kamodo utilizes function defaults to generate quick-look graphics:"
   ]
  },
  {
   "cell_type": "code",
   "execution_count": null,
   "id": "a5d305a5",
   "metadata": {},
   "outputs": [],
   "source": [
    "fig = k.plot('f_NM')\n",
    "fig"
   ]
  },
  {
   "cell_type": "markdown",
   "id": "6827a520",
   "metadata": {},
   "source": [
    "**Vector fields**"
   ]
  },
  {
   "cell_type": "code",
   "execution_count": null,
   "id": "9839a63f",
   "metadata": {},
   "outputs": [],
   "source": [
    "x = np.linspace(-np.pi, np.pi, 25)\n",
    "y = np.linspace(-np.pi, np.pi, 30)\n",
    "xx, yy = np.meshgrid(x,y)\n",
    "points = np.array(list(zip(xx.ravel(), yy.ravel())))\n",
    "\n",
    "def fvec_Ncomma2(rvec_Ncomma2 = points):\n",
    "    ux = np.sin(rvec_Ncomma2[:,0])\n",
    "    uy = np.cos(rvec_Ncomma2[:,1])\n",
    "    return np.vstack((ux,uy)).T\n",
    "\n",
    "k = Kamodo(fvec_Ncomma2 = fvec_Ncomma2)\n",
    "k"
   ]
  },
  {
   "cell_type": "code",
   "execution_count": null,
   "id": "3445e89f",
   "metadata": {},
   "outputs": [],
   "source": [
    "k.plot('fvec_Ncomma2')"
   ]
  },
  {
   "cell_type": "markdown",
   "id": "f3f0bc11",
   "metadata": {},
   "source": [
    "**3d vector field**"
   ]
  },
  {
   "cell_type": "code",
   "execution_count": null,
   "id": "73141e57",
   "metadata": {},
   "outputs": [],
   "source": [
    "x, y, z = np.meshgrid(np.linspace(-2,2,4),\n",
    "                      np.linspace(-3,3,6),\n",
    "                      np.linspace(-5,5,10))\n",
    "points = np.array(list(zip(x.ravel(), y.ravel(), z.ravel())))\n",
    "def fvec_Ncomma3(rvec_Ncomma3 = points):\n",
    "    return rvec_Ncomma3\n",
    "\n",
    "k = Kamodo(fvec_Ncomma3 = fvec_Ncomma3)\n",
    "k"
   ]
  },
  {
   "cell_type": "code",
   "execution_count": null,
   "id": "8bde58d4",
   "metadata": {},
   "outputs": [],
   "source": [
    "k.plot('fvec_Ncomma3')"
   ]
  },
  {
   "cell_type": "markdown",
   "id": "f2cb983b",
   "metadata": {},
   "source": [
    "More examples are given in the [Visualization](https://ensemblegovservices.github.io/kamodo-core/notebooks/Visualization/) section of the documentation, including:"
   ]
  }
 ],
 "metadata": {
  "jupytext": {
   "formats": "md,ipynb"
  },
  "kernelspec": {
   "display_name": "Python 3 (ipykernel)",
   "language": "python",
   "name": "python3"
  },
  "language_info": {
   "codemirror_mode": {
    "name": "ipython",
    "version": 3
   },
   "file_extension": ".py",
   "mimetype": "text/x-python",
   "name": "python",
   "nbconvert_exporter": "python",
   "pygments_lexer": "ipython3",
   "version": "3.7.12"
  }
 },
 "nbformat": 4,
 "nbformat_minor": 5
}
